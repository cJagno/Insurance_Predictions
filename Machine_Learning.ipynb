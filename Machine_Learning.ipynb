{
  "nbformat": 4,
  "nbformat_minor": 0,
  "metadata": {
    "colab": {
      "name": "Machine_Learning.ipynb",
      "provenance": [],
      "collapsed_sections": [],
      "authorship_tag": "ABX9TyNW1NNtIClhkKf92ZK48OVZ",
      "include_colab_link": true
    },
    "kernelspec": {
      "name": "python3",
      "display_name": "Python 3"
    },
    "language_info": {
      "name": "python"
    }
  },
  "cells": [
    {
      "cell_type": "markdown",
      "metadata": {
        "id": "view-in-github",
        "colab_type": "text"
      },
      "source": [
        "<a href=\"https://colab.research.google.com/github/cJagno/Insurance_Predictions/blob/main/Machine_Learning.ipynb\" target=\"_parent\"><img src=\"https://colab.research.google.com/assets/colab-badge.svg\" alt=\"Open In Colab\"/></a>"
      ]
    },
    {
      "cell_type": "code",
      "metadata": {
        "colab": {
          "base_uri": "https://localhost:8080/"
        },
        "id": "F3KbcTnWcvPq",
        "outputId": "5f46a566-29bd-4e3f-ed04-4e0972a9f7d9"
      },
      "source": [
        "from google.colab import drive\n",
        "drive.mount('/content/drive')"
      ],
      "execution_count": 266,
      "outputs": [
        {
          "output_type": "stream",
          "text": [
            "Drive already mounted at /content/drive; to attempt to forcibly remount, call drive.mount(\"/content/drive\", force_remount=True).\n"
          ],
          "name": "stdout"
        }
      ]
    },
    {
      "cell_type": "code",
      "metadata": {
        "id": "cp33clMIc6IX"
      },
      "source": [
        "import numpy as np\n",
        "import matplotlib.pyplot as plt\n",
        "import pandas as pd\n",
        "import seaborn as sns"
      ],
      "execution_count": 267,
      "outputs": []
    },
    {
      "cell_type": "code",
      "metadata": {
        "id": "kR30gKgcdFzr"
      },
      "source": [
        "df = pd.read_csv('/content/drive/MyDrive/PT_Data_Science/PandasForDataManipulation/insurance.csv')\n",
        "cf = pd.read_csv('/content/drive/MyDrive/PT_Data_Science/PandasForDataManipulation/insurance.csv')"
      ],
      "execution_count": 268,
      "outputs": []
    },
    {
      "cell_type": "code",
      "metadata": {
        "colab": {
          "base_uri": "https://localhost:8080/",
          "height": 203
        },
        "id": "WkPtNqjnmtBU",
        "outputId": "022325f0-1b83-47ba-cd50-d626725b56b3"
      },
      "source": [
        "df.head()"
      ],
      "execution_count": 269,
      "outputs": [
        {
          "output_type": "execute_result",
          "data": {
            "text/html": [
              "<div>\n",
              "<style scoped>\n",
              "    .dataframe tbody tr th:only-of-type {\n",
              "        vertical-align: middle;\n",
              "    }\n",
              "\n",
              "    .dataframe tbody tr th {\n",
              "        vertical-align: top;\n",
              "    }\n",
              "\n",
              "    .dataframe thead th {\n",
              "        text-align: right;\n",
              "    }\n",
              "</style>\n",
              "<table border=\"1\" class=\"dataframe\">\n",
              "  <thead>\n",
              "    <tr style=\"text-align: right;\">\n",
              "      <th></th>\n",
              "      <th>age</th>\n",
              "      <th>sex</th>\n",
              "      <th>bmi</th>\n",
              "      <th>children</th>\n",
              "      <th>smoker</th>\n",
              "      <th>region</th>\n",
              "      <th>charges</th>\n",
              "    </tr>\n",
              "  </thead>\n",
              "  <tbody>\n",
              "    <tr>\n",
              "      <th>0</th>\n",
              "      <td>19</td>\n",
              "      <td>female</td>\n",
              "      <td>27.900</td>\n",
              "      <td>0</td>\n",
              "      <td>yes</td>\n",
              "      <td>southwest</td>\n",
              "      <td>16884.92400</td>\n",
              "    </tr>\n",
              "    <tr>\n",
              "      <th>1</th>\n",
              "      <td>18</td>\n",
              "      <td>male</td>\n",
              "      <td>33.770</td>\n",
              "      <td>1</td>\n",
              "      <td>no</td>\n",
              "      <td>southeast</td>\n",
              "      <td>1725.55230</td>\n",
              "    </tr>\n",
              "    <tr>\n",
              "      <th>2</th>\n",
              "      <td>28</td>\n",
              "      <td>male</td>\n",
              "      <td>33.000</td>\n",
              "      <td>3</td>\n",
              "      <td>no</td>\n",
              "      <td>southeast</td>\n",
              "      <td>4449.46200</td>\n",
              "    </tr>\n",
              "    <tr>\n",
              "      <th>3</th>\n",
              "      <td>33</td>\n",
              "      <td>male</td>\n",
              "      <td>22.705</td>\n",
              "      <td>0</td>\n",
              "      <td>no</td>\n",
              "      <td>northwest</td>\n",
              "      <td>21984.47061</td>\n",
              "    </tr>\n",
              "    <tr>\n",
              "      <th>4</th>\n",
              "      <td>32</td>\n",
              "      <td>male</td>\n",
              "      <td>28.880</td>\n",
              "      <td>0</td>\n",
              "      <td>no</td>\n",
              "      <td>northwest</td>\n",
              "      <td>3866.85520</td>\n",
              "    </tr>\n",
              "  </tbody>\n",
              "</table>\n",
              "</div>"
            ],
            "text/plain": [
              "   age     sex     bmi  children smoker     region      charges\n",
              "0   19  female  27.900         0    yes  southwest  16884.92400\n",
              "1   18    male  33.770         1     no  southeast   1725.55230\n",
              "2   28    male  33.000         3     no  southeast   4449.46200\n",
              "3   33    male  22.705         0     no  northwest  21984.47061\n",
              "4   32    male  28.880         0     no  northwest   3866.85520"
            ]
          },
          "metadata": {},
          "execution_count": 269
        }
      ]
    },
    {
      "cell_type": "code",
      "metadata": {
        "colab": {
          "base_uri": "https://localhost:8080/"
        },
        "id": "9LiHEZtYmtkl",
        "outputId": "40d2c07b-7449-4c89-8668-177d05936ccf"
      },
      "source": [
        "df.info()"
      ],
      "execution_count": 270,
      "outputs": [
        {
          "output_type": "stream",
          "text": [
            "<class 'pandas.core.frame.DataFrame'>\n",
            "RangeIndex: 1338 entries, 0 to 1337\n",
            "Data columns (total 7 columns):\n",
            " #   Column    Non-Null Count  Dtype  \n",
            "---  ------    --------------  -----  \n",
            " 0   age       1338 non-null   int64  \n",
            " 1   sex       1338 non-null   object \n",
            " 2   bmi       1338 non-null   float64\n",
            " 3   children  1338 non-null   int64  \n",
            " 4   smoker    1338 non-null   object \n",
            " 5   region    1338 non-null   object \n",
            " 6   charges   1338 non-null   float64\n",
            "dtypes: float64(2), int64(2), object(3)\n",
            "memory usage: 73.3+ KB\n"
          ],
          "name": "stdout"
        }
      ]
    },
    {
      "cell_type": "code",
      "metadata": {
        "id": "CSvgIv0Cmvvg"
      },
      "source": [
        "cf['region'] = cf['region'].map({'southeast': 1,\n",
        "                                   'southwest': 2,\n",
        "                                   'northwest': 3,\n",
        "                                   'northeast': 4})"
      ],
      "execution_count": 271,
      "outputs": []
    },
    {
      "cell_type": "code",
      "metadata": {
        "id": "5YIGMg1jigIJ"
      },
      "source": [
        "cf['sex'] = cf['sex'].map({'female': 1,\n",
        "                           'male': 2})"
      ],
      "execution_count": 272,
      "outputs": []
    },
    {
      "cell_type": "code",
      "metadata": {
        "id": "VfRZ2c0gisSW"
      },
      "source": [
        "cf['smoker'] = cf['smoker'].map({'yes': 1,\n",
        "                                 'no': 0})"
      ],
      "execution_count": 273,
      "outputs": []
    },
    {
      "cell_type": "code",
      "metadata": {
        "id": "wxbVrtb9PG0g"
      },
      "source": [
        "df['smoker'] = df['smoker'].astype('bool')"
      ],
      "execution_count": 274,
      "outputs": []
    },
    {
      "cell_type": "code",
      "metadata": {
        "id": "oZ356H7khpCK"
      },
      "source": [
        "corr = cf.corr()"
      ],
      "execution_count": 275,
      "outputs": []
    },
    {
      "cell_type": "code",
      "metadata": {
        "colab": {
          "base_uri": "https://localhost:8080/",
          "height": 312
        },
        "id": "leAwXWiDg1Ez",
        "outputId": "d0169602-7103-468d-9487-79e83d131ec4"
      },
      "source": [
        "sns.heatmap(corr, cmap='Blues', annot=True)\n",
        "plt.title('Correlations');"
      ],
      "execution_count": 276,
      "outputs": [
        {
          "output_type": "display_data",
          "data": {
            "image/png": "[encoded data removed]",
            "text/plain": [
              "<Figure size 432x288 with 2 Axes>"
            ]
          },
          "metadata": {
            "needs_background": "light"
          }
        }
      ]
    },
    {
      "cell_type": "code",
      "metadata": {
        "colab": {
          "base_uri": "https://localhost:8080/",
          "height": 366
        },
        "id": "EJzJfeang6N5",
        "outputId": "57a5b423-d9dd-4b4b-bafe-f30a8da6a526"
      },
      "source": [
        "sns.barplot(df['region'], df['charges'])\n",
        "plt.title('Average Charges per Region')"
      ],
      "execution_count": 277,
      "outputs": [
        {
          "output_type": "stream",
          "text": [
            "/usr/local/lib/python3.7/dist-packages/seaborn/_decorators.py:43: FutureWarning: Pass the following variables as keyword args: x, y. From version 0.12, the only valid positional argument will be `data`, and passing other arguments without an explicit keyword will result in an error or misinterpretation.\n",
            "  FutureWarning\n"
          ],
          "name": "stderr"
        },
        {
          "output_type": "execute_result",
          "data": {
            "text/plain": [
              "Text(0.5, 1.0, 'Average Charges per Region')"
            ]
          },
          "metadata": {},
          "execution_count": 277
        },
        {
          "output_type": "display_data",
          "data": {
            "image/png": "[encoded data removed]",
            "text/plain": [
              "<Figure size 432x288 with 1 Axes>"
            ]
          },
          "metadata": {
            "needs_background": "light"
          }
        }
      ]
    },
    {
      "cell_type": "code",
      "metadata": {
        "colab": {
          "base_uri": "https://localhost:8080/",
          "height": 366
        },
        "id": "Sv7ltqzvHSUc",
        "outputId": "2f31ce73-882c-495d-d6dc-83077aecc427"
      },
      "source": [
        "sns.barplot(df['sex'], df['charges'])\n",
        "plt.title('Average Charges per Sex')"
      ],
      "execution_count": 278,
      "outputs": [
        {
          "output_type": "stream",
          "text": [
            "/usr/local/lib/python3.7/dist-packages/seaborn/_decorators.py:43: FutureWarning: Pass the following variables as keyword args: x, y. From version 0.12, the only valid positional argument will be `data`, and passing other arguments without an explicit keyword will result in an error or misinterpretation.\n",
            "  FutureWarning\n"
          ],
          "name": "stderr"
        },
        {
          "output_type": "execute_result",
          "data": {
            "text/plain": [
              "Text(0.5, 1.0, 'Average Charges per Sex')"
            ]
          },
          "metadata": {},
          "execution_count": 278
        },
        {
          "output_type": "display_data",
          "data": {
            "image/png": "[encoded data removed]",
            "text/plain": [
              "<Figure size 432x288 with 1 Axes>"
            ]
          },
          "metadata": {
            "needs_background": "light"
          }
        }
      ]
    },
    {
      "cell_type": "code",
      "metadata": {
        "id": "d4Ig0lYZGl17"
      },
      "source": [
        "southeast = df.loc[df['region']=='southeast',:]\n",
        "northeast = df.loc[df['region']=='northeast',:]"
      ],
      "execution_count": 279,
      "outputs": []
    },
    {
      "cell_type": "code",
      "metadata": {
        "colab": {
          "base_uri": "https://localhost:8080/",
          "height": 350
        },
        "id": "3wM4-U9DFqID",
        "outputId": "26cefbd5-59a3-4fa3-c857-e63948fd3fd2"
      },
      "source": [
        "sns.scatterplot(southeast['bmi'], southeast['charges'])"
      ],
      "execution_count": 280,
      "outputs": [
        {
          "output_type": "stream",
          "text": [
            "/usr/local/lib/python3.7/dist-packages/seaborn/_decorators.py:43: FutureWarning: Pass the following variables as keyword args: x, y. From version 0.12, the only valid positional argument will be `data`, and passing other arguments without an explicit keyword will result in an error or misinterpretation.\n",
            "  FutureWarning\n"
          ],
          "name": "stderr"
        },
        {
          "output_type": "execute_result",
          "data": {
            "text/plain": [
              "<matplotlib.axes._subplots.AxesSubplot at 0x7f4f32754dd0>"
            ]
          },
          "metadata": {},
          "execution_count": 280
        },
        {
          "output_type": "display_data",
          "data": {
            "image/png": "[encoded data removed]",
            "text/plain": [
              "<Figure size 432x288 with 1 Axes>"
            ]
          },
          "metadata": {
            "needs_background": "light"
          }
        }
      ]
    },
    {
      "cell_type": "code",
      "metadata": {
        "colab": {
          "base_uri": "https://localhost:8080/",
          "height": 350
        },
        "id": "2V2tKwAxHIdp",
        "outputId": "66715f76-789b-4d77-e267-c2ef231043a1"
      },
      "source": [
        "sns.scatterplot(northeast['bmi'], northeast['charges'])"
      ],
      "execution_count": 281,
      "outputs": [
        {
          "output_type": "stream",
          "text": [
            "/usr/local/lib/python3.7/dist-packages/seaborn/_decorators.py:43: FutureWarning: Pass the following variables as keyword args: x, y. From version 0.12, the only valid positional argument will be `data`, and passing other arguments without an explicit keyword will result in an error or misinterpretation.\n",
            "  FutureWarning\n"
          ],
          "name": "stderr"
        },
        {
          "output_type": "execute_result",
          "data": {
            "text/plain": [
              "<matplotlib.axes._subplots.AxesSubplot at 0x7f4f37a7b0d0>"
            ]
          },
          "metadata": {},
          "execution_count": 281
        },
        {
          "output_type": "display_data",
          "data": {
            "image/png": "[encoded data removed]",
            "text/plain": [
              "<Figure size 432x288 with 1 Axes>"
            ]
          },
          "metadata": {
            "needs_background": "light"
          }
        }
      ]
    },
    {
      "cell_type": "code",
      "metadata": {
        "id": "j3iIGuKrj76D"
      },
      "source": [
        "one_df = pd.get_dummies(df, columns=['region',\n",
        "                                     'sex',\n",
        "                                     'smoker'], drop_first = True)"
      ],
      "execution_count": 282,
      "outputs": []
    },
    {
      "cell_type": "code",
      "metadata": {
        "id": "IB6lDM4UPbGi"
      },
      "source": [
        "from sklearn.model_selection import train_test_split\n",
        "from sklearn.preprocessing import StandardScaler\n",
        "from sklearn.ensemble import GradientBoostingClassifier\n",
        "from sklearn.ensemble import RandomForestRegressor\n",
        "from sklearn.model_selection import GridSearchCV\n",
        "from sklearn.preprocessing import LabelEncoder, StandardScaler\n",
        "from sklearn.decomposition import PCA\n",
        "from sklearn.linear_model import LogisticRegression\n",
        "from sklearn.pipeline import make_pipeline"
      ],
      "execution_count": 283,
      "outputs": []
    },
    {
      "cell_type": "code",
      "metadata": {
        "id": "p1h01SykmAJo"
      },
      "source": [
        "X = one_df.drop(columns='charges')\n",
        "y = one_df['charges']"
      ],
      "execution_count": 284,
      "outputs": []
    },
    {
      "cell_type": "code",
      "metadata": {
        "id": "C1-9jWbkmYGD"
      },
      "source": [
        "X_train, X_test, y_train, y_test = train_test_split(X, y, random_state=42)"
      ],
      "execution_count": 285,
      "outputs": []
    },
    {
      "cell_type": "code",
      "metadata": {
        "id": "jK-Tr9GNmpxk"
      },
      "source": [
        "reg = LinearRegression()"
      ],
      "execution_count": 286,
      "outputs": []
    },
    {
      "cell_type": "code",
      "metadata": {
        "colab": {
          "base_uri": "https://localhost:8080/"
        },
        "id": "hBI1aI3xmw6A",
        "outputId": "4b81f98c-f38b-4bcf-cb8e-e0d68a10cf7f"
      },
      "source": [
        "reg.fit(X_train,y_train)"
      ],
      "execution_count": 287,
      "outputs": [
        {
          "output_type": "execute_result",
          "data": {
            "text/plain": [
              "LinearRegression(copy_X=True, fit_intercept=True, n_jobs=None, normalize=False)"
            ]
          },
          "metadata": {},
          "execution_count": 287
        }
      ]
    },
    {
      "cell_type": "code",
      "metadata": {
        "id": "lik5mYkEnANG"
      },
      "source": [
        "train_preds = reg.predict(X_train)\n",
        "test_preds = reg.predict(X_test)"
      ],
      "execution_count": 288,
      "outputs": []
    },
    {
      "cell_type": "code",
      "metadata": {
        "colab": {
          "base_uri": "https://localhost:8080/"
        },
        "id": "cUA_Ck6wnSuo",
        "outputId": "e53b1d77-5603-4014-9ae6-34528be33d0d"
      },
      "source": [
        "print('Training Score:',reg.score(X_train, y_train))\n",
        "print('Testing Score:',reg.score(X_test, y_test))"
      ],
      "execution_count": 289,
      "outputs": [
        {
          "output_type": "stream",
          "text": [
            "Training Score: 0.12195698613873451\n",
            "Testing Score: 0.13770706182234194\n"
          ],
          "name": "stdout"
        }
      ]
    },
    {
      "cell_type": "code",
      "metadata": {
        "id": "---C4rYJnU3a"
      },
      "source": [
        "rf = RandomForestRegressor(n_estimators = 275, max_depth= 5, min_samples_leaf=3,min_samples_split= 2, random_state= 42)"
      ],
      "execution_count": 290,
      "outputs": []
    },
    {
      "cell_type": "code",
      "metadata": {
        "colab": {
          "base_uri": "https://localhost:8080/"
        },
        "id": "jcntzdmcr8rc",
        "outputId": "f6c92f92-7fef-491a-b134-af525c622259"
      },
      "source": [
        "rf.fit(X_train,y_train)"
      ],
      "execution_count": 291,
      "outputs": [
        {
          "output_type": "execute_result",
          "data": {
            "text/plain": [
              "RandomForestRegressor(bootstrap=True, ccp_alpha=0.0, criterion='mse',\n",
              "                      max_depth=5, max_features='auto', max_leaf_nodes=None,\n",
              "                      max_samples=None, min_impurity_decrease=0.0,\n",
              "                      min_impurity_split=None, min_samples_leaf=3,\n",
              "                      min_samples_split=2, min_weight_fraction_leaf=0.0,\n",
              "                      n_estimators=275, n_jobs=None, oob_score=False,\n",
              "                      random_state=42, verbose=0, warm_start=False)"
            ]
          },
          "metadata": {},
          "execution_count": 291
        }
      ]
    },
    {
      "cell_type": "code",
      "metadata": {
        "id": "6cg_perl0gSv"
      },
      "source": [
        "estimator_range = [1] + list(range(10, 300, 10))\n",
        "scores = []\n",
        "for estimator in estimator_range:\n",
        "    rf = RandomForestRegressor(n_estimators=estimator,\n",
        "                                 random_state=0)\n",
        "    rf.fit(X_train, y_train)\n",
        "    scores.append(rf.score(X_test, y_test))"
      ],
      "execution_count": 292,
      "outputs": []
    },
    {
      "cell_type": "code",
      "metadata": {
        "colab": {
          "base_uri": "https://localhost:8080/",
          "height": 296
        },
        "id": "-BQI26sV0iD2",
        "outputId": "f2242b91-35c2-46a0-c3dc-62bd4a932df8"
      },
      "source": [
        "plt.plot(estimator_range, scores);\n",
        "plt.xlabel('estimator')\n",
        "plt.ylabel('score')"
      ],
      "execution_count": 293,
      "outputs": [
        {
          "output_type": "execute_result",
          "data": {
            "text/plain": [
              "Text(0, 0.5, 'score')"
            ]
          },
          "metadata": {},
          "execution_count": 293
        },
        {
          "output_type": "display_data",
          "data": {
            "image/png": "[encoded data removed]",
            "text/plain": [
              "<Figure size 432x288 with 1 Axes>"
            ]
          },
          "metadata": {
            "needs_background": "light"
          }
        }
      ]
    },
    {
      "cell_type": "code",
      "metadata": {
        "colab": {
          "base_uri": "https://localhost:8080/"
        },
        "id": "5fKhOFOu0lJ_",
        "outputId": "5c21d273-cdd6-4079-e11a-458b906a68a0"
      },
      "source": [
        "print('Training accuracy:', rf.score(X_train, y_train))\n",
        "print('Testing accuracy:', rf.score(X_test, y_test))"
      ],
      "execution_count": 294,
      "outputs": [
        {
          "output_type": "stream",
          "text": [
            "Training accuracy: 0.8531248451825562\n",
            "Testing accuracy: 0.03629542805878461\n"
          ],
          "name": "stdout"
        }
      ]
    },
    {
      "cell_type": "code",
      "metadata": {
        "id": "BmuaxoYbqYXr"
      },
      "source": [
        "params = {'n_jobs': [-1, 1],\n",
        "           'min_samples_split': [2, 4, 6],\n",
        "           'min_samples_leaf': [1, 3],\n",
        "          'max_depth': [None, 5]}"
      ],
      "execution_count": 295,
      "outputs": []
    },
    {
      "cell_type": "code",
      "metadata": {
        "id": "NjBiPGEIrp3L"
      },
      "source": [
        "gs = GridSearchCV(rf, params)"
      ],
      "execution_count": 296,
      "outputs": []
    },
    {
      "cell_type": "code",
      "metadata": {
        "colab": {
          "base_uri": "https://localhost:8080/"
        },
        "id": "XbLwSnOlrsKD",
        "outputId": "fe9a0cf5-553e-4f7a-db3c-8d64229fac9b"
      },
      "source": [
        "gs.fit(X_train, y_train)"
      ],
      "execution_count": 297,
      "outputs": [
        {
          "output_type": "execute_result",
          "data": {
            "text/plain": [
              "GridSearchCV(cv=None, error_score=nan,\n",
              "             estimator=RandomForestRegressor(bootstrap=True, ccp_alpha=0.0,\n",
              "                                             criterion='mse', max_depth=None,\n",
              "                                             max_features='auto',\n",
              "                                             max_leaf_nodes=None,\n",
              "                                             max_samples=None,\n",
              "                                             min_impurity_decrease=0.0,\n",
              "                                             min_impurity_split=None,\n",
              "                                             min_samples_leaf=1,\n",
              "                                             min_samples_split=2,\n",
              "                                             min_weight_fraction_leaf=0.0,\n",
              "                                             n_estimators=290, n_jobs=None,\n",
              "                                             oob_score=False, random_state=0,\n",
              "                                             verbose=0, warm_start=False),\n",
              "             iid='deprecated', n_jobs=None,\n",
              "             param_grid={'max_depth': [None, 5], 'min_samples_leaf': [1, 3],\n",
              "                         'min_samples_split': [2, 4, 6], 'n_jobs': [-1, 1]},\n",
              "             pre_dispatch='2*n_jobs', refit=True, return_train_score=False,\n",
              "             scoring=None, verbose=0)"
            ]
          },
          "metadata": {},
          "execution_count": 297
        }
      ]
    },
    {
      "cell_type": "code",
      "metadata": {
        "colab": {
          "base_uri": "https://localhost:8080/"
        },
        "id": "ACcLzA3tx4hJ",
        "outputId": "d275dd2f-24c9-4a90-d132-9abbc152809f"
      },
      "source": [
        "gs.best_params_"
      ],
      "execution_count": 298,
      "outputs": [
        {
          "output_type": "execute_result",
          "data": {
            "text/plain": [
              "{'max_depth': 5, 'min_samples_leaf': 1, 'min_samples_split': 2, 'n_jobs': 1}"
            ]
          },
          "metadata": {},
          "execution_count": 298
        }
      ]
    },
    {
      "cell_type": "code",
      "metadata": {
        "colab": {
          "base_uri": "https://localhost:8080/"
        },
        "id": "gEdhaUjdx8wm",
        "outputId": "e58972a9-6001-4095-d06e-2ec9099051c6"
      },
      "source": [
        "gs.best_score_"
      ],
      "execution_count": 299,
      "outputs": [
        {
          "output_type": "execute_result",
          "data": {
            "text/plain": [
              "0.06483622245846501"
            ]
          },
          "metadata": {},
          "execution_count": 299
        }
      ]
    },
    {
      "cell_type": "code",
      "metadata": {
        "colab": {
          "base_uri": "https://localhost:8080/",
          "height": 295
        },
        "id": "LHTH_Rg3Incz",
        "outputId": "9e6748c5-8986-430a-90c6-da8c641b5a7e"
      },
      "source": [
        "plt.figure(figsize = (8, 4))\n",
        "plt.scatter(pcs[:,0], pcs[:,1], c = y)\n",
        "plt.title('Visualization of all of our data using the first two Principal Components')\n",
        "plt.xlabel('PC1')\n",
        "plt.ylabel('PC2');"
      ],
      "execution_count": 300,
      "outputs": [
        {
          "output_type": "display_data",
          "data": {
            "image/png": "[encoded data removed]",
            "text/plain": [
              "<Figure size 576x288 with 1 Axes>"
            ]
          },
          "metadata": {
            "needs_background": "light"
          }
        }
      ]
    },
    {
      "cell_type": "code",
      "metadata": {
        "id": "aiL27OzVNcwc"
      },
      "source": [
        "from keras.wrappers.scikit_learn import KerasRegressor\n",
        "from keras.models import Sequential\n",
        "from keras.layers import Dense, Dropout, Activation\n",
        "from sklearn.metrics import accuracy_score"
      ],
      "execution_count": 341,
      "outputs": []
    },
    {
      "cell_type": "code",
      "metadata": {
        "colab": {
          "base_uri": "https://localhost:8080/"
        },
        "id": "EhjSak-YlYCE",
        "outputId": "59f9d53a-d2c3-42e2-b5e6-c77b145f4a2d"
      },
      "source": [
        "input_shape = X_train.shape[1:6]\n",
        "input_shape"
      ],
      "execution_count": 363,
      "outputs": [
        {
          "output_type": "execute_result",
          "data": {
            "text/plain": [
              "(7,)"
            ]
          },
          "metadata": {},
          "execution_count": 363
        }
      ]
    },
    {
      "cell_type": "code",
      "metadata": {
        "id": "VL81jpN-In1S"
      },
      "source": [
        "model = Sequential()"
      ],
      "execution_count": 364,
      "outputs": []
    },
    {
      "cell_type": "code",
      "metadata": {
        "id": "YlsDmA8LMPbW"
      },
      "source": [
        "model.add(Dense(6, input_shape = input_shape))\n",
        "model.add(Dense(3, activation='relu'))\n",
        "model.add(Dense(1))"
      ],
      "execution_count": 365,
      "outputs": []
    },
    {
      "cell_type": "code",
      "metadata": {
        "id": "aODa-LhUMvO6"
      },
      "source": [
        "model.compile(optimizer='adam', loss='mean_squared_error')"
      ],
      "execution_count": 366,
      "outputs": []
    },
    {
      "cell_type": "code",
      "metadata": {
        "colab": {
          "base_uri": "https://localhost:8080/"
        },
        "id": "jhy4CF0ZMzsS",
        "outputId": "f14da4b0-3047-4684-9093-7e217a5f3e1a"
      },
      "source": [
        "history = model.fit(X_train, y_train,\n",
        "                    validation_data = (X_test, y_test),\n",
        "                    epochs = 300)"
      ],
      "execution_count": 367,
      "outputs": [
        {
          "output_type": "stream",
          "text": [
            "Epoch 1/300\n",
            "32/32 [==============================] - 1s 8ms/step - loss: 321108256.0000 - val_loss: 327157504.0000\n",
            "Epoch 2/300\n",
            "32/32 [==============================] - 0s 3ms/step - loss: 321072480.0000 - val_loss: 327108544.0000\n",
            "Epoch 3/300\n",
            "32/32 [==============================] - 0s 4ms/step - loss: 321008864.0000 - val_loss: 327022656.0000\n",
            "Epoch 4/300\n",
            "32/32 [==============================] - 0s 4ms/step - loss: 320901024.0000 - val_loss: 326885856.0000\n",
            "Epoch 5/300\n",
            "32/32 [==============================] - 0s 4ms/step - loss: 320732128.0000 - val_loss: 326672384.0000\n",
            "Epoch 6/300\n",
            "32/32 [==============================] - 0s 4ms/step - loss: 320479200.0000 - val_loss: 326359264.0000\n",
            "Epoch 7/300\n",
            "32/32 [==============================] - 0s 4ms/step - loss: 320114752.0000 - val_loss: 325939104.0000\n",
            "Epoch 8/300\n",
            "32/32 [==============================] - 0s 5ms/step - loss: 319633312.0000 - val_loss: 325366176.0000\n",
            "Epoch 9/300\n",
            "32/32 [==============================] - 0s 3ms/step - loss: 319001984.0000 - val_loss: 324652224.0000\n",
            "Epoch 10/300\n",
            "32/32 [==============================] - 0s 3ms/step - loss: 318216288.0000 - val_loss: 323754016.0000\n",
            "Epoch 11/300\n",
            "32/32 [==============================] - 0s 4ms/step - loss: 317240672.0000 - val_loss: 322679648.0000\n",
            "Epoch 12/300\n",
            "32/32 [==============================] - 0s 3ms/step - loss: 316079872.0000 - val_loss: 321384608.0000\n",
            "Epoch 13/300\n",
            "32/32 [==============================] - 0s 3ms/step - loss: 314701184.0000 - val_loss: 319863392.0000\n",
            "Epoch 14/300\n",
            "32/32 [==============================] - 0s 3ms/step - loss: 313081376.0000 - val_loss: 318125280.0000\n",
            "Epoch 15/300\n",
            "32/32 [==============================] - 0s 3ms/step - loss: 311257280.0000 - val_loss: 316115456.0000\n",
            "Epoch 16/300\n",
            "32/32 [==============================] - 0s 3ms/step - loss: 309188096.0000 - val_loss: 313871264.0000\n",
            "Epoch 17/300\n",
            "32/32 [==============================] - 0s 4ms/step - loss: 306843616.0000 - val_loss: 311442208.0000\n",
            "Epoch 18/300\n",
            "32/32 [==============================] - 0s 3ms/step - loss: 304297344.0000 - val_loss: 308637600.0000\n",
            "Epoch 19/300\n",
            "32/32 [==============================] - 0s 3ms/step - loss: 301426720.0000 - val_loss: 305640352.0000\n",
            "Epoch 20/300\n",
            "32/32 [==============================] - 0s 4ms/step - loss: 298299616.0000 - val_loss: 302322272.0000\n",
            "Epoch 21/300\n",
            "32/32 [==============================] - 0s 4ms/step - loss: 294919744.0000 - val_loss: 298810464.0000\n",
            "Epoch 22/300\n",
            "32/32 [==============================] - 0s 3ms/step - loss: 291331200.0000 - val_loss: 294992736.0000\n",
            "Epoch 23/300\n",
            "32/32 [==============================] - 0s 3ms/step - loss: 287458240.0000 - val_loss: 290977024.0000\n",
            "Epoch 24/300\n",
            "32/32 [==============================] - 0s 4ms/step - loss: 283354528.0000 - val_loss: 286718400.0000\n",
            "Epoch 25/300\n",
            "32/32 [==============================] - 0s 3ms/step - loss: 279040160.0000 - val_loss: 282163776.0000\n",
            "Epoch 26/300\n",
            "32/32 [==============================] - 0s 3ms/step - loss: 274478240.0000 - val_loss: 277453696.0000\n",
            "Epoch 27/300\n",
            "32/32 [==============================] - 0s 3ms/step - loss: 269732384.0000 - val_loss: 272519968.0000\n",
            "Epoch 28/300\n",
            "32/32 [==============================] - 0s 3ms/step - loss: 264785136.0000 - val_loss: 267387712.0000\n",
            "Epoch 29/300\n",
            "32/32 [==============================] - 0s 4ms/step - loss: 259650576.0000 - val_loss: 262206624.0000\n",
            "Epoch 30/300\n",
            "32/32 [==============================] - 0s 3ms/step - loss: 254389984.0000 - val_loss: 256745856.0000\n",
            "Epoch 31/300\n",
            "32/32 [==============================] - 0s 3ms/step - loss: 248888112.0000 - val_loss: 251187904.0000\n",
            "Epoch 32/300\n",
            "32/32 [==============================] - 0s 3ms/step - loss: 243355824.0000 - val_loss: 245442544.0000\n",
            "Epoch 33/300\n",
            "32/32 [==============================] - 0s 3ms/step - loss: 237689936.0000 - val_loss: 239723968.0000\n",
            "Epoch 34/300\n",
            "32/32 [==============================] - 0s 2ms/step - loss: 232026288.0000 - val_loss: 233989168.0000\n",
            "Epoch 35/300\n",
            "32/32 [==============================] - 0s 3ms/step - loss: 226347520.0000 - val_loss: 228197056.0000\n",
            "Epoch 36/300\n",
            "32/32 [==============================] - 0s 3ms/step - loss: 220677296.0000 - val_loss: 222496704.0000\n",
            "Epoch 37/300\n",
            "32/32 [==============================] - 0s 2ms/step - loss: 215001600.0000 - val_loss: 216747744.0000\n",
            "Epoch 38/300\n",
            "32/32 [==============================] - 0s 3ms/step - loss: 209380224.0000 - val_loss: 211066192.0000\n",
            "Epoch 39/300\n",
            "32/32 [==============================] - 0s 3ms/step - loss: 203871440.0000 - val_loss: 205595680.0000\n",
            "Epoch 40/300\n",
            "32/32 [==============================] - 0s 3ms/step - loss: 198462160.0000 - val_loss: 200119280.0000\n",
            "Epoch 41/300\n",
            "32/32 [==============================] - 0s 3ms/step - loss: 193098528.0000 - val_loss: 194804016.0000\n",
            "Epoch 42/300\n",
            "32/32 [==============================] - 0s 3ms/step - loss: 187877600.0000 - val_loss: 189656784.0000\n",
            "Epoch 43/300\n",
            "32/32 [==============================] - 0s 3ms/step - loss: 182921056.0000 - val_loss: 184692144.0000\n",
            "Epoch 44/300\n",
            "32/32 [==============================] - 0s 2ms/step - loss: 178169056.0000 - val_loss: 179907824.0000\n",
            "Epoch 45/300\n",
            "32/32 [==============================] - 0s 4ms/step - loss: 173553072.0000 - val_loss: 175342736.0000\n",
            "Epoch 46/300\n",
            "32/32 [==============================] - 0s 3ms/step - loss: 169202448.0000 - val_loss: 171180896.0000\n",
            "Epoch 47/300\n",
            "32/32 [==============================] - 0s 3ms/step - loss: 165163616.0000 - val_loss: 167073472.0000\n",
            "Epoch 48/300\n",
            "32/32 [==============================] - 0s 4ms/step - loss: 161337552.0000 - val_loss: 163447040.0000\n",
            "Epoch 49/300\n",
            "32/32 [==============================] - 0s 4ms/step - loss: 157766400.0000 - val_loss: 159898992.0000\n",
            "Epoch 50/300\n",
            "32/32 [==============================] - 0s 3ms/step - loss: 154450832.0000 - val_loss: 156772448.0000\n",
            "Epoch 51/300\n",
            "32/32 [==============================] - 0s 3ms/step - loss: 151448144.0000 - val_loss: 153862128.0000\n",
            "Epoch 52/300\n",
            "32/32 [==============================] - 0s 3ms/step - loss: 148668288.0000 - val_loss: 151205792.0000\n",
            "Epoch 53/300\n",
            "32/32 [==============================] - 0s 3ms/step - loss: 146187120.0000 - val_loss: 148810880.0000\n",
            "Epoch 54/300\n",
            "32/32 [==============================] - 0s 4ms/step - loss: 143951664.0000 - val_loss: 146687680.0000\n",
            "Epoch 55/300\n",
            "32/32 [==============================] - 0s 4ms/step - loss: 141929744.0000 - val_loss: 144753648.0000\n",
            "Epoch 56/300\n",
            "32/32 [==============================] - 0s 4ms/step - loss: 140123536.0000 - val_loss: 143000672.0000\n",
            "Epoch 57/300\n",
            "32/32 [==============================] - 0s 3ms/step - loss: 138484672.0000 - val_loss: 141495856.0000\n",
            "Epoch 58/300\n",
            "32/32 [==============================] - 0s 3ms/step - loss: 137128800.0000 - val_loss: 140207952.0000\n",
            "Epoch 59/300\n",
            "32/32 [==============================] - 0s 3ms/step - loss: 135953072.0000 - val_loss: 139051040.0000\n",
            "Epoch 60/300\n",
            "32/32 [==============================] - 0s 4ms/step - loss: 134925312.0000 - val_loss: 138041104.0000\n",
            "Epoch 61/300\n",
            "32/32 [==============================] - 0s 4ms/step - loss: 134003456.0000 - val_loss: 137275216.0000\n",
            "Epoch 62/300\n",
            "32/32 [==============================] - 0s 3ms/step - loss: 133268224.0000 - val_loss: 136610496.0000\n",
            "Epoch 63/300\n",
            "32/32 [==============================] - 0s 3ms/step - loss: 132641848.0000 - val_loss: 135964320.0000\n",
            "Epoch 64/300\n",
            "32/32 [==============================] - 0s 5ms/step - loss: 132084616.0000 - val_loss: 135461440.0000\n",
            "Epoch 65/300\n",
            "32/32 [==============================] - 0s 4ms/step - loss: 131654624.0000 - val_loss: 135019952.0000\n",
            "Epoch 66/300\n",
            "32/32 [==============================] - 0s 3ms/step - loss: 131269088.0000 - val_loss: 134755424.0000\n",
            "Epoch 67/300\n",
            "32/32 [==============================] - 0s 5ms/step - loss: 131023912.0000 - val_loss: 134464592.0000\n",
            "Epoch 68/300\n",
            "32/32 [==============================] - 0s 5ms/step - loss: 130769176.0000 - val_loss: 134272240.0000\n",
            "Epoch 69/300\n",
            "32/32 [==============================] - 0s 3ms/step - loss: 130597072.0000 - val_loss: 134081912.0000\n",
            "Epoch 70/300\n",
            "32/32 [==============================] - 0s 4ms/step - loss: 130421072.0000 - val_loss: 133965112.0000\n",
            "Epoch 71/300\n",
            "32/32 [==============================] - 0s 3ms/step - loss: 130284472.0000 - val_loss: 133854384.0000\n",
            "Epoch 72/300\n",
            "32/32 [==============================] - 0s 3ms/step - loss: 130182360.0000 - val_loss: 133752728.0000\n",
            "Epoch 73/300\n",
            "32/32 [==============================] - 0s 3ms/step - loss: 130103448.0000 - val_loss: 133651096.0000\n",
            "Epoch 74/300\n",
            "32/32 [==============================] - 0s 3ms/step - loss: 130030376.0000 - val_loss: 133607904.0000\n",
            "Epoch 75/300\n",
            "32/32 [==============================] - 0s 3ms/step - loss: 129987528.0000 - val_loss: 133543408.0000\n",
            "Epoch 76/300\n",
            "32/32 [==============================] - 0s 2ms/step - loss: 129931952.0000 - val_loss: 133513904.0000\n",
            "Epoch 77/300\n",
            "32/32 [==============================] - 0s 4ms/step - loss: 129916672.0000 - val_loss: 133483784.0000\n",
            "Epoch 78/300\n",
            "32/32 [==============================] - 0s 3ms/step - loss: 129889128.0000 - val_loss: 133460896.0000\n",
            "Epoch 79/300\n",
            "32/32 [==============================] - 0s 3ms/step - loss: 129871040.0000 - val_loss: 133444344.0000\n",
            "Epoch 80/300\n",
            "32/32 [==============================] - 0s 2ms/step - loss: 129854760.0000 - val_loss: 133442712.0000\n",
            "Epoch 81/300\n",
            "32/32 [==============================] - 0s 2ms/step - loss: 129851632.0000 - val_loss: 133431576.0000\n",
            "Epoch 82/300\n",
            "32/32 [==============================] - 0s 3ms/step - loss: 129848520.0000 - val_loss: 133429304.0000\n",
            "Epoch 83/300\n",
            "32/32 [==============================] - 0s 3ms/step - loss: 129845800.0000 - val_loss: 133418384.0000\n",
            "Epoch 84/300\n",
            "32/32 [==============================] - 0s 3ms/step - loss: 129834000.0000 - val_loss: 133418192.0000\n",
            "Epoch 85/300\n",
            "32/32 [==============================] - 0s 2ms/step - loss: 129835352.0000 - val_loss: 133415048.0000\n",
            "Epoch 86/300\n",
            "32/32 [==============================] - 0s 3ms/step - loss: 129827424.0000 - val_loss: 133409920.0000\n",
            "Epoch 87/300\n",
            "32/32 [==============================] - 0s 4ms/step - loss: 129841592.0000 - val_loss: 133404552.0000\n",
            "Epoch 88/300\n",
            "32/32 [==============================] - 0s 3ms/step - loss: 129820344.0000 - val_loss: 133407464.0000\n",
            "Epoch 89/300\n",
            "32/32 [==============================] - 0s 4ms/step - loss: 129824248.0000 - val_loss: 133404384.0000\n",
            "Epoch 90/300\n",
            "32/32 [==============================] - 0s 3ms/step - loss: 129818320.0000 - val_loss: 133401328.0000\n",
            "Epoch 91/300\n",
            "32/32 [==============================] - 0s 3ms/step - loss: 129821408.0000 - val_loss: 133403336.0000\n",
            "Epoch 92/300\n",
            "32/32 [==============================] - 0s 3ms/step - loss: 129826112.0000 - val_loss: 133398720.0000\n",
            "Epoch 93/300\n",
            "32/32 [==============================] - 0s 3ms/step - loss: 129832016.0000 - val_loss: 133399088.0000\n",
            "Epoch 94/300\n",
            "32/32 [==============================] - 0s 3ms/step - loss: 129808776.0000 - val_loss: 133394056.0000\n",
            "Epoch 95/300\n",
            "32/32 [==============================] - 0s 4ms/step - loss: 129807416.0000 - val_loss: 133390936.0000\n",
            "Epoch 96/300\n",
            "32/32 [==============================] - 0s 3ms/step - loss: 129817400.0000 - val_loss: 133388280.0000\n",
            "Epoch 97/300\n",
            "32/32 [==============================] - 0s 3ms/step - loss: 129812328.0000 - val_loss: 133386680.0000\n",
            "Epoch 98/300\n",
            "32/32 [==============================] - 0s 3ms/step - loss: 129829616.0000 - val_loss: 133384856.0000\n",
            "Epoch 99/300\n",
            "32/32 [==============================] - 0s 3ms/step - loss: 129811656.0000 - val_loss: 133383256.0000\n",
            "Epoch 100/300\n",
            "32/32 [==============================] - 0s 4ms/step - loss: 129800616.0000 - val_loss: 133382568.0000\n",
            "Epoch 101/300\n",
            "32/32 [==============================] - 0s 3ms/step - loss: 129812048.0000 - val_loss: 133380920.0000\n",
            "Epoch 102/300\n",
            "32/32 [==============================] - 0s 3ms/step - loss: 129801688.0000 - val_loss: 133379768.0000\n",
            "Epoch 103/300\n",
            "32/32 [==============================] - 0s 2ms/step - loss: 129801600.0000 - val_loss: 133377912.0000\n",
            "Epoch 104/300\n",
            "32/32 [==============================] - 0s 3ms/step - loss: 129800680.0000 - val_loss: 133376424.0000\n",
            "Epoch 105/300\n",
            "32/32 [==============================] - 0s 3ms/step - loss: 129813504.0000 - val_loss: 133374688.0000\n",
            "Epoch 106/300\n",
            "32/32 [==============================] - 0s 3ms/step - loss: 129793704.0000 - val_loss: 133373072.0000\n",
            "Epoch 107/300\n",
            "32/32 [==============================] - 0s 2ms/step - loss: 129811776.0000 - val_loss: 133373080.0000\n",
            "Epoch 108/300\n",
            "32/32 [==============================] - 0s 3ms/step - loss: 129800496.0000 - val_loss: 133369712.0000\n",
            "Epoch 109/300\n",
            "32/32 [==============================] - 0s 3ms/step - loss: 129811392.0000 - val_loss: 133370808.0000\n",
            "Epoch 110/300\n",
            "32/32 [==============================] - 0s 3ms/step - loss: 129790600.0000 - val_loss: 133368400.0000\n",
            "Epoch 111/300\n",
            "32/32 [==============================] - 0s 3ms/step - loss: 129802296.0000 - val_loss: 133365232.0000\n",
            "Epoch 112/300\n",
            "32/32 [==============================] - 0s 4ms/step - loss: 129796448.0000 - val_loss: 133365096.0000\n",
            "Epoch 113/300\n",
            "32/32 [==============================] - 0s 3ms/step - loss: 129795296.0000 - val_loss: 133362680.0000\n",
            "Epoch 114/300\n",
            "32/32 [==============================] - 0s 3ms/step - loss: 129796536.0000 - val_loss: 133365464.0000\n",
            "Epoch 115/300\n",
            "32/32 [==============================] - 0s 3ms/step - loss: 129801608.0000 - val_loss: 133367480.0000\n",
            "Epoch 116/300\n",
            "32/32 [==============================] - 0s 3ms/step - loss: 129803776.0000 - val_loss: 133359680.0000\n",
            "Epoch 117/300\n",
            "32/32 [==============================] - 0s 3ms/step - loss: 129814144.0000 - val_loss: 133364392.0000\n",
            "Epoch 118/300\n",
            "32/32 [==============================] - 0s 4ms/step - loss: 129798000.0000 - val_loss: 133363592.0000\n",
            "Epoch 119/300\n",
            "32/32 [==============================] - 0s 3ms/step - loss: 129784048.0000 - val_loss: 133358824.0000\n",
            "Epoch 120/300\n",
            "32/32 [==============================] - 0s 4ms/step - loss: 129789432.0000 - val_loss: 133354840.0000\n",
            "Epoch 121/300\n",
            "32/32 [==============================] - 0s 4ms/step - loss: 129780120.0000 - val_loss: 133351832.0000\n",
            "Epoch 122/300\n",
            "32/32 [==============================] - 0s 3ms/step - loss: 129778344.0000 - val_loss: 133348664.0000\n",
            "Epoch 123/300\n",
            "32/32 [==============================] - 0s 3ms/step - loss: 129806480.0000 - val_loss: 133347640.0000\n",
            "Epoch 124/300\n",
            "32/32 [==============================] - 0s 3ms/step - loss: 129775808.0000 - val_loss: 133346040.0000\n",
            "Epoch 125/300\n",
            "32/32 [==============================] - 0s 3ms/step - loss: 129769600.0000 - val_loss: 133345168.0000\n",
            "Epoch 126/300\n",
            "32/32 [==============================] - 0s 3ms/step - loss: 129793416.0000 - val_loss: 133348032.0000\n",
            "Epoch 127/300\n",
            "32/32 [==============================] - 0s 4ms/step - loss: 129775856.0000 - val_loss: 133344656.0000\n",
            "Epoch 128/300\n",
            "32/32 [==============================] - 0s 4ms/step - loss: 129781736.0000 - val_loss: 133341320.0000\n",
            "Epoch 129/300\n",
            "32/32 [==============================] - 0s 3ms/step - loss: 129771968.0000 - val_loss: 133339104.0000\n",
            "Epoch 130/300\n",
            "32/32 [==============================] - 0s 3ms/step - loss: 129782200.0000 - val_loss: 133338936.0000\n",
            "Epoch 131/300\n",
            "32/32 [==============================] - 0s 4ms/step - loss: 129777800.0000 - val_loss: 133335744.0000\n",
            "Epoch 132/300\n",
            "32/32 [==============================] - 0s 3ms/step - loss: 129772536.0000 - val_loss: 133334800.0000\n",
            "Epoch 133/300\n",
            "32/32 [==============================] - 0s 4ms/step - loss: 129779840.0000 - val_loss: 133333456.0000\n",
            "Epoch 134/300\n",
            "32/32 [==============================] - 0s 2ms/step - loss: 129778408.0000 - val_loss: 133332112.0000\n",
            "Epoch 135/300\n",
            "32/32 [==============================] - 0s 3ms/step - loss: 129774824.0000 - val_loss: 133330440.0000\n",
            "Epoch 136/300\n",
            "32/32 [==============================] - 0s 4ms/step - loss: 129763640.0000 - val_loss: 133329824.0000\n",
            "Epoch 137/300\n",
            "32/32 [==============================] - 0s 4ms/step - loss: 129765024.0000 - val_loss: 133328944.0000\n",
            "Epoch 138/300\n",
            "32/32 [==============================] - 0s 4ms/step - loss: 129762368.0000 - val_loss: 133326856.0000\n",
            "Epoch 139/300\n",
            "32/32 [==============================] - 0s 3ms/step - loss: 129767960.0000 - val_loss: 133326744.0000\n",
            "Epoch 140/300\n",
            "32/32 [==============================] - 0s 3ms/step - loss: 129760928.0000 - val_loss: 133323280.0000\n",
            "Epoch 141/300\n",
            "32/32 [==============================] - 0s 3ms/step - loss: 129771056.0000 - val_loss: 133322280.0000\n",
            "Epoch 142/300\n",
            "32/32 [==============================] - 0s 3ms/step - loss: 129782472.0000 - val_loss: 133320168.0000\n",
            "Epoch 143/300\n",
            "32/32 [==============================] - 0s 3ms/step - loss: 129763000.0000 - val_loss: 133319240.0000\n",
            "Epoch 144/300\n",
            "32/32 [==============================] - 0s 4ms/step - loss: 129756784.0000 - val_loss: 133318440.0000\n",
            "Epoch 145/300\n",
            "32/32 [==============================] - 0s 3ms/step - loss: 129765520.0000 - val_loss: 133316416.0000\n",
            "Epoch 146/300\n",
            "32/32 [==============================] - 0s 4ms/step - loss: 129760720.0000 - val_loss: 133315176.0000\n",
            "Epoch 147/300\n",
            "32/32 [==============================] - 0s 3ms/step - loss: 129756064.0000 - val_loss: 133313664.0000\n",
            "Epoch 148/300\n",
            "32/32 [==============================] - 0s 3ms/step - loss: 129751752.0000 - val_loss: 133312288.0000\n",
            "Epoch 149/300\n",
            "32/32 [==============================] - 0s 2ms/step - loss: 129760784.0000 - val_loss: 133310792.0000\n",
            "Epoch 150/300\n",
            "32/32 [==============================] - 0s 3ms/step - loss: 129751432.0000 - val_loss: 133309024.0000\n",
            "Epoch 151/300\n",
            "32/32 [==============================] - 0s 3ms/step - loss: 129759424.0000 - val_loss: 133308744.0000\n",
            "Epoch 152/300\n",
            "32/32 [==============================] - 0s 3ms/step - loss: 129750568.0000 - val_loss: 133305920.0000\n",
            "Epoch 153/300\n",
            "32/32 [==============================] - 0s 4ms/step - loss: 129763280.0000 - val_loss: 133304808.0000\n",
            "Epoch 154/300\n",
            "32/32 [==============================] - 0s 4ms/step - loss: 129768224.0000 - val_loss: 133303840.0000\n",
            "Epoch 155/300\n",
            "32/32 [==============================] - 0s 3ms/step - loss: 129768192.0000 - val_loss: 133302984.0000\n",
            "Epoch 156/300\n",
            "32/32 [==============================] - 0s 3ms/step - loss: 129745112.0000 - val_loss: 133301040.0000\n",
            "Epoch 157/300\n",
            "32/32 [==============================] - 0s 4ms/step - loss: 129744056.0000 - val_loss: 133299552.0000\n",
            "Epoch 158/300\n",
            "32/32 [==============================] - 0s 3ms/step - loss: 129789816.0000 - val_loss: 133298320.0000\n",
            "Epoch 159/300\n",
            "32/32 [==============================] - 0s 2ms/step - loss: 129742200.0000 - val_loss: 133295920.0000\n",
            "Epoch 160/300\n",
            "32/32 [==============================] - 0s 3ms/step - loss: 129754656.0000 - val_loss: 133294184.0000\n",
            "Epoch 161/300\n",
            "32/32 [==============================] - 0s 3ms/step - loss: 129747368.0000 - val_loss: 133292952.0000\n",
            "Epoch 162/300\n",
            "32/32 [==============================] - 0s 3ms/step - loss: 129736456.0000 - val_loss: 133291632.0000\n",
            "Epoch 163/300\n",
            "32/32 [==============================] - 0s 3ms/step - loss: 129736776.0000 - val_loss: 133289896.0000\n",
            "Epoch 164/300\n",
            "32/32 [==============================] - 0s 4ms/step - loss: 129745160.0000 - val_loss: 133289624.0000\n",
            "Epoch 165/300\n",
            "32/32 [==============================] - 0s 3ms/step - loss: 129748144.0000 - val_loss: 133288632.0000\n",
            "Epoch 166/300\n",
            "32/32 [==============================] - 0s 4ms/step - loss: 129739848.0000 - val_loss: 133287200.0000\n",
            "Epoch 167/300\n",
            "32/32 [==============================] - 0s 3ms/step - loss: 129734656.0000 - val_loss: 133285280.0000\n",
            "Epoch 168/300\n",
            "32/32 [==============================] - 0s 4ms/step - loss: 129735824.0000 - val_loss: 133283888.0000\n",
            "Epoch 169/300\n",
            "32/32 [==============================] - 0s 4ms/step - loss: 129772488.0000 - val_loss: 133286368.0000\n",
            "Epoch 170/300\n",
            "32/32 [==============================] - 0s 4ms/step - loss: 129741232.0000 - val_loss: 133281336.0000\n",
            "Epoch 171/300\n",
            "32/32 [==============================] - 0s 4ms/step - loss: 129727000.0000 - val_loss: 133279680.0000\n",
            "Epoch 172/300\n",
            "32/32 [==============================] - 0s 4ms/step - loss: 129738992.0000 - val_loss: 133277784.0000\n",
            "Epoch 173/300\n",
            "32/32 [==============================] - 0s 4ms/step - loss: 129725128.0000 - val_loss: 133276752.0000\n",
            "Epoch 174/300\n",
            "32/32 [==============================] - 0s 4ms/step - loss: 129754720.0000 - val_loss: 133277448.0000\n",
            "Epoch 175/300\n",
            "32/32 [==============================] - 0s 3ms/step - loss: 129719376.0000 - val_loss: 133273864.0000\n",
            "Epoch 176/300\n",
            "32/32 [==============================] - 0s 4ms/step - loss: 129730440.0000 - val_loss: 133272616.0000\n",
            "Epoch 177/300\n",
            "32/32 [==============================] - 0s 4ms/step - loss: 129739104.0000 - val_loss: 133272272.0000\n",
            "Epoch 178/300\n",
            "32/32 [==============================] - 0s 4ms/step - loss: 129750512.0000 - val_loss: 133269208.0000\n",
            "Epoch 179/300\n",
            "32/32 [==============================] - 0s 5ms/step - loss: 129728488.0000 - val_loss: 133268848.0000\n",
            "Epoch 180/300\n",
            "32/32 [==============================] - 0s 4ms/step - loss: 129739952.0000 - val_loss: 133267440.0000\n",
            "Epoch 181/300\n",
            "32/32 [==============================] - 0s 4ms/step - loss: 129717064.0000 - val_loss: 133266528.0000\n",
            "Epoch 182/300\n",
            "32/32 [==============================] - 0s 4ms/step - loss: 129727032.0000 - val_loss: 133264312.0000\n",
            "Epoch 183/300\n",
            "32/32 [==============================] - 0s 3ms/step - loss: 129718832.0000 - val_loss: 133263312.0000\n",
            "Epoch 184/300\n",
            "32/32 [==============================] - 0s 3ms/step - loss: 129714488.0000 - val_loss: 133261376.0000\n",
            "Epoch 185/300\n",
            "32/32 [==============================] - 0s 4ms/step - loss: 129721000.0000 - val_loss: 133259640.0000\n",
            "Epoch 186/300\n",
            "32/32 [==============================] - 0s 4ms/step - loss: 129719560.0000 - val_loss: 133258992.0000\n",
            "Epoch 187/300\n",
            "32/32 [==============================] - 0s 4ms/step - loss: 129736088.0000 - val_loss: 133259872.0000\n",
            "Epoch 188/300\n",
            "32/32 [==============================] - 0s 4ms/step - loss: 129726256.0000 - val_loss: 133255520.0000\n",
            "Epoch 189/300\n",
            "32/32 [==============================] - 0s 4ms/step - loss: 129720312.0000 - val_loss: 133254504.0000\n",
            "Epoch 190/300\n",
            "32/32 [==============================] - 0s 7ms/step - loss: 129708976.0000 - val_loss: 133253080.0000\n",
            "Epoch 191/300\n",
            "32/32 [==============================] - 0s 5ms/step - loss: 129717592.0000 - val_loss: 133251760.0000\n",
            "Epoch 192/300\n",
            "32/32 [==============================] - 0s 4ms/step - loss: 129711448.0000 - val_loss: 133250144.0000\n",
            "Epoch 193/300\n",
            "32/32 [==============================] - 0s 5ms/step - loss: 129717256.0000 - val_loss: 133248432.0000\n",
            "Epoch 194/300\n",
            "32/32 [==============================] - 0s 4ms/step - loss: 129711608.0000 - val_loss: 133247560.0000\n",
            "Epoch 195/300\n",
            "32/32 [==============================] - 0s 2ms/step - loss: 129701136.0000 - val_loss: 133246208.0000\n",
            "Epoch 196/300\n",
            "32/32 [==============================] - 0s 5ms/step - loss: 129719216.0000 - val_loss: 133245288.0000\n",
            "Epoch 197/300\n",
            "32/32 [==============================] - 0s 4ms/step - loss: 129700024.0000 - val_loss: 133243320.0000\n",
            "Epoch 198/300\n",
            "32/32 [==============================] - 0s 3ms/step - loss: 129704968.0000 - val_loss: 133242168.0000\n",
            "Epoch 199/300\n",
            "32/32 [==============================] - 0s 3ms/step - loss: 129708608.0000 - val_loss: 133241000.0000\n",
            "Epoch 200/300\n",
            "32/32 [==============================] - 0s 3ms/step - loss: 129712360.0000 - val_loss: 133240616.0000\n",
            "Epoch 201/300\n",
            "32/32 [==============================] - 0s 4ms/step - loss: 129711296.0000 - val_loss: 133239288.0000\n",
            "Epoch 202/300\n",
            "32/32 [==============================] - 0s 3ms/step - loss: 129701672.0000 - val_loss: 133237024.0000\n",
            "Epoch 203/300\n",
            "32/32 [==============================] - 0s 3ms/step - loss: 129701240.0000 - val_loss: 133237024.0000\n",
            "Epoch 204/300\n",
            "32/32 [==============================] - 0s 3ms/step - loss: 129703160.0000 - val_loss: 133236568.0000\n",
            "Epoch 205/300\n",
            "32/32 [==============================] - 0s 3ms/step - loss: 129697808.0000 - val_loss: 133233416.0000\n",
            "Epoch 206/300\n",
            "32/32 [==============================] - 0s 4ms/step - loss: 129711592.0000 - val_loss: 133232440.0000\n",
            "Epoch 207/300\n",
            "32/32 [==============================] - 0s 4ms/step - loss: 129714328.0000 - val_loss: 133232192.0000\n",
            "Epoch 208/300\n",
            "32/32 [==============================] - 0s 4ms/step - loss: 129690504.0000 - val_loss: 133228992.0000\n",
            "Epoch 209/300\n",
            "32/32 [==============================] - 0s 5ms/step - loss: 129702128.0000 - val_loss: 133227744.0000\n",
            "Epoch 210/300\n",
            "32/32 [==============================] - 0s 3ms/step - loss: 129703432.0000 - val_loss: 133226032.0000\n",
            "Epoch 211/300\n",
            "32/32 [==============================] - 0s 3ms/step - loss: 129693464.0000 - val_loss: 133224904.0000\n",
            "Epoch 212/300\n",
            "32/32 [==============================] - 0s 5ms/step - loss: 129706744.0000 - val_loss: 133223784.0000\n",
            "Epoch 213/300\n",
            "32/32 [==============================] - 0s 3ms/step - loss: 129694032.0000 - val_loss: 133221872.0000\n",
            "Epoch 214/300\n",
            "32/32 [==============================] - 0s 3ms/step - loss: 129693624.0000 - val_loss: 133221240.0000\n",
            "Epoch 215/300\n",
            "32/32 [==============================] - 0s 3ms/step - loss: 129696576.0000 - val_loss: 133220912.0000\n",
            "Epoch 216/300\n",
            "32/32 [==============================] - 0s 3ms/step - loss: 129692744.0000 - val_loss: 133218160.0000\n",
            "Epoch 217/300\n",
            "32/32 [==============================] - 0s 4ms/step - loss: 129696560.0000 - val_loss: 133215928.0000\n",
            "Epoch 218/300\n",
            "32/32 [==============================] - 0s 4ms/step - loss: 129700400.0000 - val_loss: 133215520.0000\n",
            "Epoch 219/300\n",
            "32/32 [==============================] - 0s 3ms/step - loss: 129680240.0000 - val_loss: 133213720.0000\n",
            "Epoch 220/300\n",
            "32/32 [==============================] - 0s 3ms/step - loss: 129710208.0000 - val_loss: 133213624.0000\n",
            "Epoch 221/300\n",
            "32/32 [==============================] - 0s 4ms/step - loss: 129675992.0000 - val_loss: 133211288.0000\n",
            "Epoch 222/300\n",
            "32/32 [==============================] - 0s 4ms/step - loss: 129689472.0000 - val_loss: 133211592.0000\n",
            "Epoch 223/300\n",
            "32/32 [==============================] - 0s 4ms/step - loss: 129683904.0000 - val_loss: 133208936.0000\n",
            "Epoch 224/300\n",
            "32/32 [==============================] - 0s 4ms/step - loss: 129709000.0000 - val_loss: 133210536.0000\n",
            "Epoch 225/300\n",
            "32/32 [==============================] - 0s 6ms/step - loss: 129707568.0000 - val_loss: 133206248.0000\n",
            "Epoch 226/300\n",
            "32/32 [==============================] - 0s 4ms/step - loss: 129666296.0000 - val_loss: 133205672.0000\n",
            "Epoch 227/300\n",
            "32/32 [==============================] - 0s 4ms/step - loss: 129676944.0000 - val_loss: 133204600.0000\n",
            "Epoch 228/300\n",
            "32/32 [==============================] - 0s 4ms/step - loss: 129693584.0000 - val_loss: 133205560.0000\n",
            "Epoch 229/300\n",
            "32/32 [==============================] - 0s 4ms/step - loss: 129684408.0000 - val_loss: 133201440.0000\n",
            "Epoch 230/300\n",
            "32/32 [==============================] - 0s 4ms/step - loss: 129681176.0000 - val_loss: 133199680.0000\n",
            "Epoch 231/300\n",
            "32/32 [==============================] - 0s 4ms/step - loss: 129678328.0000 - val_loss: 133198640.0000\n",
            "Epoch 232/300\n",
            "32/32 [==============================] - 0s 4ms/step - loss: 129673168.0000 - val_loss: 133196408.0000\n",
            "Epoch 233/300\n",
            "32/32 [==============================] - 0s 4ms/step - loss: 129688120.0000 - val_loss: 133194632.0000\n",
            "Epoch 234/300\n",
            "32/32 [==============================] - 0s 4ms/step - loss: 129667960.0000 - val_loss: 133193328.0000\n",
            "Epoch 235/300\n",
            "32/32 [==============================] - 0s 5ms/step - loss: 129691840.0000 - val_loss: 133192264.0000\n",
            "Epoch 236/300\n",
            "32/32 [==============================] - 0s 5ms/step - loss: 129671504.0000 - val_loss: 133190376.0000\n",
            "Epoch 237/300\n",
            "32/32 [==============================] - 0s 6ms/step - loss: 129672224.0000 - val_loss: 133190648.0000\n",
            "Epoch 238/300\n",
            "32/32 [==============================] - 0s 7ms/step - loss: 129670168.0000 - val_loss: 133190008.0000\n",
            "Epoch 239/300\n",
            "32/32 [==============================] - 0s 6ms/step - loss: 129678856.0000 - val_loss: 133190136.0000\n",
            "Epoch 240/300\n",
            "32/32 [==============================] - 0s 6ms/step - loss: 129663808.0000 - val_loss: 133186512.0000\n",
            "Epoch 241/300\n",
            "32/32 [==============================] - 0s 6ms/step - loss: 129674216.0000 - val_loss: 133184848.0000\n",
            "Epoch 242/300\n",
            "32/32 [==============================] - 0s 5ms/step - loss: 129662328.0000 - val_loss: 133182880.0000\n",
            "Epoch 243/300\n",
            "32/32 [==============================] - 0s 5ms/step - loss: 129664880.0000 - val_loss: 133181328.0000\n",
            "Epoch 244/300\n",
            "32/32 [==============================] - 0s 5ms/step - loss: 129687736.0000 - val_loss: 133180312.0000\n",
            "Epoch 245/300\n",
            "32/32 [==============================] - 0s 4ms/step - loss: 129668872.0000 - val_loss: 133182016.0000\n",
            "Epoch 246/300\n",
            "32/32 [==============================] - 0s 4ms/step - loss: 129661072.0000 - val_loss: 133179744.0000\n",
            "Epoch 247/300\n",
            "32/32 [==============================] - 0s 4ms/step - loss: 129663552.0000 - val_loss: 133178752.0000\n",
            "Epoch 248/300\n",
            "32/32 [==============================] - 0s 5ms/step - loss: 129654288.0000 - val_loss: 133178320.0000\n",
            "Epoch 249/300\n",
            "32/32 [==============================] - 0s 3ms/step - loss: 129664800.0000 - val_loss: 133178392.0000\n",
            "Epoch 250/300\n",
            "32/32 [==============================] - 0s 4ms/step - loss: 129655232.0000 - val_loss: 133176400.0000\n",
            "Epoch 251/300\n",
            "32/32 [==============================] - 0s 5ms/step - loss: 129663568.0000 - val_loss: 133177048.0000\n",
            "Epoch 252/300\n",
            "32/32 [==============================] - 0s 3ms/step - loss: 129656760.0000 - val_loss: 133175416.0000\n",
            "Epoch 253/300\n",
            "32/32 [==============================] - 0s 4ms/step - loss: 129666832.0000 - val_loss: 133169200.0000\n",
            "Epoch 254/300\n",
            "32/32 [==============================] - 0s 3ms/step - loss: 129657648.0000 - val_loss: 133168392.0000\n",
            "Epoch 255/300\n",
            "32/32 [==============================] - 0s 3ms/step - loss: 129674264.0000 - val_loss: 133170408.0000\n",
            "Epoch 256/300\n",
            "32/32 [==============================] - 0s 4ms/step - loss: 129676720.0000 - val_loss: 133165840.0000\n",
            "Epoch 257/300\n",
            "32/32 [==============================] - 0s 5ms/step - loss: 129663008.0000 - val_loss: 133167048.0000\n",
            "Epoch 258/300\n",
            "32/32 [==============================] - 0s 4ms/step - loss: 129654328.0000 - val_loss: 133162440.0000\n",
            "Epoch 259/300\n",
            "32/32 [==============================] - 0s 5ms/step - loss: 129649608.0000 - val_loss: 133162168.0000\n",
            "Epoch 260/300\n",
            "32/32 [==============================] - 0s 6ms/step - loss: 129649440.0000 - val_loss: 133161440.0000\n",
            "Epoch 261/300\n",
            "32/32 [==============================] - 0s 4ms/step - loss: 129649152.0000 - val_loss: 133159680.0000\n",
            "Epoch 262/300\n",
            "32/32 [==============================] - 0s 4ms/step - loss: 129646968.0000 - val_loss: 133160328.0000\n",
            "Epoch 263/300\n",
            "32/32 [==============================] - 0s 6ms/step - loss: 129641784.0000 - val_loss: 133157328.0000\n",
            "Epoch 264/300\n",
            "32/32 [==============================] - 0s 4ms/step - loss: 129658176.0000 - val_loss: 133155400.0000\n",
            "Epoch 265/300\n",
            "32/32 [==============================] - 0s 6ms/step - loss: 129644632.0000 - val_loss: 133155712.0000\n",
            "Epoch 266/300\n",
            "32/32 [==============================] - 0s 5ms/step - loss: 129640752.0000 - val_loss: 133153416.0000\n",
            "Epoch 267/300\n",
            "32/32 [==============================] - 0s 4ms/step - loss: 129640016.0000 - val_loss: 133152080.0000\n",
            "Epoch 268/300\n",
            "32/32 [==============================] - 0s 4ms/step - loss: 129656560.0000 - val_loss: 133151336.0000\n",
            "Epoch 269/300\n",
            "32/32 [==============================] - 0s 5ms/step - loss: 129650400.0000 - val_loss: 133149504.0000\n",
            "Epoch 270/300\n",
            "32/32 [==============================] - 0s 4ms/step - loss: 129643072.0000 - val_loss: 133148248.0000\n",
            "Epoch 271/300\n",
            "32/32 [==============================] - 0s 5ms/step - loss: 129640608.0000 - val_loss: 133147032.0000\n",
            "Epoch 272/300\n",
            "32/32 [==============================] - 0s 4ms/step - loss: 129635856.0000 - val_loss: 133146952.0000\n",
            "Epoch 273/300\n",
            "32/32 [==============================] - 0s 6ms/step - loss: 129648888.0000 - val_loss: 133147240.0000\n",
            "Epoch 274/300\n",
            "32/32 [==============================] - 0s 6ms/step - loss: 129630936.0000 - val_loss: 133143440.0000\n",
            "Epoch 275/300\n",
            "32/32 [==============================] - 0s 6ms/step - loss: 129648600.0000 - val_loss: 133141960.0000\n",
            "Epoch 276/300\n",
            "32/32 [==============================] - 0s 5ms/step - loss: 129639072.0000 - val_loss: 133140664.0000\n",
            "Epoch 277/300\n",
            "32/32 [==============================] - 0s 5ms/step - loss: 129629896.0000 - val_loss: 133141216.0000\n",
            "Epoch 278/300\n",
            "32/32 [==============================] - 0s 4ms/step - loss: 129641968.0000 - val_loss: 133138576.0000\n",
            "Epoch 279/300\n",
            "32/32 [==============================] - 0s 4ms/step - loss: 129630640.0000 - val_loss: 133137144.0000\n",
            "Epoch 280/300\n",
            "32/32 [==============================] - 0s 4ms/step - loss: 129628360.0000 - val_loss: 133136104.0000\n",
            "Epoch 281/300\n",
            "32/32 [==============================] - 0s 7ms/step - loss: 129632720.0000 - val_loss: 133134512.0000\n",
            "Epoch 282/300\n",
            "32/32 [==============================] - 0s 4ms/step - loss: 129656552.0000 - val_loss: 133134256.0000\n",
            "Epoch 283/300\n",
            "32/32 [==============================] - 0s 5ms/step - loss: 129638920.0000 - val_loss: 133131888.0000\n",
            "Epoch 284/300\n",
            "32/32 [==============================] - 0s 6ms/step - loss: 129628576.0000 - val_loss: 133132472.0000\n",
            "Epoch 285/300\n",
            "32/32 [==============================] - 0s 4ms/step - loss: 129618968.0000 - val_loss: 133129808.0000\n",
            "Epoch 286/300\n",
            "32/32 [==============================] - 0s 5ms/step - loss: 129628848.0000 - val_loss: 133128984.0000\n",
            "Epoch 287/300\n",
            "32/32 [==============================] - 0s 6ms/step - loss: 129634512.0000 - val_loss: 133127872.0000\n",
            "Epoch 288/300\n",
            "32/32 [==============================] - 0s 6ms/step - loss: 129646416.0000 - val_loss: 133128568.0000\n",
            "Epoch 289/300\n",
            "32/32 [==============================] - 0s 6ms/step - loss: 129612576.0000 - val_loss: 133124888.0000\n",
            "Epoch 290/300\n",
            "32/32 [==============================] - 0s 4ms/step - loss: 129626048.0000 - val_loss: 133125280.0000\n",
            "Epoch 291/300\n",
            "32/32 [==============================] - 0s 4ms/step - loss: 129629168.0000 - val_loss: 133122456.0000\n",
            "Epoch 292/300\n",
            "32/32 [==============================] - 0s 6ms/step - loss: 129633824.0000 - val_loss: 133122336.0000\n",
            "Epoch 293/300\n",
            "32/32 [==============================] - 0s 6ms/step - loss: 129621408.0000 - val_loss: 133121616.0000\n",
            "Epoch 294/300\n",
            "32/32 [==============================] - 0s 6ms/step - loss: 129614816.0000 - val_loss: 133119184.0000\n",
            "Epoch 295/300\n",
            "32/32 [==============================] - 0s 8ms/step - loss: 129628360.0000 - val_loss: 133117968.0000\n",
            "Epoch 296/300\n",
            "32/32 [==============================] - 0s 6ms/step - loss: 129615944.0000 - val_loss: 133117776.0000\n",
            "Epoch 297/300\n",
            "32/32 [==============================] - 0s 7ms/step - loss: 129630880.0000 - val_loss: 133116184.0000\n",
            "Epoch 298/300\n",
            "32/32 [==============================] - 0s 6ms/step - loss: 129622944.0000 - val_loss: 133115344.0000\n",
            "Epoch 299/300\n",
            "32/32 [==============================] - 0s 5ms/step - loss: 129607600.0000 - val_loss: 133115112.0000\n",
            "Epoch 300/300\n",
            "32/32 [==============================] - 0s 5ms/step - loss: 129609280.0000 - val_loss: 133114464.0000\n"
          ],
          "name": "stdout"
        }
      ]
    },
    {
      "cell_type": "code",
      "metadata": {
        "colab": {
          "base_uri": "https://localhost:8080/",
          "height": 276
        },
        "id": "Ge9Yf60RM3el",
        "outputId": "fcc78c46-6b09-48a5-b6c0-e94c83b92fea"
      },
      "source": [
        "plt.plot(history.history['loss'], label='Train loss')\n",
        "plt.plot(history.history['val_loss'], label='Test Loss')\n",
        "plt.legend();"
      ],
      "execution_count": 368,
      "outputs": [
        {
          "output_type": "display_data",
          "data": {
            "image/png": "[encoded data removed]",
            "text/plain": [
              "<Figure size 432x288 with 1 Axes>"
            ]
          },
          "metadata": {
            "needs_background": "light"
          }
        }
      ]
    },
    {
      "cell_type": "code",
      "metadata": {
        "id": "P9q6uMiHpR-f"
      },
      "source": [
        ""
      ],
      "execution_count": null,
      "outputs": []
    }
  ]
}