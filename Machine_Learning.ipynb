{
  "nbformat": 4,
  "nbformat_minor": 0,
  "metadata": {
    "colab": {
      "name": "Machine_Learning.ipynb",
      "provenance": [],
      "collapsed_sections": [],
      "authorship_tag": "ABX9TyN0kOCEukPd74bgSY4KjQxz",
      "include_colab_link": true
    },
    "kernelspec": {
      "name": "python3",
      "display_name": "Python 3"
    },
    "language_info": {
      "name": "python"
    }
  },
  "cells": [
    {
      "cell_type": "markdown",
      "metadata": {
        "id": "view-in-github",
        "colab_type": "text"
      },
      "source": [
        "<a href=\"https://colab.research.google.com/github/cJagno/Insurance_Predictions/blob/main/Machine_Learning.ipynb\" target=\"_parent\"><img src=\"https://colab.research.google.com/assets/colab-badge.svg\" alt=\"Open In Colab\"/></a>"
      ]
    },
    {
      "cell_type": "code",
      "metadata": {
        "colab": {
          "base_uri": "https://localhost:8080/"
        },
        "id": "F3KbcTnWcvPq",
        "outputId": "31b7e26b-f095-4b4e-ef1c-7d3101a5e058"
      },
      "source": [
        "from google.colab import drive\n",
        "drive.mount('/content/drive')"
      ],
      "execution_count": 1,
      "outputs": [
        {
          "output_type": "stream",
          "text": [
            "Mounted at /content/drive\n"
          ],
          "name": "stdout"
        }
      ]
    },
    {
      "cell_type": "code",
      "metadata": {
        "id": "cp33clMIc6IX"
      },
      "source": [
        "import numpy as np\n",
        "import matplotlib.pyplot as plt\n",
        "import pandas as pd\n",
        "import seaborn as sns"
      ],
      "execution_count": 155,
      "outputs": []
    },
    {
      "cell_type": "code",
      "metadata": {
        "id": "kR30gKgcdFzr"
      },
      "source": [
        "df = pd.read_csv('/content/drive/MyDrive/PT_Data_Science/PandasForDataManipulation/insurance.csv')\n",
        "cf = pd.read_csv('/content/drive/MyDrive/PT_Data_Science/PandasForDataManipulation/insurance.csv')"
      ],
      "execution_count": 11,
      "outputs": []
    },
    {
      "cell_type": "code",
      "metadata": {
        "colab": {
          "base_uri": "https://localhost:8080/",
          "height": 203
        },
        "id": "WkPtNqjnmtBU",
        "outputId": "106595b1-22c7-4e6c-f05f-b5c3d90ef38d"
      },
      "source": [
        "df.head()"
      ],
      "execution_count": 12,
      "outputs": [
        {
          "output_type": "execute_result",
          "data": {
            "text/html": [
              "<div>\n",
              "<style scoped>\n",
              "    .dataframe tbody tr th:only-of-type {\n",
              "        vertical-align: middle;\n",
              "    }\n",
              "\n",
              "    .dataframe tbody tr th {\n",
              "        vertical-align: top;\n",
              "    }\n",
              "\n",
              "    .dataframe thead th {\n",
              "        text-align: right;\n",
              "    }\n",
              "</style>\n",
              "<table border=\"1\" class=\"dataframe\">\n",
              "  <thead>\n",
              "    <tr style=\"text-align: right;\">\n",
              "      <th></th>\n",
              "      <th>age</th>\n",
              "      <th>sex</th>\n",
              "      <th>bmi</th>\n",
              "      <th>children</th>\n",
              "      <th>smoker</th>\n",
              "      <th>region</th>\n",
              "      <th>charges</th>\n",
              "    </tr>\n",
              "  </thead>\n",
              "  <tbody>\n",
              "    <tr>\n",
              "      <th>0</th>\n",
              "      <td>19</td>\n",
              "      <td>female</td>\n",
              "      <td>27.900</td>\n",
              "      <td>0</td>\n",
              "      <td>yes</td>\n",
              "      <td>southwest</td>\n",
              "      <td>16884.92400</td>\n",
              "    </tr>\n",
              "    <tr>\n",
              "      <th>1</th>\n",
              "      <td>18</td>\n",
              "      <td>male</td>\n",
              "      <td>33.770</td>\n",
              "      <td>1</td>\n",
              "      <td>no</td>\n",
              "      <td>southeast</td>\n",
              "      <td>1725.55230</td>\n",
              "    </tr>\n",
              "    <tr>\n",
              "      <th>2</th>\n",
              "      <td>28</td>\n",
              "      <td>male</td>\n",
              "      <td>33.000</td>\n",
              "      <td>3</td>\n",
              "      <td>no</td>\n",
              "      <td>southeast</td>\n",
              "      <td>4449.46200</td>\n",
              "    </tr>\n",
              "    <tr>\n",
              "      <th>3</th>\n",
              "      <td>33</td>\n",
              "      <td>male</td>\n",
              "      <td>22.705</td>\n",
              "      <td>0</td>\n",
              "      <td>no</td>\n",
              "      <td>northwest</td>\n",
              "      <td>21984.47061</td>\n",
              "    </tr>\n",
              "    <tr>\n",
              "      <th>4</th>\n",
              "      <td>32</td>\n",
              "      <td>male</td>\n",
              "      <td>28.880</td>\n",
              "      <td>0</td>\n",
              "      <td>no</td>\n",
              "      <td>northwest</td>\n",
              "      <td>3866.85520</td>\n",
              "    </tr>\n",
              "  </tbody>\n",
              "</table>\n",
              "</div>"
            ],
            "text/plain": [
              "   age     sex     bmi  children smoker     region      charges\n",
              "0   19  female  27.900         0    yes  southwest  16884.92400\n",
              "1   18    male  33.770         1     no  southeast   1725.55230\n",
              "2   28    male  33.000         3     no  southeast   4449.46200\n",
              "3   33    male  22.705         0     no  northwest  21984.47061\n",
              "4   32    male  28.880         0     no  northwest   3866.85520"
            ]
          },
          "metadata": {},
          "execution_count": 12
        }
      ]
    },
    {
      "cell_type": "code",
      "metadata": {
        "colab": {
          "base_uri": "https://localhost:8080/"
        },
        "id": "9LiHEZtYmtkl",
        "outputId": "2eba1c8e-324b-428b-8128-432a246fbbb0"
      },
      "source": [
        "df.info()"
      ],
      "execution_count": 13,
      "outputs": [
        {
          "output_type": "stream",
          "text": [
            "<class 'pandas.core.frame.DataFrame'>\n",
            "RangeIndex: 1338 entries, 0 to 1337\n",
            "Data columns (total 7 columns):\n",
            " #   Column    Non-Null Count  Dtype  \n",
            "---  ------    --------------  -----  \n",
            " 0   age       1338 non-null   int64  \n",
            " 1   sex       1338 non-null   object \n",
            " 2   bmi       1338 non-null   float64\n",
            " 3   children  1338 non-null   int64  \n",
            " 4   smoker    1338 non-null   object \n",
            " 5   region    1338 non-null   object \n",
            " 6   charges   1338 non-null   float64\n",
            "dtypes: float64(2), int64(2), object(3)\n",
            "memory usage: 73.3+ KB\n"
          ],
          "name": "stdout"
        }
      ]
    },
    {
      "cell_type": "code",
      "metadata": {
        "id": "CSvgIv0Cmvvg"
      },
      "source": [
        "cf['region'] = cf['region'].map({'southeast': 1,\n",
        "                                   'southwest': 2,\n",
        "                                   'northwest': 3,\n",
        "                                   'northeast': 4})"
      ],
      "execution_count": 15,
      "outputs": []
    },
    {
      "cell_type": "code",
      "metadata": {
        "id": "5YIGMg1jigIJ"
      },
      "source": [
        "cf['sex'] = cf['sex'].map({'female': 1,\n",
        "                           'male': 2})"
      ],
      "execution_count": 17,
      "outputs": []
    },
    {
      "cell_type": "code",
      "metadata": {
        "id": "VfRZ2c0gisSW"
      },
      "source": [
        "cf['smoker'] = cf['smoker'].map({'yes': 1,\n",
        "                                 'no': 0})"
      ],
      "execution_count": 101,
      "outputs": []
    },
    {
      "cell_type": "code",
      "metadata": {
        "id": "wxbVrtb9PG0g"
      },
      "source": [
        "df['smoker'] = df['smoker'].astype('bool')"
      ],
      "execution_count": 152,
      "outputs": []
    },
    {
      "cell_type": "code",
      "metadata": {
        "id": "oZ356H7khpCK"
      },
      "source": [
        "corr = cf.corr()"
      ],
      "execution_count": 20,
      "outputs": []
    },
    {
      "cell_type": "code",
      "metadata": {
        "colab": {
          "base_uri": "https://localhost:8080/",
          "height": 312
        },
        "id": "leAwXWiDg1Ez",
        "outputId": "89053a47-1dbc-4cb8-e7ef-3bcaeb8ce0ed"
      },
      "source": [
        "sns.heatmap(corr, cmap='Blues', annot=True)\n",
        "plt.title('Correlations');"
      ],
      "execution_count": 102,
      "outputs": [
        {
          "output_type": "display_data",
          "data": {
            "image/png": "[encoded data removed]",
            "text/plain": [
              "<Figure size 432x288 with 2 Axes>"
            ]
          },
          "metadata": {
            "needs_background": "light"
          }
        }
      ]
    },
    {
      "cell_type": "code",
      "metadata": {
        "colab": {
          "base_uri": "https://localhost:8080/",
          "height": 366
        },
        "id": "EJzJfeang6N5",
        "outputId": "3242204d-8f07-4869-ab7f-7255d18a6772"
      },
      "source": [
        "sns.barplot(df['region'], df['charges'])\n",
        "plt.title('Average Charges per Region')"
      ],
      "execution_count": 148,
      "outputs": [
        {
          "output_type": "stream",
          "text": [
            "/usr/local/lib/python3.7/dist-packages/seaborn/_decorators.py:43: FutureWarning: Pass the following variables as keyword args: x, y. From version 0.12, the only valid positional argument will be `data`, and passing other arguments without an explicit keyword will result in an error or misinterpretation.\n",
            "  FutureWarning\n"
          ],
          "name": "stderr"
        },
        {
          "output_type": "execute_result",
          "data": {
            "text/plain": [
              "Text(0.5, 1.0, 'Average Charges per Region')"
            ]
          },
          "metadata": {},
          "execution_count": 148
        },
        {
          "output_type": "display_data",
          "data": {
            "image/png": "[encoded data removed]",
            "text/plain": [
              "<Figure size 432x288 with 1 Axes>"
            ]
          },
          "metadata": {
            "needs_background": "light"
          }
        }
      ]
    },
    {
      "cell_type": "code",
      "metadata": {
        "colab": {
          "base_uri": "https://localhost:8080/",
          "height": 366
        },
        "id": "Sv7ltqzvHSUc",
        "outputId": "6710068b-8aee-4b65-ed86-52d886770836"
      },
      "source": [
        "sns.barplot(df['sex'], df['charges'])\n",
        "plt.title('Average Charges per Sex')"
      ],
      "execution_count": 150,
      "outputs": [
        {
          "output_type": "stream",
          "text": [
            "/usr/local/lib/python3.7/dist-packages/seaborn/_decorators.py:43: FutureWarning: Pass the following variables as keyword args: x, y. From version 0.12, the only valid positional argument will be `data`, and passing other arguments without an explicit keyword will result in an error or misinterpretation.\n",
            "  FutureWarning\n"
          ],
          "name": "stderr"
        },
        {
          "output_type": "execute_result",
          "data": {
            "text/plain": [
              "Text(0.5, 1.0, 'Average Charges per Sex')"
            ]
          },
          "metadata": {},
          "execution_count": 150
        },
        {
          "output_type": "display_data",
          "data": {
            "image/png": "[encoded data removed]",
            "text/plain": [
              "<Figure size 432x288 with 1 Axes>"
            ]
          },
          "metadata": {
            "needs_background": "light"
          }
        }
      ]
    },
    {
      "cell_type": "code",
      "metadata": {
        "id": "d4Ig0lYZGl17"
      },
      "source": [
        "southeast = df.loc[df['region']=='southeast',:]\n",
        "northeast = df.loc[df['region']=='northeast',:]"
      ],
      "execution_count": 95,
      "outputs": []
    },
    {
      "cell_type": "code",
      "metadata": {
        "colab": {
          "base_uri": "https://localhost:8080/",
          "height": 350
        },
        "id": "3wM4-U9DFqID",
        "outputId": "f0c1b272-909f-47e6-cfc5-82c3872cb1e5"
      },
      "source": [
        "sns.scatterplot(southeast['bmi'], southeast['charges'])"
      ],
      "execution_count": 119,
      "outputs": [
        {
          "output_type": "stream",
          "text": [
            "/usr/local/lib/python3.7/dist-packages/seaborn/_decorators.py:43: FutureWarning: Pass the following variables as keyword args: x, y. From version 0.12, the only valid positional argument will be `data`, and passing other arguments without an explicit keyword will result in an error or misinterpretation.\n",
            "  FutureWarning\n"
          ],
          "name": "stderr"
        },
        {
          "output_type": "execute_result",
          "data": {
            "text/plain": [
              "<matplotlib.axes._subplots.AxesSubplot at 0x7f4f867b3490>"
            ]
          },
          "metadata": {},
          "execution_count": 119
        },
        {
          "output_type": "display_data",
          "data": {
            "image/png": "[encoded data removed]",
            "text/plain": [
              "<Figure size 432x288 with 1 Axes>"
            ]
          },
          "metadata": {
            "needs_background": "light"
          }
        }
      ]
    },
    {
      "cell_type": "code",
      "metadata": {
        "colab": {
          "base_uri": "https://localhost:8080/",
          "height": 350
        },
        "id": "2V2tKwAxHIdp",
        "outputId": "4f5ff34f-d475-42d6-a210-8465c565bcf4"
      },
      "source": [
        "sns.scatterplot(northeast['bmi'], northeast['charges'])"
      ],
      "execution_count": 96,
      "outputs": [
        {
          "output_type": "stream",
          "text": [
            "/usr/local/lib/python3.7/dist-packages/seaborn/_decorators.py:43: FutureWarning: Pass the following variables as keyword args: x, y. From version 0.12, the only valid positional argument will be `data`, and passing other arguments without an explicit keyword will result in an error or misinterpretation.\n",
            "  FutureWarning\n"
          ],
          "name": "stderr"
        },
        {
          "output_type": "execute_result",
          "data": {
            "text/plain": [
              "<matplotlib.axes._subplots.AxesSubplot at 0x7f4faff5a9d0>"
            ]
          },
          "metadata": {},
          "execution_count": 96
        },
        {
          "output_type": "display_data",
          "data": {
            "image/png": "[encoded data removed]",
            "text/plain": [
              "<Figure size 432x288 with 1 Axes>"
            ]
          },
          "metadata": {
            "needs_background": "light"
          }
        }
      ]
    },
    {
      "cell_type": "code",
      "metadata": {
        "id": "j3iIGuKrj76D"
      },
      "source": [
        "one_df = pd.get_dummies(df, columns=['region',\n",
        "                                     'sex',\n",
        "                                     'smoker'], drop_first = True)"
      ],
      "execution_count": 31,
      "outputs": []
    },
    {
      "cell_type": "code",
      "metadata": {
        "id": "IB6lDM4UPbGi"
      },
      "source": [
        "from sklearn.model_selection import train_test_split\n",
        "from sklearn.preprocessing import StandardScaler\n",
        "from sklearn.ensemble import GradientBoostingClassifier\n",
        "from sklearn.ensemble import RandomForestRegressor\n",
        "from sklearn.model_selection import GridSearchCV\n",
        "from sklearn.preprocessing import LabelEncoder, StandardScaler\n",
        "from sklearn.decomposition import PCA\n",
        "from sklearn.linear_model import LogisticRegression\n",
        "from sklearn.pipeline import make_pipeline"
      ],
      "execution_count": 180,
      "outputs": []
    },
    {
      "cell_type": "code",
      "metadata": {
        "id": "p1h01SykmAJo"
      },
      "source": [
        "X = one_df.drop(columns='charges')\n",
        "y = one_df['charges']"
      ],
      "execution_count": 52,
      "outputs": []
    },
    {
      "cell_type": "code",
      "metadata": {
        "id": "C1-9jWbkmYGD"
      },
      "source": [
        "X_train, X_test, y_train, y_test = train_test_split(X, y, random_state=42)"
      ],
      "execution_count": 53,
      "outputs": []
    },
    {
      "cell_type": "code",
      "metadata": {
        "id": "jK-Tr9GNmpxk"
      },
      "source": [
        "reg = LinearRegression(,)"
      ],
      "execution_count": 38,
      "outputs": []
    },
    {
      "cell_type": "code",
      "metadata": {
        "colab": {
          "base_uri": "https://localhost:8080/"
        },
        "id": "hBI1aI3xmw6A",
        "outputId": "67261462-61bf-4b4e-923c-1b97a48ad9ea"
      },
      "source": [
        "reg.fit(X_train,y_train)"
      ],
      "execution_count": 39,
      "outputs": [
        {
          "output_type": "execute_result",
          "data": {
            "text/plain": [
              "LinearRegression(copy_X=True, fit_intercept=True, n_jobs=None, normalize=False)"
            ]
          },
          "metadata": {},
          "execution_count": 39
        }
      ]
    },
    {
      "cell_type": "code",
      "metadata": {
        "id": "lik5mYkEnANG"
      },
      "source": [
        "train_preds = reg.predict(X_train)\n",
        "test_preds = reg.predict(X_test)"
      ],
      "execution_count": 40,
      "outputs": []
    },
    {
      "cell_type": "code",
      "metadata": {
        "colab": {
          "base_uri": "https://localhost:8080/"
        },
        "id": "cUA_Ck6wnSuo",
        "outputId": "0d471baf-42ba-460d-8965-abeb1a870080"
      },
      "source": [
        "print('Training Score:',reg.score(X_train, y_train))\n",
        "print('Testing Score:',reg.score(X_test, y_test))"
      ],
      "execution_count": 44,
      "outputs": [
        {
          "output_type": "stream",
          "text": [
            "Training Score: 0.7449555328228536\n",
            "Testing Score: 0.7672642952734356\n"
          ],
          "name": "stdout"
        }
      ]
    },
    {
      "cell_type": "code",
      "metadata": {
        "id": "---C4rYJnU3a"
      },
      "source": [
        "rf = RandomForestRegressor(n_estimators = 275, max_depth= 5, min_samples_leaf=3,min_samples_split= 2, random_state= 42)"
      ],
      "execution_count": 84,
      "outputs": []
    },
    {
      "cell_type": "code",
      "metadata": {
        "colab": {
          "base_uri": "https://localhost:8080/"
        },
        "id": "jcntzdmcr8rc",
        "outputId": "d830e7cf-2a37-4752-8c19-a09c5f63daee"
      },
      "source": [
        "rf.fit(X_train,y_train)"
      ],
      "execution_count": 85,
      "outputs": [
        {
          "output_type": "execute_result",
          "data": {
            "text/plain": [
              "RandomForestRegressor(bootstrap=True, ccp_alpha=0.0, criterion='mse',\n",
              "                      max_depth=5, max_features='auto', max_leaf_nodes=None,\n",
              "                      max_samples=None, min_impurity_decrease=0.0,\n",
              "                      min_impurity_split=None, min_samples_leaf=3,\n",
              "                      min_samples_split=2, min_weight_fraction_leaf=0.0,\n",
              "                      n_estimators=275, n_jobs=None, oob_score=False,\n",
              "                      random_state=42, verbose=0, warm_start=False)"
            ]
          },
          "metadata": {},
          "execution_count": 85
        }
      ]
    },
    {
      "cell_type": "code",
      "metadata": {
        "id": "6cg_perl0gSv"
      },
      "source": [
        "estimator_range = [1] + list(range(10, 300, 10))\n",
        "scores = []\n",
        "for estimator in estimator_range:\n",
        "    rf = RandomForestRegressor(n_estimators=estimator,\n",
        "                                 random_state=0)\n",
        "    rf.fit(X_train, y_train)\n",
        "    scores.append(rf.score(X_test, y_test))"
      ],
      "execution_count": 86,
      "outputs": []
    },
    {
      "cell_type": "code",
      "metadata": {
        "colab": {
          "base_uri": "https://localhost:8080/",
          "height": 296
        },
        "id": "-BQI26sV0iD2",
        "outputId": "93067628-55e3-41c9-9c0d-5917ce200f56"
      },
      "source": [
        "plt.plot(estimator_range, scores);\n",
        "plt.xlabel('estimator')\n",
        "plt.ylabel('score')"
      ],
      "execution_count": 87,
      "outputs": [
        {
          "output_type": "execute_result",
          "data": {
            "text/plain": [
              "Text(0, 0.5, 'score')"
            ]
          },
          "metadata": {},
          "execution_count": 87
        },
        {
          "output_type": "display_data",
          "data": {
            "image/png": "[encoded data removed]",
            "text/plain": [
              "<Figure size 432x288 with 1 Axes>"
            ]
          },
          "metadata": {
            "needs_background": "light"
          }
        }
      ]
    },
    {
      "cell_type": "code",
      "metadata": {
        "colab": {
          "base_uri": "https://localhost:8080/"
        },
        "id": "5fKhOFOu0lJ_",
        "outputId": "3a59c378-ea18-4021-b56a-9c021f5b51e9"
      },
      "source": [
        "print('Training accuracy:', rf.score(X_train, y_train))\n",
        "print('Testing accuracy:', rf.score(X_test, y_test))"
      ],
      "execution_count": 88,
      "outputs": [
        {
          "output_type": "stream",
          "text": [
            "Training accuracy: 0.975716960385306\n",
            "Testing accuracy: 0.8504094604352018\n"
          ],
          "name": "stdout"
        }
      ]
    },
    {
      "cell_type": "code",
      "metadata": {
        "id": "BmuaxoYbqYXr"
      },
      "source": [
        "params = {'n_jobs': [-1, 1],\n",
        "           'min_samples_split': [2, 4, 6],\n",
        "           'min_samples_leaf': [1, 2, 3],\n",
        "          'max_depth': [None, 5, 10]}"
      ],
      "execution_count": 69,
      "outputs": []
    },
    {
      "cell_type": "code",
      "metadata": {
        "id": "NjBiPGEIrp3L"
      },
      "source": [
        "gs = GridSearchCV(rf, params)"
      ],
      "execution_count": 73,
      "outputs": []
    },
    {
      "cell_type": "code",
      "metadata": {
        "colab": {
          "base_uri": "https://localhost:8080/"
        },
        "id": "XbLwSnOlrsKD",
        "outputId": "16e92fdb-7cbb-4bdf-9cbe-5a9b786d1a62"
      },
      "source": [
        "gs.fit(X_train, y_train)"
      ],
      "execution_count": 74,
      "outputs": [
        {
          "output_type": "execute_result",
          "data": {
            "text/plain": [
              "GridSearchCV(cv=None, error_score=nan,\n",
              "             estimator=RandomForestRegressor(bootstrap=True, ccp_alpha=0.0,\n",
              "                                             criterion='mse', max_depth=None,\n",
              "                                             max_features='auto',\n",
              "                                             max_leaf_nodes=None,\n",
              "                                             max_samples=None,\n",
              "                                             min_impurity_decrease=0.0,\n",
              "                                             min_impurity_split=None,\n",
              "                                             min_samples_leaf=1,\n",
              "                                             min_samples_split=2,\n",
              "                                             min_weight_fraction_leaf=0.0,\n",
              "                                             n_estimators=275, n_jobs=None,\n",
              "                                             oob_score=False, random_state=42,\n",
              "                                             verbose=0, warm_start=False),\n",
              "             iid='deprecated', n_jobs=None,\n",
              "             param_grid={'max_depth': [None, 5, 10],\n",
              "                         'min_samples_leaf': [1, 2, 3],\n",
              "                         'min_samples_split': [2, 4, 6], 'n_jobs': [-1, 1]},\n",
              "             pre_dispatch='2*n_jobs', refit=True, return_train_score=False,\n",
              "             scoring=None, verbose=0)"
            ]
          },
          "metadata": {},
          "execution_count": 74
        }
      ]
    },
    {
      "cell_type": "code",
      "metadata": {
        "colab": {
          "base_uri": "https://localhost:8080/"
        },
        "id": "ACcLzA3tx4hJ",
        "outputId": "58e8bdaf-00e7-421a-c838-32184c93bbe9"
      },
      "source": [
        "gs.best_params_"
      ],
      "execution_count": 77,
      "outputs": [
        {
          "output_type": "execute_result",
          "data": {
            "text/plain": [
              "{'max_depth': 5, 'min_samples_leaf': 3, 'min_samples_split': 2, 'n_jobs': -1}"
            ]
          },
          "metadata": {},
          "execution_count": 77
        }
      ]
    },
    {
      "cell_type": "code",
      "metadata": {
        "colab": {
          "base_uri": "https://localhost:8080/"
        },
        "id": "gEdhaUjdx8wm",
        "outputId": "93996101-4374-408f-cf94-28e644fc01b9"
      },
      "source": [
        "gs.best_score_"
      ],
      "execution_count": 78,
      "outputs": [
        {
          "output_type": "execute_result",
          "data": {
            "text/plain": [
              "0.8465204984684176"
            ]
          },
          "metadata": {},
          "execution_count": 78
        }
      ]
    },
    {
      "cell_type": "code",
      "metadata": {
        "colab": {
          "base_uri": "https://localhost:8080/",
          "height": 295
        },
        "id": "LHTH_Rg3Incz",
        "outputId": "4f7326d2-5a58-4a15-949b-8f3f3169b47c"
      },
      "source": [
        "plt.figure(figsize = (8, 4))\n",
        "plt.scatter(pcs[:,0], pcs[:,1], c = y)\n",
        "plt.title('Visualization of all of our data using the first two Principal Components')\n",
        "plt.xlabel('PC1')\n",
        "plt.ylabel('PC2');"
      ],
      "execution_count": 115,
      "outputs": [
        {
          "output_type": "display_data",
          "data": {
            "image/png": "[encoded data removed]",
            "text/plain": [
              "<Figure size 576x288 with 1 Axes>"
            ]
          },
          "metadata": {
            "needs_background": "light"
          }
        }
      ]
    },
    {
      "cell_type": "code",
      "metadata": {
        "id": "aiL27OzVNcwc"
      },
      "source": [
        "from keras.wrappers.scikit_learn import KerasRegressor\n",
        "from keras.models import Sequential\n",
        "from keras.layers import Dense, Dropout, Activation\n",
        "from sklearn.model_selection import KFold\n",
        "from sklearn.metrics import accuracy_score"
      ],
      "execution_count": 135,
      "outputs": []
    },
    {
      "cell_type": "code",
      "metadata": {
        "id": "VL81jpN-In1S"
      },
      "source": [
        "model = Sequential()"
      ],
      "execution_count": 128,
      "outputs": []
    },
    {
      "cell_type": "code",
      "metadata": {
        "id": "YlsDmA8LMPbW"
      },
      "source": [
        "model.add(Dense(10,input_dim = X.shape[1], activation='relu'))\n",
        "Dropout(.1)\n",
        "model.add(Dense(6, activation= 'relu'))\n",
        "model.add(Dense(1))"
      ],
      "execution_count": 143,
      "outputs": []
    },
    {
      "cell_type": "code",
      "metadata": {
        "id": "aODa-LhUMvO6"
      },
      "source": [
        "model.compile(loss = 'mean_squared_error', optimizer='adam', metrics=['acc'])"
      ],
      "execution_count": 144,
      "outputs": []
    },
    {
      "cell_type": "code",
      "metadata": {
        "colab": {
          "base_uri": "https://localhost:8080/"
        },
        "id": "jhy4CF0ZMzsS",
        "outputId": "7f278970-f853-411d-f7f1-56e30ccef9b1"
      },
      "source": [
        "history = model.fit(X_train, y_train,\n",
        "                    validation_data = (X_test, y_test),\n",
        "                    epochs = 300)"
      ],
      "execution_count": 145,
      "outputs": [
        {
          "output_type": "stream",
          "text": [
            "Epoch 1/300\n",
            "32/32 [==============================] - 1s 13ms/step - loss: 321124256.0000 - acc: 0.0000e+00 - val_loss: 327185536.0000 - val_acc: 0.0000e+00\n",
            "Epoch 2/300\n",
            "32/32 [==============================] - 0s 4ms/step - loss: 321117952.0000 - acc: 0.0000e+00 - val_loss: 327178400.0000 - val_acc: 0.0000e+00\n",
            "Epoch 3/300\n",
            "32/32 [==============================] - 0s 4ms/step - loss: 321109536.0000 - acc: 0.0000e+00 - val_loss: 327168608.0000 - val_acc: 0.0000e+00\n",
            "Epoch 4/300\n",
            "32/32 [==============================] - 0s 4ms/step - loss: 321098048.0000 - acc: 0.0000e+00 - val_loss: 327155360.0000 - val_acc: 0.0000e+00\n",
            "Epoch 5/300\n",
            "32/32 [==============================] - 0s 4ms/step - loss: 321083104.0000 - acc: 0.0000e+00 - val_loss: 327138208.0000 - val_acc: 0.0000e+00\n",
            "Epoch 6/300\n",
            "32/32 [==============================] - 0s 5ms/step - loss: 321064032.0000 - acc: 0.0000e+00 - val_loss: 327116864.0000 - val_acc: 0.0000e+00\n",
            "Epoch 7/300\n",
            "32/32 [==============================] - 0s 4ms/step - loss: 321040288.0000 - acc: 0.0000e+00 - val_loss: 327090528.0000 - val_acc: 0.0000e+00\n",
            "Epoch 8/300\n",
            "32/32 [==============================] - 0s 5ms/step - loss: 321011552.0000 - acc: 0.0000e+00 - val_loss: 327058720.0000 - val_acc: 0.0000e+00\n",
            "Epoch 9/300\n",
            "32/32 [==============================] - 0s 4ms/step - loss: 320977600.0000 - acc: 0.0000e+00 - val_loss: 327021120.0000 - val_acc: 0.0000e+00\n",
            "Epoch 10/300\n",
            "32/32 [==============================] - 0s 4ms/step - loss: 320937280.0000 - acc: 0.0000e+00 - val_loss: 326977792.0000 - val_acc: 0.0000e+00\n",
            "Epoch 11/300\n",
            "32/32 [==============================] - 0s 4ms/step - loss: 320890432.0000 - acc: 0.0000e+00 - val_loss: 326927424.0000 - val_acc: 0.0000e+00\n",
            "Epoch 12/300\n",
            "32/32 [==============================] - 0s 4ms/step - loss: 320836000.0000 - acc: 0.0000e+00 - val_loss: 326868928.0000 - val_acc: 0.0000e+00\n",
            "Epoch 13/300\n",
            "32/32 [==============================] - 0s 4ms/step - loss: 320773728.0000 - acc: 0.0000e+00 - val_loss: 326802048.0000 - val_acc: 0.0000e+00\n",
            "Epoch 14/300\n",
            "32/32 [==============================] - 0s 4ms/step - loss: 320703008.0000 - acc: 0.0000e+00 - val_loss: 326726400.0000 - val_acc: 0.0000e+00\n",
            "Epoch 15/300\n",
            "32/32 [==============================] - 0s 4ms/step - loss: 320623136.0000 - acc: 0.0000e+00 - val_loss: 326641760.0000 - val_acc: 0.0000e+00\n",
            "Epoch 16/300\n",
            "32/32 [==============================] - 0s 4ms/step - loss: 320533760.0000 - acc: 0.0000e+00 - val_loss: 326546784.0000 - val_acc: 0.0000e+00\n",
            "Epoch 17/300\n",
            "32/32 [==============================] - 0s 4ms/step - loss: 320433920.0000 - acc: 0.0000e+00 - val_loss: 326441696.0000 - val_acc: 0.0000e+00\n",
            "Epoch 18/300\n",
            "32/32 [==============================] - 0s 4ms/step - loss: 320323808.0000 - acc: 0.0000e+00 - val_loss: 326325568.0000 - val_acc: 0.0000e+00\n",
            "Epoch 19/300\n",
            "32/32 [==============================] - 0s 4ms/step - loss: 320202496.0000 - acc: 0.0000e+00 - val_loss: 326198560.0000 - val_acc: 0.0000e+00\n",
            "Epoch 20/300\n",
            "32/32 [==============================] - 0s 4ms/step - loss: 320069888.0000 - acc: 0.0000e+00 - val_loss: 326059616.0000 - val_acc: 0.0000e+00\n",
            "Epoch 21/300\n",
            "32/32 [==============================] - 0s 4ms/step - loss: 319925920.0000 - acc: 0.0000e+00 - val_loss: 325907296.0000 - val_acc: 0.0000e+00\n",
            "Epoch 22/300\n",
            "32/32 [==============================] - 0s 4ms/step - loss: 319768768.0000 - acc: 0.0000e+00 - val_loss: 325743616.0000 - val_acc: 0.0000e+00\n",
            "Epoch 23/300\n",
            "32/32 [==============================] - 0s 4ms/step - loss: 319598688.0000 - acc: 0.0000e+00 - val_loss: 325568864.0000 - val_acc: 0.0000e+00\n",
            "Epoch 24/300\n",
            "32/32 [==============================] - 0s 4ms/step - loss: 319416800.0000 - acc: 0.0000e+00 - val_loss: 325380608.0000 - val_acc: 0.0000e+00\n",
            "Epoch 25/300\n",
            "32/32 [==============================] - 0s 4ms/step - loss: 319220768.0000 - acc: 0.0000e+00 - val_loss: 325177536.0000 - val_acc: 0.0000e+00\n",
            "Epoch 26/300\n",
            "32/32 [==============================] - 0s 4ms/step - loss: 319013344.0000 - acc: 0.0000e+00 - val_loss: 324959072.0000 - val_acc: 0.0000e+00\n",
            "Epoch 27/300\n",
            "32/32 [==============================] - 0s 5ms/step - loss: 318790368.0000 - acc: 0.0000e+00 - val_loss: 324726912.0000 - val_acc: 0.0000e+00\n",
            "Epoch 28/300\n",
            "32/32 [==============================] - 0s 5ms/step - loss: 318552096.0000 - acc: 0.0000e+00 - val_loss: 324485248.0000 - val_acc: 0.0000e+00\n",
            "Epoch 29/300\n",
            "32/32 [==============================] - 0s 4ms/step - loss: 318301280.0000 - acc: 0.0000e+00 - val_loss: 324226720.0000 - val_acc: 0.0000e+00\n",
            "Epoch 30/300\n",
            "32/32 [==============================] - 0s 4ms/step - loss: 318034656.0000 - acc: 0.0000e+00 - val_loss: 323953792.0000 - val_acc: 0.0000e+00\n",
            "Epoch 31/300\n",
            "32/32 [==============================] - 0s 4ms/step - loss: 317754112.0000 - acc: 0.0000e+00 - val_loss: 323662016.0000 - val_acc: 0.0000e+00\n",
            "Epoch 32/300\n",
            "32/32 [==============================] - 0s 4ms/step - loss: 317457248.0000 - acc: 0.0000e+00 - val_loss: 323355552.0000 - val_acc: 0.0000e+00\n",
            "Epoch 33/300\n",
            "32/32 [==============================] - 0s 5ms/step - loss: 317144256.0000 - acc: 0.0000e+00 - val_loss: 323036736.0000 - val_acc: 0.0000e+00\n",
            "Epoch 34/300\n",
            "32/32 [==============================] - 0s 4ms/step - loss: 316812352.0000 - acc: 0.0000e+00 - val_loss: 322697504.0000 - val_acc: 0.0000e+00\n",
            "Epoch 35/300\n",
            "32/32 [==============================] - 0s 4ms/step - loss: 316467136.0000 - acc: 0.0000e+00 - val_loss: 322339840.0000 - val_acc: 0.0000e+00\n",
            "Epoch 36/300\n",
            "32/32 [==============================] - 0s 4ms/step - loss: 316102272.0000 - acc: 0.0000e+00 - val_loss: 321967104.0000 - val_acc: 0.0000e+00\n",
            "Epoch 37/300\n",
            "32/32 [==============================] - 0s 4ms/step - loss: 315726784.0000 - acc: 0.0000e+00 - val_loss: 321578048.0000 - val_acc: 0.0000e+00\n",
            "Epoch 38/300\n",
            "32/32 [==============================] - 0s 4ms/step - loss: 315331264.0000 - acc: 0.0000e+00 - val_loss: 321178912.0000 - val_acc: 0.0000e+00\n",
            "Epoch 39/300\n",
            "32/32 [==============================] - 0s 4ms/step - loss: 314920512.0000 - acc: 0.0000e+00 - val_loss: 320761984.0000 - val_acc: 0.0000e+00\n",
            "Epoch 40/300\n",
            "32/32 [==============================] - 0s 5ms/step - loss: 314493792.0000 - acc: 0.0000e+00 - val_loss: 320316224.0000 - val_acc: 0.0000e+00\n",
            "Epoch 41/300\n",
            "32/32 [==============================] - 0s 4ms/step - loss: 314043488.0000 - acc: 0.0000e+00 - val_loss: 319862080.0000 - val_acc: 0.0000e+00\n",
            "Epoch 42/300\n",
            "32/32 [==============================] - 0s 4ms/step - loss: 313585728.0000 - acc: 0.0000e+00 - val_loss: 319389696.0000 - val_acc: 0.0000e+00\n",
            "Epoch 43/300\n",
            "32/32 [==============================] - 0s 5ms/step - loss: 313106560.0000 - acc: 0.0000e+00 - val_loss: 318909184.0000 - val_acc: 0.0000e+00\n",
            "Epoch 44/300\n",
            "32/32 [==============================] - 0s 4ms/step - loss: 312610688.0000 - acc: 0.0000e+00 - val_loss: 318399040.0000 - val_acc: 0.0000e+00\n",
            "Epoch 45/300\n",
            "32/32 [==============================] - 0s 4ms/step - loss: 312095168.0000 - acc: 0.0000e+00 - val_loss: 317873824.0000 - val_acc: 0.0000e+00\n",
            "Epoch 46/300\n",
            "32/32 [==============================] - 0s 5ms/step - loss: 311565920.0000 - acc: 0.0000e+00 - val_loss: 317342048.0000 - val_acc: 0.0000e+00\n",
            "Epoch 47/300\n",
            "32/32 [==============================] - 0s 4ms/step - loss: 311021152.0000 - acc: 0.0000e+00 - val_loss: 316777152.0000 - val_acc: 0.0000e+00\n",
            "Epoch 48/300\n",
            "32/32 [==============================] - 0s 4ms/step - loss: 310454720.0000 - acc: 0.0000e+00 - val_loss: 316212384.0000 - val_acc: 0.0000e+00\n",
            "Epoch 49/300\n",
            "32/32 [==============================] - 0s 4ms/step - loss: 309877056.0000 - acc: 0.0000e+00 - val_loss: 315614880.0000 - val_acc: 0.0000e+00\n",
            "Epoch 50/300\n",
            "32/32 [==============================] - 0s 5ms/step - loss: 309274720.0000 - acc: 0.0000e+00 - val_loss: 315013248.0000 - val_acc: 0.0000e+00\n",
            "Epoch 51/300\n",
            "32/32 [==============================] - 0s 4ms/step - loss: 308656768.0000 - acc: 0.0000e+00 - val_loss: 314383872.0000 - val_acc: 0.0000e+00\n",
            "Epoch 52/300\n",
            "32/32 [==============================] - 0s 4ms/step - loss: 308021696.0000 - acc: 0.0000e+00 - val_loss: 313744768.0000 - val_acc: 0.0000e+00\n",
            "Epoch 53/300\n",
            "32/32 [==============================] - 0s 5ms/step - loss: 307372864.0000 - acc: 0.0000e+00 - val_loss: 313073216.0000 - val_acc: 0.0000e+00\n",
            "Epoch 54/300\n",
            "32/32 [==============================] - 0s 4ms/step - loss: 306696736.0000 - acc: 0.0000e+00 - val_loss: 312397440.0000 - val_acc: 0.0000e+00\n",
            "Epoch 55/300\n",
            "32/32 [==============================] - 0s 4ms/step - loss: 306015200.0000 - acc: 0.0000e+00 - val_loss: 311703360.0000 - val_acc: 0.0000e+00\n",
            "Epoch 56/300\n",
            "32/32 [==============================] - 0s 3ms/step - loss: 305316640.0000 - acc: 0.0000e+00 - val_loss: 310984192.0000 - val_acc: 0.0000e+00\n",
            "Epoch 57/300\n",
            "32/32 [==============================] - 0s 4ms/step - loss: 304593216.0000 - acc: 0.0000e+00 - val_loss: 310265568.0000 - val_acc: 0.0000e+00\n",
            "Epoch 58/300\n",
            "32/32 [==============================] - 0s 3ms/step - loss: 303857760.0000 - acc: 0.0000e+00 - val_loss: 309507936.0000 - val_acc: 0.0000e+00\n",
            "Epoch 59/300\n",
            "32/32 [==============================] - 0s 4ms/step - loss: 303097664.0000 - acc: 0.0000e+00 - val_loss: 308737696.0000 - val_acc: 0.0000e+00\n",
            "Epoch 60/300\n",
            "32/32 [==============================] - 0s 4ms/step - loss: 302320768.0000 - acc: 0.0000e+00 - val_loss: 307966720.0000 - val_acc: 0.0000e+00\n",
            "Epoch 61/300\n",
            "32/32 [==============================] - 0s 3ms/step - loss: 301535840.0000 - acc: 0.0000e+00 - val_loss: 307156352.0000 - val_acc: 0.0000e+00\n",
            "Epoch 62/300\n",
            "32/32 [==============================] - 0s 3ms/step - loss: 300724480.0000 - acc: 0.0000e+00 - val_loss: 306341920.0000 - val_acc: 0.0000e+00\n",
            "Epoch 63/300\n",
            "32/32 [==============================] - 0s 3ms/step - loss: 299895968.0000 - acc: 0.0000e+00 - val_loss: 305504448.0000 - val_acc: 0.0000e+00\n",
            "Epoch 64/300\n",
            "32/32 [==============================] - 0s 4ms/step - loss: 299052864.0000 - acc: 0.0000e+00 - val_loss: 304648512.0000 - val_acc: 0.0000e+00\n",
            "Epoch 65/300\n",
            "32/32 [==============================] - 0s 4ms/step - loss: 298188640.0000 - acc: 0.0000e+00 - val_loss: 303784384.0000 - val_acc: 0.0000e+00\n",
            "Epoch 66/300\n",
            "32/32 [==============================] - 0s 4ms/step - loss: 297320320.0000 - acc: 0.0000e+00 - val_loss: 302896960.0000 - val_acc: 0.0000e+00\n",
            "Epoch 67/300\n",
            "32/32 [==============================] - 0s 3ms/step - loss: 296428000.0000 - acc: 0.0000e+00 - val_loss: 301996224.0000 - val_acc: 0.0000e+00\n",
            "Epoch 68/300\n",
            "32/32 [==============================] - 0s 4ms/step - loss: 295519584.0000 - acc: 0.0000e+00 - val_loss: 301092768.0000 - val_acc: 0.0000e+00\n",
            "Epoch 69/300\n",
            "32/32 [==============================] - 0s 4ms/step - loss: 294601280.0000 - acc: 0.0000e+00 - val_loss: 300148640.0000 - val_acc: 0.0000e+00\n",
            "Epoch 70/300\n",
            "32/32 [==============================] - 0s 3ms/step - loss: 293655840.0000 - acc: 0.0000e+00 - val_loss: 299205664.0000 - val_acc: 0.0000e+00\n",
            "Epoch 71/300\n",
            "32/32 [==============================] - 0s 4ms/step - loss: 292698048.0000 - acc: 0.0000e+00 - val_loss: 298249824.0000 - val_acc: 0.0000e+00\n",
            "Epoch 72/300\n",
            "32/32 [==============================] - 0s 4ms/step - loss: 291735424.0000 - acc: 0.0000e+00 - val_loss: 297249504.0000 - val_acc: 0.0000e+00\n",
            "Epoch 73/300\n",
            "32/32 [==============================] - 0s 4ms/step - loss: 290740480.0000 - acc: 0.0000e+00 - val_loss: 296270272.0000 - val_acc: 0.0000e+00\n",
            "Epoch 74/300\n",
            "32/32 [==============================] - 0s 4ms/step - loss: 289746240.0000 - acc: 0.0000e+00 - val_loss: 295250112.0000 - val_acc: 0.0000e+00\n",
            "Epoch 75/300\n",
            "32/32 [==============================] - 0s 4ms/step - loss: 288724640.0000 - acc: 0.0000e+00 - val_loss: 294234176.0000 - val_acc: 0.0000e+00\n",
            "Epoch 76/300\n",
            "32/32 [==============================] - 0s 4ms/step - loss: 287688832.0000 - acc: 0.0000e+00 - val_loss: 293189760.0000 - val_acc: 0.0000e+00\n",
            "Epoch 77/300\n",
            "32/32 [==============================] - 0s 4ms/step - loss: 286649696.0000 - acc: 0.0000e+00 - val_loss: 292124736.0000 - val_acc: 0.0000e+00\n",
            "Epoch 78/300\n",
            "32/32 [==============================] - 0s 4ms/step - loss: 285589760.0000 - acc: 0.0000e+00 - val_loss: 291052800.0000 - val_acc: 0.0000e+00\n",
            "Epoch 79/300\n",
            "32/32 [==============================] - 0s 5ms/step - loss: 284518688.0000 - acc: 0.0000e+00 - val_loss: 289977760.0000 - val_acc: 0.0000e+00\n",
            "Epoch 80/300\n",
            "32/32 [==============================] - 0s 5ms/step - loss: 283444352.0000 - acc: 0.0000e+00 - val_loss: 288905920.0000 - val_acc: 0.0000e+00\n",
            "Epoch 81/300\n",
            "32/32 [==============================] - 0s 5ms/step - loss: 282357376.0000 - acc: 0.0000e+00 - val_loss: 287810016.0000 - val_acc: 0.0000e+00\n",
            "Epoch 82/300\n",
            "32/32 [==============================] - 0s 5ms/step - loss: 281254592.0000 - acc: 0.0000e+00 - val_loss: 286683072.0000 - val_acc: 0.0000e+00\n",
            "Epoch 83/300\n",
            "32/32 [==============================] - 0s 6ms/step - loss: 280128000.0000 - acc: 0.0000e+00 - val_loss: 285572384.0000 - val_acc: 0.0000e+00\n",
            "Epoch 84/300\n",
            "32/32 [==============================] - 0s 5ms/step - loss: 279004032.0000 - acc: 0.0000e+00 - val_loss: 284427744.0000 - val_acc: 0.0000e+00\n",
            "Epoch 85/300\n",
            "32/32 [==============================] - 0s 4ms/step - loss: 277858304.0000 - acc: 0.0000e+00 - val_loss: 283282208.0000 - val_acc: 0.0000e+00\n",
            "Epoch 86/300\n",
            "32/32 [==============================] - 0s 4ms/step - loss: 276700768.0000 - acc: 0.0000e+00 - val_loss: 282104128.0000 - val_acc: 0.0000e+00\n",
            "Epoch 87/300\n",
            "32/32 [==============================] - 0s 4ms/step - loss: 275531104.0000 - acc: 0.0000e+00 - val_loss: 280946336.0000 - val_acc: 0.0000e+00\n",
            "Epoch 88/300\n",
            "32/32 [==============================] - 0s 4ms/step - loss: 274351808.0000 - acc: 0.0000e+00 - val_loss: 279768704.0000 - val_acc: 0.0000e+00\n",
            "Epoch 89/300\n",
            "32/32 [==============================] - 0s 6ms/step - loss: 273162592.0000 - acc: 0.0000e+00 - val_loss: 278544960.0000 - val_acc: 0.0000e+00\n",
            "Epoch 90/300\n",
            "32/32 [==============================] - 0s 4ms/step - loss: 271951904.0000 - acc: 0.0000e+00 - val_loss: 277338688.0000 - val_acc: 0.0000e+00\n",
            "Epoch 91/300\n",
            "32/32 [==============================] - 0s 4ms/step - loss: 270741056.0000 - acc: 0.0000e+00 - val_loss: 276114944.0000 - val_acc: 0.0000e+00\n",
            "Epoch 92/300\n",
            "32/32 [==============================] - 0s 4ms/step - loss: 269516448.0000 - acc: 0.0000e+00 - val_loss: 274908064.0000 - val_acc: 0.0000e+00\n",
            "Epoch 93/300\n",
            "32/32 [==============================] - 0s 4ms/step - loss: 268299104.0000 - acc: 0.0000e+00 - val_loss: 273647552.0000 - val_acc: 0.0000e+00\n",
            "Epoch 94/300\n",
            "32/32 [==============================] - 0s 4ms/step - loss: 267032080.0000 - acc: 0.0000e+00 - val_loss: 272403744.0000 - val_acc: 0.0000e+00\n",
            "Epoch 95/300\n",
            "32/32 [==============================] - 0s 4ms/step - loss: 265786960.0000 - acc: 0.0000e+00 - val_loss: 271112640.0000 - val_acc: 0.0000e+00\n",
            "Epoch 96/300\n",
            "32/32 [==============================] - 0s 4ms/step - loss: 264501488.0000 - acc: 0.0000e+00 - val_loss: 269863744.0000 - val_acc: 0.0000e+00\n",
            "Epoch 97/300\n",
            "32/32 [==============================] - 0s 3ms/step - loss: 263231840.0000 - acc: 0.0000e+00 - val_loss: 268586496.0000 - val_acc: 0.0000e+00\n",
            "Epoch 98/300\n",
            "32/32 [==============================] - 0s 3ms/step - loss: 261953424.0000 - acc: 0.0000e+00 - val_loss: 267276496.0000 - val_acc: 0.0000e+00\n",
            "Epoch 99/300\n",
            "32/32 [==============================] - 0s 4ms/step - loss: 260647696.0000 - acc: 0.0000e+00 - val_loss: 265998576.0000 - val_acc: 0.0000e+00\n",
            "Epoch 100/300\n",
            "32/32 [==============================] - 0s 3ms/step - loss: 259360848.0000 - acc: 0.0000e+00 - val_loss: 264693888.0000 - val_acc: 0.0000e+00\n",
            "Epoch 101/300\n",
            "32/32 [==============================] - 0s 3ms/step - loss: 258055088.0000 - acc: 0.0000e+00 - val_loss: 263381264.0000 - val_acc: 0.0000e+00\n",
            "Epoch 102/300\n",
            "32/32 [==============================] - 0s 3ms/step - loss: 256738144.0000 - acc: 0.0000e+00 - val_loss: 262069392.0000 - val_acc: 0.0000e+00\n",
            "Epoch 103/300\n",
            "32/32 [==============================] - 0s 4ms/step - loss: 255430048.0000 - acc: 0.0000e+00 - val_loss: 260734704.0000 - val_acc: 0.0000e+00\n",
            "Epoch 104/300\n",
            "32/32 [==============================] - 0s 4ms/step - loss: 254106960.0000 - acc: 0.0000e+00 - val_loss: 259407456.0000 - val_acc: 0.0000e+00\n",
            "Epoch 105/300\n",
            "32/32 [==============================] - 0s 3ms/step - loss: 252763712.0000 - acc: 0.0000e+00 - val_loss: 258083264.0000 - val_acc: 0.0000e+00\n",
            "Epoch 106/300\n",
            "32/32 [==============================] - 0s 3ms/step - loss: 251435904.0000 - acc: 0.0000e+00 - val_loss: 256749648.0000 - val_acc: 0.0000e+00\n",
            "Epoch 107/300\n",
            "32/32 [==============================] - 0s 3ms/step - loss: 250084592.0000 - acc: 0.0000e+00 - val_loss: 255384032.0000 - val_acc: 0.0000e+00\n",
            "Epoch 108/300\n",
            "32/32 [==============================] - 0s 3ms/step - loss: 248733712.0000 - acc: 0.0000e+00 - val_loss: 254039424.0000 - val_acc: 0.0000e+00\n",
            "Epoch 109/300\n",
            "32/32 [==============================] - 0s 4ms/step - loss: 247377280.0000 - acc: 0.0000e+00 - val_loss: 252689680.0000 - val_acc: 0.0000e+00\n",
            "Epoch 110/300\n",
            "32/32 [==============================] - 0s 4ms/step - loss: 246044624.0000 - acc: 0.0000e+00 - val_loss: 251314464.0000 - val_acc: 0.0000e+00\n",
            "Epoch 111/300\n",
            "32/32 [==============================] - 0s 3ms/step - loss: 244686480.0000 - acc: 0.0000e+00 - val_loss: 249983984.0000 - val_acc: 0.0000e+00\n",
            "Epoch 112/300\n",
            "32/32 [==============================] - 0s 4ms/step - loss: 243340448.0000 - acc: 0.0000e+00 - val_loss: 248616688.0000 - val_acc: 0.0000e+00\n",
            "Epoch 113/300\n",
            "32/32 [==============================] - 0s 4ms/step - loss: 241991664.0000 - acc: 0.0000e+00 - val_loss: 247240448.0000 - val_acc: 0.0000e+00\n",
            "Epoch 114/300\n",
            "32/32 [==============================] - 0s 4ms/step - loss: 240613136.0000 - acc: 0.0000e+00 - val_loss: 245887008.0000 - val_acc: 0.0000e+00\n",
            "Epoch 115/300\n",
            "32/32 [==============================] - 0s 4ms/step - loss: 239267248.0000 - acc: 0.0000e+00 - val_loss: 244507312.0000 - val_acc: 0.0000e+00\n",
            "Epoch 116/300\n",
            "32/32 [==============================] - 0s 4ms/step - loss: 237888736.0000 - acc: 0.0000e+00 - val_loss: 243154752.0000 - val_acc: 0.0000e+00\n",
            "Epoch 117/300\n",
            "32/32 [==============================] - 0s 3ms/step - loss: 236521808.0000 - acc: 0.0000e+00 - val_loss: 241787680.0000 - val_acc: 0.0000e+00\n",
            "Epoch 118/300\n",
            "32/32 [==============================] - 0s 4ms/step - loss: 235134368.0000 - acc: 0.0000e+00 - val_loss: 240381376.0000 - val_acc: 0.0000e+00\n",
            "Epoch 119/300\n",
            "32/32 [==============================] - 0s 4ms/step - loss: 233751344.0000 - acc: 0.0000e+00 - val_loss: 239036448.0000 - val_acc: 0.0000e+00\n",
            "Epoch 120/300\n",
            "32/32 [==============================] - 0s 4ms/step - loss: 232400080.0000 - acc: 0.0000e+00 - val_loss: 237650000.0000 - val_acc: 0.0000e+00\n",
            "Epoch 121/300\n",
            "32/32 [==============================] - 0s 3ms/step - loss: 231023424.0000 - acc: 0.0000e+00 - val_loss: 236295552.0000 - val_acc: 0.0000e+00\n",
            "Epoch 122/300\n",
            "32/32 [==============================] - 0s 4ms/step - loss: 229647440.0000 - acc: 0.0000e+00 - val_loss: 234894640.0000 - val_acc: 0.0000e+00\n",
            "Epoch 123/300\n",
            "32/32 [==============================] - 0s 4ms/step - loss: 228273328.0000 - acc: 0.0000e+00 - val_loss: 233549760.0000 - val_acc: 0.0000e+00\n",
            "Epoch 124/300\n",
            "32/32 [==============================] - 0s 4ms/step - loss: 226916816.0000 - acc: 0.0000e+00 - val_loss: 232182192.0000 - val_acc: 0.0000e+00\n",
            "Epoch 125/300\n",
            "32/32 [==============================] - 0s 4ms/step - loss: 225552320.0000 - acc: 0.0000e+00 - val_loss: 230771568.0000 - val_acc: 0.0000e+00\n",
            "Epoch 126/300\n",
            "32/32 [==============================] - 0s 3ms/step - loss: 224159040.0000 - acc: 0.0000e+00 - val_loss: 229415488.0000 - val_acc: 0.0000e+00\n",
            "Epoch 127/300\n",
            "32/32 [==============================] - 0s 4ms/step - loss: 222789360.0000 - acc: 0.0000e+00 - val_loss: 228069616.0000 - val_acc: 0.0000e+00\n",
            "Epoch 128/300\n",
            "32/32 [==============================] - 0s 4ms/step - loss: 221426096.0000 - acc: 0.0000e+00 - val_loss: 226676656.0000 - val_acc: 0.0000e+00\n",
            "Epoch 129/300\n",
            "32/32 [==============================] - 0s 3ms/step - loss: 220044192.0000 - acc: 0.0000e+00 - val_loss: 225313888.0000 - val_acc: 0.0000e+00\n",
            "Epoch 130/300\n",
            "32/32 [==============================] - 0s 3ms/step - loss: 218671808.0000 - acc: 0.0000e+00 - val_loss: 223924848.0000 - val_acc: 0.0000e+00\n",
            "Epoch 131/300\n",
            "32/32 [==============================] - 0s 4ms/step - loss: 217320752.0000 - acc: 0.0000e+00 - val_loss: 222556592.0000 - val_acc: 0.0000e+00\n",
            "Epoch 132/300\n",
            "32/32 [==============================] - 0s 4ms/step - loss: 215971408.0000 - acc: 0.0000e+00 - val_loss: 221225280.0000 - val_acc: 0.0000e+00\n",
            "Epoch 133/300\n",
            "32/32 [==============================] - 0s 3ms/step - loss: 214620144.0000 - acc: 0.0000e+00 - val_loss: 219885440.0000 - val_acc: 0.0000e+00\n",
            "Epoch 134/300\n",
            "32/32 [==============================] - 0s 3ms/step - loss: 213283824.0000 - acc: 0.0000e+00 - val_loss: 218556672.0000 - val_acc: 0.0000e+00\n",
            "Epoch 135/300\n",
            "32/32 [==============================] - 0s 4ms/step - loss: 211968160.0000 - acc: 0.0000e+00 - val_loss: 217206944.0000 - val_acc: 0.0000e+00\n",
            "Epoch 136/300\n",
            "32/32 [==============================] - 0s 4ms/step - loss: 210633392.0000 - acc: 0.0000e+00 - val_loss: 215906304.0000 - val_acc: 0.0000e+00\n",
            "Epoch 137/300\n",
            "32/32 [==============================] - 0s 3ms/step - loss: 209338496.0000 - acc: 0.0000e+00 - val_loss: 214581888.0000 - val_acc: 0.0000e+00\n",
            "Epoch 138/300\n",
            "32/32 [==============================] - 0s 5ms/step - loss: 208014816.0000 - acc: 0.0000e+00 - val_loss: 213261584.0000 - val_acc: 0.0000e+00\n",
            "Epoch 139/300\n",
            "32/32 [==============================] - 0s 3ms/step - loss: 206712656.0000 - acc: 0.0000e+00 - val_loss: 212008624.0000 - val_acc: 0.0000e+00\n",
            "Epoch 140/300\n",
            "32/32 [==============================] - 0s 3ms/step - loss: 205438976.0000 - acc: 0.0000e+00 - val_loss: 210703520.0000 - val_acc: 0.0000e+00\n",
            "Epoch 141/300\n",
            "32/32 [==============================] - 0s 4ms/step - loss: 204142240.0000 - acc: 0.0000e+00 - val_loss: 209459680.0000 - val_acc: 0.0000e+00\n",
            "Epoch 142/300\n",
            "32/32 [==============================] - 0s 3ms/step - loss: 202883504.0000 - acc: 0.0000e+00 - val_loss: 208118912.0000 - val_acc: 0.0000e+00\n",
            "Epoch 143/300\n",
            "32/32 [==============================] - 0s 3ms/step - loss: 201582960.0000 - acc: 0.0000e+00 - val_loss: 206893312.0000 - val_acc: 0.0000e+00\n",
            "Epoch 144/300\n",
            "32/32 [==============================] - 0s 3ms/step - loss: 200351072.0000 - acc: 0.0000e+00 - val_loss: 205620688.0000 - val_acc: 0.0000e+00\n",
            "Epoch 145/300\n",
            "32/32 [==============================] - 0s 3ms/step - loss: 199081664.0000 - acc: 0.0000e+00 - val_loss: 204376096.0000 - val_acc: 0.0000e+00\n",
            "Epoch 146/300\n",
            "32/32 [==============================] - 0s 3ms/step - loss: 197830880.0000 - acc: 0.0000e+00 - val_loss: 203123408.0000 - val_acc: 0.0000e+00\n",
            "Epoch 147/300\n",
            "32/32 [==============================] - 0s 3ms/step - loss: 196610096.0000 - acc: 0.0000e+00 - val_loss: 201859280.0000 - val_acc: 0.0000e+00\n",
            "Epoch 148/300\n",
            "32/32 [==============================] - 0s 3ms/step - loss: 195366896.0000 - acc: 0.0000e+00 - val_loss: 200670640.0000 - val_acc: 0.0000e+00\n",
            "Epoch 149/300\n",
            "32/32 [==============================] - 0s 3ms/step - loss: 194156752.0000 - acc: 0.0000e+00 - val_loss: 199453360.0000 - val_acc: 0.0000e+00\n",
            "Epoch 150/300\n",
            "32/32 [==============================] - 0s 3ms/step - loss: 192946656.0000 - acc: 0.0000e+00 - val_loss: 198238992.0000 - val_acc: 0.0000e+00\n",
            "Epoch 151/300\n",
            "32/32 [==============================] - 0s 3ms/step - loss: 191747616.0000 - acc: 0.0000e+00 - val_loss: 197057568.0000 - val_acc: 0.0000e+00\n",
            "Epoch 152/300\n",
            "32/32 [==============================] - 0s 3ms/step - loss: 190559840.0000 - acc: 0.0000e+00 - val_loss: 195867216.0000 - val_acc: 0.0000e+00\n",
            "Epoch 153/300\n",
            "32/32 [==============================] - 0s 4ms/step - loss: 189406304.0000 - acc: 0.0000e+00 - val_loss: 194721856.0000 - val_acc: 0.0000e+00\n",
            "Epoch 154/300\n",
            "32/32 [==============================] - 0s 3ms/step - loss: 188240208.0000 - acc: 0.0000e+00 - val_loss: 193582352.0000 - val_acc: 0.0000e+00\n",
            "Epoch 155/300\n",
            "32/32 [==============================] - 0s 3ms/step - loss: 187118512.0000 - acc: 0.0000e+00 - val_loss: 192446464.0000 - val_acc: 0.0000e+00\n",
            "Epoch 156/300\n",
            "32/32 [==============================] - 0s 4ms/step - loss: 185978432.0000 - acc: 0.0000e+00 - val_loss: 191322528.0000 - val_acc: 0.0000e+00\n",
            "Epoch 157/300\n",
            "32/32 [==============================] - 0s 4ms/step - loss: 184853552.0000 - acc: 0.0000e+00 - val_loss: 190204960.0000 - val_acc: 0.0000e+00\n",
            "Epoch 158/300\n",
            "32/32 [==============================] - 0s 4ms/step - loss: 183756592.0000 - acc: 0.0000e+00 - val_loss: 189120608.0000 - val_acc: 0.0000e+00\n",
            "Epoch 159/300\n",
            "32/32 [==============================] - 0s 3ms/step - loss: 182654288.0000 - acc: 0.0000e+00 - val_loss: 188021632.0000 - val_acc: 0.0000e+00\n",
            "Epoch 160/300\n",
            "32/32 [==============================] - 0s 3ms/step - loss: 181588752.0000 - acc: 0.0000e+00 - val_loss: 186911344.0000 - val_acc: 0.0000e+00\n",
            "Epoch 161/300\n",
            "32/32 [==============================] - 0s 4ms/step - loss: 180515152.0000 - acc: 0.0000e+00 - val_loss: 185892368.0000 - val_acc: 0.0000e+00\n",
            "Epoch 162/300\n",
            "32/32 [==============================] - 0s 4ms/step - loss: 179491200.0000 - acc: 0.0000e+00 - val_loss: 184852608.0000 - val_acc: 0.0000e+00\n",
            "Epoch 163/300\n",
            "32/32 [==============================] - 0s 4ms/step - loss: 178468944.0000 - acc: 0.0000e+00 - val_loss: 183866352.0000 - val_acc: 0.0000e+00\n",
            "Epoch 164/300\n",
            "32/32 [==============================] - 0s 3ms/step - loss: 177474800.0000 - acc: 0.0000e+00 - val_loss: 182849120.0000 - val_acc: 0.0000e+00\n",
            "Epoch 165/300\n",
            "32/32 [==============================] - 0s 4ms/step - loss: 176480672.0000 - acc: 0.0000e+00 - val_loss: 181854448.0000 - val_acc: 0.0000e+00\n",
            "Epoch 166/300\n",
            "32/32 [==============================] - 0s 3ms/step - loss: 175495760.0000 - acc: 0.0000e+00 - val_loss: 180939232.0000 - val_acc: 0.0000e+00\n",
            "Epoch 167/300\n",
            "32/32 [==============================] - 0s 3ms/step - loss: 174556016.0000 - acc: 0.0000e+00 - val_loss: 179954992.0000 - val_acc: 0.0000e+00\n",
            "Epoch 168/300\n",
            "32/32 [==============================] - 0s 4ms/step - loss: 173582032.0000 - acc: 0.0000e+00 - val_loss: 178997488.0000 - val_acc: 0.0000e+00\n",
            "Epoch 169/300\n",
            "32/32 [==============================] - 0s 3ms/step - loss: 172645136.0000 - acc: 0.0000e+00 - val_loss: 178053456.0000 - val_acc: 0.0000e+00\n",
            "Epoch 170/300\n",
            "32/32 [==============================] - 0s 3ms/step - loss: 171735392.0000 - acc: 0.0000e+00 - val_loss: 177142272.0000 - val_acc: 0.0000e+00\n",
            "Epoch 171/300\n",
            "32/32 [==============================] - 0s 4ms/step - loss: 170826432.0000 - acc: 0.0000e+00 - val_loss: 176281440.0000 - val_acc: 0.0000e+00\n",
            "Epoch 172/300\n",
            "32/32 [==============================] - 0s 3ms/step - loss: 169944752.0000 - acc: 0.0000e+00 - val_loss: 175372112.0000 - val_acc: 0.0000e+00\n",
            "Epoch 173/300\n",
            "32/32 [==============================] - 0s 3ms/step - loss: 169067584.0000 - acc: 0.0000e+00 - val_loss: 174503296.0000 - val_acc: 0.0000e+00\n",
            "Epoch 174/300\n",
            "32/32 [==============================] - 0s 4ms/step - loss: 168213808.0000 - acc: 0.0000e+00 - val_loss: 173677104.0000 - val_acc: 0.0000e+00\n",
            "Epoch 175/300\n",
            "32/32 [==============================] - 0s 4ms/step - loss: 167389056.0000 - acc: 0.0000e+00 - val_loss: 172875216.0000 - val_acc: 0.0000e+00\n",
            "Epoch 176/300\n",
            "32/32 [==============================] - 0s 3ms/step - loss: 166583312.0000 - acc: 0.0000e+00 - val_loss: 172025264.0000 - val_acc: 0.0000e+00\n",
            "Epoch 177/300\n",
            "32/32 [==============================] - 0s 3ms/step - loss: 165775488.0000 - acc: 0.0000e+00 - val_loss: 171264624.0000 - val_acc: 0.0000e+00\n",
            "Epoch 178/300\n",
            "32/32 [==============================] - 0s 3ms/step - loss: 164982880.0000 - acc: 0.0000e+00 - val_loss: 170482544.0000 - val_acc: 0.0000e+00\n",
            "Epoch 179/300\n",
            "32/32 [==============================] - 0s 3ms/step - loss: 164240048.0000 - acc: 0.0000e+00 - val_loss: 169714976.0000 - val_acc: 0.0000e+00\n",
            "Epoch 180/300\n",
            "32/32 [==============================] - 0s 3ms/step - loss: 163484512.0000 - acc: 0.0000e+00 - val_loss: 168989488.0000 - val_acc: 0.0000e+00\n",
            "Epoch 181/300\n",
            "32/32 [==============================] - 0s 4ms/step - loss: 162782672.0000 - acc: 0.0000e+00 - val_loss: 168269312.0000 - val_acc: 0.0000e+00\n",
            "Epoch 182/300\n",
            "32/32 [==============================] - 0s 3ms/step - loss: 162082224.0000 - acc: 0.0000e+00 - val_loss: 167605056.0000 - val_acc: 0.0000e+00\n",
            "Epoch 183/300\n",
            "32/32 [==============================] - 0s 4ms/step - loss: 161401808.0000 - acc: 0.0000e+00 - val_loss: 166935184.0000 - val_acc: 0.0000e+00\n",
            "Epoch 184/300\n",
            "32/32 [==============================] - 0s 3ms/step - loss: 160717824.0000 - acc: 0.0000e+00 - val_loss: 166234048.0000 - val_acc: 0.0000e+00\n",
            "Epoch 185/300\n",
            "32/32 [==============================] - 0s 3ms/step - loss: 160049152.0000 - acc: 0.0000e+00 - val_loss: 165600208.0000 - val_acc: 0.0000e+00\n",
            "Epoch 186/300\n",
            "32/32 [==============================] - 0s 4ms/step - loss: 159421808.0000 - acc: 0.0000e+00 - val_loss: 164965696.0000 - val_acc: 0.0000e+00\n",
            "Epoch 187/300\n",
            "32/32 [==============================] - 0s 5ms/step - loss: 158798000.0000 - acc: 0.0000e+00 - val_loss: 164355856.0000 - val_acc: 0.0000e+00\n",
            "Epoch 188/300\n",
            "32/32 [==============================] - 0s 5ms/step - loss: 158185312.0000 - acc: 0.0000e+00 - val_loss: 163738080.0000 - val_acc: 0.0000e+00\n",
            "Epoch 189/300\n",
            "32/32 [==============================] - 0s 4ms/step - loss: 157599024.0000 - acc: 0.0000e+00 - val_loss: 163189440.0000 - val_acc: 0.0000e+00\n",
            "Epoch 190/300\n",
            "32/32 [==============================] - 0s 3ms/step - loss: 157031648.0000 - acc: 0.0000e+00 - val_loss: 162609664.0000 - val_acc: 0.0000e+00\n",
            "Epoch 191/300\n",
            "32/32 [==============================] - 0s 4ms/step - loss: 156483168.0000 - acc: 0.0000e+00 - val_loss: 162067856.0000 - val_acc: 0.0000e+00\n",
            "Epoch 192/300\n",
            "32/32 [==============================] - 0s 4ms/step - loss: 155948848.0000 - acc: 0.0000e+00 - val_loss: 161565664.0000 - val_acc: 0.0000e+00\n",
            "Epoch 193/300\n",
            "32/32 [==============================] - 0s 4ms/step - loss: 155438848.0000 - acc: 0.0000e+00 - val_loss: 161048272.0000 - val_acc: 0.0000e+00\n",
            "Epoch 194/300\n",
            "32/32 [==============================] - 0s 4ms/step - loss: 154940496.0000 - acc: 0.0000e+00 - val_loss: 160534512.0000 - val_acc: 0.0000e+00\n",
            "Epoch 195/300\n",
            "32/32 [==============================] - 0s 4ms/step - loss: 154451424.0000 - acc: 0.0000e+00 - val_loss: 160082704.0000 - val_acc: 0.0000e+00\n",
            "Epoch 196/300\n",
            "32/32 [==============================] - 0s 3ms/step - loss: 153993904.0000 - acc: 0.0000e+00 - val_loss: 159626880.0000 - val_acc: 0.0000e+00\n",
            "Epoch 197/300\n",
            "32/32 [==============================] - 0s 4ms/step - loss: 153546816.0000 - acc: 0.0000e+00 - val_loss: 159168448.0000 - val_acc: 0.0000e+00\n",
            "Epoch 198/300\n",
            "32/32 [==============================] - 0s 3ms/step - loss: 153117632.0000 - acc: 0.0000e+00 - val_loss: 158755184.0000 - val_acc: 0.0000e+00\n",
            "Epoch 199/300\n",
            "32/32 [==============================] - 0s 3ms/step - loss: 152701296.0000 - acc: 0.0000e+00 - val_loss: 158363888.0000 - val_acc: 0.0000e+00\n",
            "Epoch 200/300\n",
            "32/32 [==============================] - 0s 4ms/step - loss: 152304656.0000 - acc: 0.0000e+00 - val_loss: 157940400.0000 - val_acc: 0.0000e+00\n",
            "Epoch 201/300\n",
            "32/32 [==============================] - 0s 3ms/step - loss: 151910752.0000 - acc: 0.0000e+00 - val_loss: 157563424.0000 - val_acc: 0.0000e+00\n",
            "Epoch 202/300\n",
            "32/32 [==============================] - 0s 3ms/step - loss: 151540192.0000 - acc: 0.0000e+00 - val_loss: 157198592.0000 - val_acc: 0.0000e+00\n",
            "Epoch 203/300\n",
            "32/32 [==============================] - 0s 4ms/step - loss: 151196000.0000 - acc: 0.0000e+00 - val_loss: 156862416.0000 - val_acc: 0.0000e+00\n",
            "Epoch 204/300\n",
            "32/32 [==============================] - 0s 4ms/step - loss: 150850864.0000 - acc: 0.0000e+00 - val_loss: 156539392.0000 - val_acc: 0.0000e+00\n",
            "Epoch 205/300\n",
            "32/32 [==============================] - 0s 3ms/step - loss: 150540576.0000 - acc: 0.0000e+00 - val_loss: 156212944.0000 - val_acc: 0.0000e+00\n",
            "Epoch 206/300\n",
            "32/32 [==============================] - 0s 3ms/step - loss: 150230320.0000 - acc: 0.0000e+00 - val_loss: 155926048.0000 - val_acc: 0.0000e+00\n",
            "Epoch 207/300\n",
            "32/32 [==============================] - 0s 3ms/step - loss: 149938944.0000 - acc: 0.0000e+00 - val_loss: 155646320.0000 - val_acc: 0.0000e+00\n",
            "Epoch 208/300\n",
            "32/32 [==============================] - 0s 3ms/step - loss: 149683952.0000 - acc: 0.0000e+00 - val_loss: 155349856.0000 - val_acc: 0.0000e+00\n",
            "Epoch 209/300\n",
            "32/32 [==============================] - 0s 4ms/step - loss: 149397088.0000 - acc: 0.0000e+00 - val_loss: 155120528.0000 - val_acc: 0.0000e+00\n",
            "Epoch 210/300\n",
            "32/32 [==============================] - 0s 4ms/step - loss: 149138064.0000 - acc: 0.0000e+00 - val_loss: 154863520.0000 - val_acc: 0.0000e+00\n",
            "Epoch 211/300\n",
            "32/32 [==============================] - 0s 4ms/step - loss: 148883280.0000 - acc: 0.0000e+00 - val_loss: 154567008.0000 - val_acc: 0.0000e+00\n",
            "Epoch 212/300\n",
            "32/32 [==============================] - 0s 4ms/step - loss: 148621760.0000 - acc: 0.0000e+00 - val_loss: 154357408.0000 - val_acc: 0.0000e+00\n",
            "Epoch 213/300\n",
            "32/32 [==============================] - 0s 4ms/step - loss: 148409536.0000 - acc: 0.0000e+00 - val_loss: 154130304.0000 - val_acc: 0.0000e+00\n",
            "Epoch 214/300\n",
            "32/32 [==============================] - 0s 3ms/step - loss: 148200464.0000 - acc: 0.0000e+00 - val_loss: 153918224.0000 - val_acc: 0.0000e+00\n",
            "Epoch 215/300\n",
            "32/32 [==============================] - 0s 4ms/step - loss: 148005616.0000 - acc: 0.0000e+00 - val_loss: 153707536.0000 - val_acc: 0.0000e+00\n",
            "Epoch 216/300\n",
            "32/32 [==============================] - 0s 4ms/step - loss: 147810672.0000 - acc: 0.0000e+00 - val_loss: 153553824.0000 - val_acc: 0.0000e+00\n",
            "Epoch 217/300\n",
            "32/32 [==============================] - 0s 4ms/step - loss: 147641264.0000 - acc: 0.0000e+00 - val_loss: 153393392.0000 - val_acc: 0.0000e+00\n",
            "Epoch 218/300\n",
            "32/32 [==============================] - 0s 4ms/step - loss: 147478272.0000 - acc: 0.0000e+00 - val_loss: 153222784.0000 - val_acc: 0.0000e+00\n",
            "Epoch 219/300\n",
            "32/32 [==============================] - 0s 3ms/step - loss: 147322576.0000 - acc: 0.0000e+00 - val_loss: 153073776.0000 - val_acc: 0.0000e+00\n",
            "Epoch 220/300\n",
            "32/32 [==============================] - 0s 4ms/step - loss: 147178848.0000 - acc: 0.0000e+00 - val_loss: 152931248.0000 - val_acc: 0.0000e+00\n",
            "Epoch 221/300\n",
            "32/32 [==============================] - 0s 5ms/step - loss: 147034368.0000 - acc: 0.0000e+00 - val_loss: 152790032.0000 - val_acc: 0.0000e+00\n",
            "Epoch 222/300\n",
            "32/32 [==============================] - 0s 3ms/step - loss: 146908944.0000 - acc: 0.0000e+00 - val_loss: 152663632.0000 - val_acc: 0.0000e+00\n",
            "Epoch 223/300\n",
            "32/32 [==============================] - 0s 4ms/step - loss: 146777856.0000 - acc: 0.0000e+00 - val_loss: 152511936.0000 - val_acc: 0.0000e+00\n",
            "Epoch 224/300\n",
            "32/32 [==============================] - 0s 4ms/step - loss: 146646224.0000 - acc: 0.0000e+00 - val_loss: 152419088.0000 - val_acc: 0.0000e+00\n",
            "Epoch 225/300\n",
            "32/32 [==============================] - 0s 3ms/step - loss: 146527040.0000 - acc: 0.0000e+00 - val_loss: 152294560.0000 - val_acc: 0.0000e+00\n",
            "Epoch 226/300\n",
            "32/32 [==============================] - 0s 4ms/step - loss: 146407232.0000 - acc: 0.0000e+00 - val_loss: 152174016.0000 - val_acc: 0.0000e+00\n",
            "Epoch 227/300\n",
            "32/32 [==============================] - 0s 4ms/step - loss: 146313392.0000 - acc: 0.0000e+00 - val_loss: 152060288.0000 - val_acc: 0.0000e+00\n",
            "Epoch 228/300\n",
            "32/32 [==============================] - 0s 4ms/step - loss: 146208624.0000 - acc: 0.0000e+00 - val_loss: 151985120.0000 - val_acc: 0.0000e+00\n",
            "Epoch 229/300\n",
            "32/32 [==============================] - 0s 4ms/step - loss: 146128096.0000 - acc: 0.0000e+00 - val_loss: 151915952.0000 - val_acc: 0.0000e+00\n",
            "Epoch 230/300\n",
            "32/32 [==============================] - 0s 4ms/step - loss: 146053232.0000 - acc: 0.0000e+00 - val_loss: 151821232.0000 - val_acc: 0.0000e+00\n",
            "Epoch 231/300\n",
            "32/32 [==============================] - 0s 4ms/step - loss: 145977056.0000 - acc: 0.0000e+00 - val_loss: 151749856.0000 - val_acc: 0.0000e+00\n",
            "Epoch 232/300\n",
            "32/32 [==============================] - 0s 4ms/step - loss: 145907744.0000 - acc: 0.0000e+00 - val_loss: 151691024.0000 - val_acc: 0.0000e+00\n",
            "Epoch 233/300\n",
            "32/32 [==============================] - 0s 4ms/step - loss: 145850960.0000 - acc: 0.0000e+00 - val_loss: 151618864.0000 - val_acc: 0.0000e+00\n",
            "Epoch 234/300\n",
            "32/32 [==============================] - 0s 3ms/step - loss: 145785488.0000 - acc: 0.0000e+00 - val_loss: 151568912.0000 - val_acc: 0.0000e+00\n",
            "Epoch 235/300\n",
            "32/32 [==============================] - 0s 4ms/step - loss: 145733648.0000 - acc: 0.0000e+00 - val_loss: 151517840.0000 - val_acc: 0.0000e+00\n",
            "Epoch 236/300\n",
            "32/32 [==============================] - 0s 4ms/step - loss: 145686752.0000 - acc: 0.0000e+00 - val_loss: 151480672.0000 - val_acc: 0.0000e+00\n",
            "Epoch 237/300\n",
            "32/32 [==============================] - 0s 4ms/step - loss: 145645776.0000 - acc: 0.0000e+00 - val_loss: 151418880.0000 - val_acc: 0.0000e+00\n",
            "Epoch 238/300\n",
            "32/32 [==============================] - 0s 3ms/step - loss: 145589104.0000 - acc: 0.0000e+00 - val_loss: 151382880.0000 - val_acc: 0.0000e+00\n",
            "Epoch 239/300\n",
            "32/32 [==============================] - 0s 4ms/step - loss: 145550688.0000 - acc: 0.0000e+00 - val_loss: 151347184.0000 - val_acc: 0.0000e+00\n",
            "Epoch 240/300\n",
            "32/32 [==============================] - 0s 4ms/step - loss: 145531008.0000 - acc: 0.0000e+00 - val_loss: 151289584.0000 - val_acc: 0.0000e+00\n",
            "Epoch 241/300\n",
            "32/32 [==============================] - 0s 4ms/step - loss: 145482768.0000 - acc: 0.0000e+00 - val_loss: 151272128.0000 - val_acc: 0.0000e+00\n",
            "Epoch 242/300\n",
            "32/32 [==============================] - 0s 4ms/step - loss: 145450912.0000 - acc: 0.0000e+00 - val_loss: 151235936.0000 - val_acc: 0.0000e+00\n",
            "Epoch 243/300\n",
            "32/32 [==============================] - 0s 3ms/step - loss: 145418704.0000 - acc: 0.0000e+00 - val_loss: 151212208.0000 - val_acc: 0.0000e+00\n",
            "Epoch 244/300\n",
            "32/32 [==============================] - 0s 4ms/step - loss: 145396144.0000 - acc: 0.0000e+00 - val_loss: 151187840.0000 - val_acc: 0.0000e+00\n",
            "Epoch 245/300\n",
            "32/32 [==============================] - 0s 4ms/step - loss: 145372176.0000 - acc: 0.0000e+00 - val_loss: 151171024.0000 - val_acc: 0.0000e+00\n",
            "Epoch 246/300\n",
            "32/32 [==============================] - 0s 5ms/step - loss: 145348096.0000 - acc: 0.0000e+00 - val_loss: 151144336.0000 - val_acc: 0.0000e+00\n",
            "Epoch 247/300\n",
            "32/32 [==============================] - 0s 6ms/step - loss: 145327376.0000 - acc: 0.0000e+00 - val_loss: 151114016.0000 - val_acc: 0.0000e+00\n",
            "Epoch 248/300\n",
            "32/32 [==============================] - 0s 4ms/step - loss: 145301456.0000 - acc: 0.0000e+00 - val_loss: 151101504.0000 - val_acc: 0.0000e+00\n",
            "Epoch 249/300\n",
            "32/32 [==============================] - 0s 5ms/step - loss: 145282896.0000 - acc: 0.0000e+00 - val_loss: 151081008.0000 - val_acc: 0.0000e+00\n",
            "Epoch 250/300\n",
            "32/32 [==============================] - 0s 5ms/step - loss: 145262528.0000 - acc: 0.0000e+00 - val_loss: 151065200.0000 - val_acc: 0.0000e+00\n",
            "Epoch 251/300\n",
            "32/32 [==============================] - 0s 4ms/step - loss: 145249920.0000 - acc: 0.0000e+00 - val_loss: 151050000.0000 - val_acc: 0.0000e+00\n",
            "Epoch 252/300\n",
            "32/32 [==============================] - 0s 4ms/step - loss: 145240672.0000 - acc: 0.0000e+00 - val_loss: 151035616.0000 - val_acc: 0.0000e+00\n",
            "Epoch 253/300\n",
            "32/32 [==============================] - 0s 4ms/step - loss: 145228336.0000 - acc: 0.0000e+00 - val_loss: 151024832.0000 - val_acc: 0.0000e+00\n",
            "Epoch 254/300\n",
            "32/32 [==============================] - 0s 6ms/step - loss: 145216368.0000 - acc: 0.0000e+00 - val_loss: 151015456.0000 - val_acc: 0.0000e+00\n",
            "Epoch 255/300\n",
            "32/32 [==============================] - 0s 5ms/step - loss: 145205040.0000 - acc: 0.0000e+00 - val_loss: 151004064.0000 - val_acc: 0.0000e+00\n",
            "Epoch 256/300\n",
            "32/32 [==============================] - 0s 5ms/step - loss: 145199792.0000 - acc: 0.0000e+00 - val_loss: 151000624.0000 - val_acc: 0.0000e+00\n",
            "Epoch 257/300\n",
            "32/32 [==============================] - 0s 5ms/step - loss: 145190336.0000 - acc: 0.0000e+00 - val_loss: 150987296.0000 - val_acc: 0.0000e+00\n",
            "Epoch 258/300\n",
            "32/32 [==============================] - 0s 4ms/step - loss: 145185200.0000 - acc: 0.0000e+00 - val_loss: 150971360.0000 - val_acc: 0.0000e+00\n",
            "Epoch 259/300\n",
            "32/32 [==============================] - 0s 4ms/step - loss: 145164880.0000 - acc: 0.0000e+00 - val_loss: 150965216.0000 - val_acc: 0.0000e+00\n",
            "Epoch 260/300\n",
            "32/32 [==============================] - 0s 5ms/step - loss: 145157968.0000 - acc: 0.0000e+00 - val_loss: 150959040.0000 - val_acc: 0.0000e+00\n",
            "Epoch 261/300\n",
            "32/32 [==============================] - 0s 5ms/step - loss: 145152240.0000 - acc: 0.0000e+00 - val_loss: 150952224.0000 - val_acc: 0.0000e+00\n",
            "Epoch 262/300\n",
            "32/32 [==============================] - 0s 6ms/step - loss: 145148256.0000 - acc: 0.0000e+00 - val_loss: 150950432.0000 - val_acc: 0.0000e+00\n",
            "Epoch 263/300\n",
            "32/32 [==============================] - 0s 5ms/step - loss: 145138352.0000 - acc: 0.0000e+00 - val_loss: 150941824.0000 - val_acc: 0.0000e+00\n",
            "Epoch 264/300\n",
            "32/32 [==============================] - 0s 5ms/step - loss: 145134048.0000 - acc: 0.0000e+00 - val_loss: 150932144.0000 - val_acc: 0.0000e+00\n",
            "Epoch 265/300\n",
            "32/32 [==============================] - 0s 5ms/step - loss: 145128032.0000 - acc: 0.0000e+00 - val_loss: 150927648.0000 - val_acc: 0.0000e+00\n",
            "Epoch 266/300\n",
            "32/32 [==============================] - 0s 4ms/step - loss: 145125152.0000 - acc: 0.0000e+00 - val_loss: 150924880.0000 - val_acc: 0.0000e+00\n",
            "Epoch 267/300\n",
            "32/32 [==============================] - 0s 5ms/step - loss: 145127536.0000 - acc: 0.0000e+00 - val_loss: 150924304.0000 - val_acc: 0.0000e+00\n",
            "Epoch 268/300\n",
            "32/32 [==============================] - 0s 5ms/step - loss: 145122784.0000 - acc: 0.0000e+00 - val_loss: 150921408.0000 - val_acc: 0.0000e+00\n",
            "Epoch 269/300\n",
            "32/32 [==============================] - 0s 6ms/step - loss: 145119216.0000 - acc: 0.0000e+00 - val_loss: 150918992.0000 - val_acc: 0.0000e+00\n",
            "Epoch 270/300\n",
            "32/32 [==============================] - 0s 6ms/step - loss: 145119168.0000 - acc: 0.0000e+00 - val_loss: 150915872.0000 - val_acc: 0.0000e+00\n",
            "Epoch 271/300\n",
            "32/32 [==============================] - 0s 5ms/step - loss: 145116224.0000 - acc: 0.0000e+00 - val_loss: 150912128.0000 - val_acc: 0.0000e+00\n",
            "Epoch 272/300\n",
            "32/32 [==============================] - 0s 5ms/step - loss: 145113616.0000 - acc: 0.0000e+00 - val_loss: 150913616.0000 - val_acc: 0.0000e+00\n",
            "Epoch 273/300\n",
            "32/32 [==============================] - 0s 5ms/step - loss: 145112336.0000 - acc: 0.0000e+00 - val_loss: 150910064.0000 - val_acc: 0.0000e+00\n",
            "Epoch 274/300\n",
            "32/32 [==============================] - 0s 7ms/step - loss: 145111104.0000 - acc: 0.0000e+00 - val_loss: 150910848.0000 - val_acc: 0.0000e+00\n",
            "Epoch 275/300\n",
            "32/32 [==============================] - 0s 5ms/step - loss: 145111424.0000 - acc: 0.0000e+00 - val_loss: 150907808.0000 - val_acc: 0.0000e+00\n",
            "Epoch 276/300\n",
            "32/32 [==============================] - 0s 6ms/step - loss: 145105744.0000 - acc: 0.0000e+00 - val_loss: 150904976.0000 - val_acc: 0.0000e+00\n",
            "Epoch 277/300\n",
            "32/32 [==============================] - 0s 5ms/step - loss: 145099120.0000 - acc: 0.0000e+00 - val_loss: 150900704.0000 - val_acc: 0.0000e+00\n",
            "Epoch 278/300\n",
            "32/32 [==============================] - 0s 4ms/step - loss: 145098048.0000 - acc: 0.0000e+00 - val_loss: 150899408.0000 - val_acc: 0.0000e+00\n",
            "Epoch 279/300\n",
            "32/32 [==============================] - 0s 4ms/step - loss: 145101568.0000 - acc: 0.0000e+00 - val_loss: 150897440.0000 - val_acc: 0.0000e+00\n",
            "Epoch 280/300\n",
            "32/32 [==============================] - 0s 5ms/step - loss: 145097968.0000 - acc: 0.0000e+00 - val_loss: 150897936.0000 - val_acc: 0.0000e+00\n",
            "Epoch 281/300\n",
            "32/32 [==============================] - 0s 6ms/step - loss: 145099488.0000 - acc: 0.0000e+00 - val_loss: 150898656.0000 - val_acc: 0.0000e+00\n",
            "Epoch 282/300\n",
            "32/32 [==============================] - 0s 6ms/step - loss: 145096592.0000 - acc: 0.0000e+00 - val_loss: 150896688.0000 - val_acc: 0.0000e+00\n",
            "Epoch 283/300\n",
            "32/32 [==============================] - 0s 5ms/step - loss: 145098992.0000 - acc: 0.0000e+00 - val_loss: 150896416.0000 - val_acc: 0.0000e+00\n",
            "Epoch 284/300\n",
            "32/32 [==============================] - 0s 6ms/step - loss: 145095056.0000 - acc: 0.0000e+00 - val_loss: 150895376.0000 - val_acc: 0.0000e+00\n",
            "Epoch 285/300\n",
            "32/32 [==============================] - 0s 5ms/step - loss: 145098800.0000 - acc: 0.0000e+00 - val_loss: 150895424.0000 - val_acc: 0.0000e+00\n",
            "Epoch 286/300\n",
            "32/32 [==============================] - 0s 4ms/step - loss: 145096000.0000 - acc: 0.0000e+00 - val_loss: 150894544.0000 - val_acc: 0.0000e+00\n",
            "Epoch 287/300\n",
            "32/32 [==============================] - 0s 5ms/step - loss: 145097664.0000 - acc: 0.0000e+00 - val_loss: 150895104.0000 - val_acc: 0.0000e+00\n",
            "Epoch 288/300\n",
            "32/32 [==============================] - 0s 5ms/step - loss: 145098512.0000 - acc: 0.0000e+00 - val_loss: 150893264.0000 - val_acc: 0.0000e+00\n",
            "Epoch 289/300\n",
            "32/32 [==============================] - 0s 4ms/step - loss: 145096016.0000 - acc: 0.0000e+00 - val_loss: 150893744.0000 - val_acc: 0.0000e+00\n",
            "Epoch 290/300\n",
            "32/32 [==============================] - 0s 4ms/step - loss: 145096192.0000 - acc: 0.0000e+00 - val_loss: 150894176.0000 - val_acc: 0.0000e+00\n",
            "Epoch 291/300\n",
            "32/32 [==============================] - 0s 4ms/step - loss: 145096656.0000 - acc: 0.0000e+00 - val_loss: 150893888.0000 - val_acc: 0.0000e+00\n",
            "Epoch 292/300\n",
            "32/32 [==============================] - 0s 4ms/step - loss: 145097888.0000 - acc: 0.0000e+00 - val_loss: 150893040.0000 - val_acc: 0.0000e+00\n",
            "Epoch 293/300\n",
            "32/32 [==============================] - 0s 5ms/step - loss: 145100832.0000 - acc: 0.0000e+00 - val_loss: 150893952.0000 - val_acc: 0.0000e+00\n",
            "Epoch 294/300\n",
            "32/32 [==============================] - 0s 5ms/step - loss: 145100192.0000 - acc: 0.0000e+00 - val_loss: 150892656.0000 - val_acc: 0.0000e+00\n",
            "Epoch 295/300\n",
            "32/32 [==============================] - 0s 4ms/step - loss: 145100368.0000 - acc: 0.0000e+00 - val_loss: 150893184.0000 - val_acc: 0.0000e+00\n",
            "Epoch 296/300\n",
            "32/32 [==============================] - 0s 5ms/step - loss: 145095024.0000 - acc: 0.0000e+00 - val_loss: 150892528.0000 - val_acc: 0.0000e+00\n",
            "Epoch 297/300\n",
            "32/32 [==============================] - 0s 4ms/step - loss: 145101296.0000 - acc: 0.0000e+00 - val_loss: 150893296.0000 - val_acc: 0.0000e+00\n",
            "Epoch 298/300\n",
            "32/32 [==============================] - 0s 4ms/step - loss: 145096720.0000 - acc: 0.0000e+00 - val_loss: 150892672.0000 - val_acc: 0.0000e+00\n",
            "Epoch 299/300\n",
            "32/32 [==============================] - 0s 4ms/step - loss: 145094608.0000 - acc: 0.0000e+00 - val_loss: 150892720.0000 - val_acc: 0.0000e+00\n",
            "Epoch 300/300\n",
            "32/32 [==============================] - 0s 4ms/step - loss: 145095056.0000 - acc: 0.0000e+00 - val_loss: 150892240.0000 - val_acc: 0.0000e+00\n"
          ],
          "name": "stdout"
        }
      ]
    },
    {
      "cell_type": "code",
      "metadata": {
        "colab": {
          "base_uri": "https://localhost:8080/",
          "height": 276
        },
        "id": "Ge9Yf60RM3el",
        "outputId": "75ce8eaa-53d0-4fe1-872e-fae1679248de"
      },
      "source": [
        "plt.plot(history.history['loss'], label='Train loss')\n",
        "plt.plot(history.history['val_loss'], label='Test Loss')\n",
        "plt.legend();"
      ],
      "execution_count": 142,
      "outputs": [
        {
          "output_type": "display_data",
          "data": {
            "image/png": "[encoded data removed]",
            "text/plain": [
              "<Figure size 432x288 with 1 Axes>"
            ]
          },
          "metadata": {
            "needs_background": "light"
          }
        }
      ]
    },
    {
      "cell_type": "code",
      "metadata": {
        "id": "OYKPAMB1M7eP"
      },
      "source": [
        ""
      ],
      "execution_count": null,
      "outputs": []
    }
  ]
}