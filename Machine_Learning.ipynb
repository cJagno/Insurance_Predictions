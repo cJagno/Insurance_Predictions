{
  "nbformat": 4,
  "nbformat_minor": 0,
  "metadata": {
    "colab": {
      "name": "Machine_Learning.ipynb",
      "provenance": [],
      "collapsed_sections": [],
      "authorship_tag": "ABX9TyNOo0yfuLU1hQ8XtDjzOU06",
      "include_colab_link": true
    },
    "kernelspec": {
      "name": "python3",
      "display_name": "Python 3"
    },
    "language_info": {
      "name": "python"
    }
  },
  "cells": [
    {
      "cell_type": "markdown",
      "metadata": {
        "id": "view-in-github",
        "colab_type": "text"
      },
      "source": [
        "<a href=\"https://colab.research.google.com/github/cJagno/Insurance_Predictions/blob/main/Machine_Learning.ipynb\" target=\"_parent\"><img src=\"https://colab.research.google.com/assets/colab-badge.svg\" alt=\"Open In Colab\"/></a>"
      ]
    },
    {
      "cell_type": "code",
      "metadata": {
        "colab": {
          "base_uri": "https://localhost:8080/"
        },
        "id": "F3KbcTnWcvPq",
        "outputId": "87803a25-39c5-4f9d-97f0-52daf2750524"
      },
      "source": [
        "from google.colab import drive\n",
        "drive.mount('/content/drive')"
      ],
      "execution_count": 35,
      "outputs": [
        {
          "output_type": "stream",
          "text": [
            "Drive already mounted at /content/drive; to attempt to forcibly remount, call drive.mount(\"/content/drive\", force_remount=True).\n"
          ],
          "name": "stdout"
        }
      ]
    },
    {
      "cell_type": "code",
      "metadata": {
        "id": "cp33clMIc6IX"
      },
      "source": [
        "import numpy as np\n",
        "import matplotlib.pyplot as plt\n",
        "import pandas as pd\n",
        "import seaborn as sns"
      ],
      "execution_count": 36,
      "outputs": []
    },
    {
      "cell_type": "code",
      "metadata": {
        "id": "kR30gKgcdFzr"
      },
      "source": [
        "df = pd.read_csv('/content/drive/MyDrive/PT_Data_Science/PandasForDataManipulation/insurance.csv')\n",
        "cf = pd.read_csv('/content/drive/MyDrive/PT_Data_Science/PandasForDataManipulation/insurance.csv')"
      ],
      "execution_count": 37,
      "outputs": []
    },
    {
      "cell_type": "code",
      "metadata": {
        "colab": {
          "base_uri": "https://localhost:8080/",
          "height": 203
        },
        "id": "WkPtNqjnmtBU",
        "outputId": "524aab3e-a7be-4fc1-81f7-780d16051af0"
      },
      "source": [
        "df.head()"
      ],
      "execution_count": 38,
      "outputs": [
        {
          "output_type": "execute_result",
          "data": {
            "text/html": [
              "<div>\n",
              "<style scoped>\n",
              "    .dataframe tbody tr th:only-of-type {\n",
              "        vertical-align: middle;\n",
              "    }\n",
              "\n",
              "    .dataframe tbody tr th {\n",
              "        vertical-align: top;\n",
              "    }\n",
              "\n",
              "    .dataframe thead th {\n",
              "        text-align: right;\n",
              "    }\n",
              "</style>\n",
              "<table border=\"1\" class=\"dataframe\">\n",
              "  <thead>\n",
              "    <tr style=\"text-align: right;\">\n",
              "      <th></th>\n",
              "      <th>age</th>\n",
              "      <th>sex</th>\n",
              "      <th>bmi</th>\n",
              "      <th>children</th>\n",
              "      <th>smoker</th>\n",
              "      <th>region</th>\n",
              "      <th>charges</th>\n",
              "    </tr>\n",
              "  </thead>\n",
              "  <tbody>\n",
              "    <tr>\n",
              "      <th>0</th>\n",
              "      <td>19</td>\n",
              "      <td>female</td>\n",
              "      <td>27.900</td>\n",
              "      <td>0</td>\n",
              "      <td>yes</td>\n",
              "      <td>southwest</td>\n",
              "      <td>16884.92400</td>\n",
              "    </tr>\n",
              "    <tr>\n",
              "      <th>1</th>\n",
              "      <td>18</td>\n",
              "      <td>male</td>\n",
              "      <td>33.770</td>\n",
              "      <td>1</td>\n",
              "      <td>no</td>\n",
              "      <td>southeast</td>\n",
              "      <td>1725.55230</td>\n",
              "    </tr>\n",
              "    <tr>\n",
              "      <th>2</th>\n",
              "      <td>28</td>\n",
              "      <td>male</td>\n",
              "      <td>33.000</td>\n",
              "      <td>3</td>\n",
              "      <td>no</td>\n",
              "      <td>southeast</td>\n",
              "      <td>4449.46200</td>\n",
              "    </tr>\n",
              "    <tr>\n",
              "      <th>3</th>\n",
              "      <td>33</td>\n",
              "      <td>male</td>\n",
              "      <td>22.705</td>\n",
              "      <td>0</td>\n",
              "      <td>no</td>\n",
              "      <td>northwest</td>\n",
              "      <td>21984.47061</td>\n",
              "    </tr>\n",
              "    <tr>\n",
              "      <th>4</th>\n",
              "      <td>32</td>\n",
              "      <td>male</td>\n",
              "      <td>28.880</td>\n",
              "      <td>0</td>\n",
              "      <td>no</td>\n",
              "      <td>northwest</td>\n",
              "      <td>3866.85520</td>\n",
              "    </tr>\n",
              "  </tbody>\n",
              "</table>\n",
              "</div>"
            ],
            "text/plain": [
              "   age     sex     bmi  children smoker     region      charges\n",
              "0   19  female  27.900         0    yes  southwest  16884.92400\n",
              "1   18    male  33.770         1     no  southeast   1725.55230\n",
              "2   28    male  33.000         3     no  southeast   4449.46200\n",
              "3   33    male  22.705         0     no  northwest  21984.47061\n",
              "4   32    male  28.880         0     no  northwest   3866.85520"
            ]
          },
          "metadata": {},
          "execution_count": 38
        }
      ]
    },
    {
      "cell_type": "code",
      "metadata": {
        "colab": {
          "base_uri": "https://localhost:8080/"
        },
        "id": "9LiHEZtYmtkl",
        "outputId": "524568f3-c202-4f60-ad41-281cc00677fe"
      },
      "source": [
        "df.info()"
      ],
      "execution_count": 39,
      "outputs": [
        {
          "output_type": "stream",
          "text": [
            "<class 'pandas.core.frame.DataFrame'>\n",
            "RangeIndex: 1338 entries, 0 to 1337\n",
            "Data columns (total 7 columns):\n",
            " #   Column    Non-Null Count  Dtype  \n",
            "---  ------    --------------  -----  \n",
            " 0   age       1338 non-null   int64  \n",
            " 1   sex       1338 non-null   object \n",
            " 2   bmi       1338 non-null   float64\n",
            " 3   children  1338 non-null   int64  \n",
            " 4   smoker    1338 non-null   object \n",
            " 5   region    1338 non-null   object \n",
            " 6   charges   1338 non-null   float64\n",
            "dtypes: float64(2), int64(2), object(3)\n",
            "memory usage: 73.3+ KB\n"
          ],
          "name": "stdout"
        }
      ]
    },
    {
      "cell_type": "code",
      "metadata": {
        "id": "CSvgIv0Cmvvg"
      },
      "source": [
        "cf['region'] = cf['region'].map({'southeast': 1,\n",
        "                                   'southwest': 2,\n",
        "                                   'northwest': 3,\n",
        "                                   'northeast': 4})"
      ],
      "execution_count": 40,
      "outputs": []
    },
    {
      "cell_type": "code",
      "metadata": {
        "id": "5YIGMg1jigIJ"
      },
      "source": [
        "cf['sex'] = cf['sex'].map({'female': 1,\n",
        "                           'male': 2})"
      ],
      "execution_count": 41,
      "outputs": []
    },
    {
      "cell_type": "code",
      "metadata": {
        "id": "VfRZ2c0gisSW"
      },
      "source": [
        "cf['smoker'] = cf['smoker'].map({'yes': 1,\n",
        "                                 'no': 0})"
      ],
      "execution_count": 42,
      "outputs": []
    },
    {
      "cell_type": "code",
      "metadata": {
        "id": "wxbVrtb9PG0g"
      },
      "source": [
        "df['smoker'] = df['smoker'].astype('bool')"
      ],
      "execution_count": 43,
      "outputs": []
    },
    {
      "cell_type": "code",
      "metadata": {
        "id": "oZ356H7khpCK"
      },
      "source": [
        "corr = cf.corr()"
      ],
      "execution_count": 44,
      "outputs": []
    },
    {
      "cell_type": "code",
      "metadata": {
        "colab": {
          "base_uri": "https://localhost:8080/",
          "height": 312
        },
        "id": "leAwXWiDg1Ez",
        "outputId": "aa3613e5-23cf-45db-b687-f36107eead34"
      },
      "source": [
        "sns.heatmap(corr, cmap='Blues', annot=True)\n",
        "plt.title('Correlations');"
      ],
      "execution_count": 45,
      "outputs": [
        {
          "output_type": "display_data",
          "data": {
            "image/png": "[encoded data removed]",
            "text/plain": [
              "<Figure size 432x288 with 2 Axes>"
            ]
          },
          "metadata": {
            "needs_background": "light"
          }
        }
      ]
    },
    {
      "cell_type": "code",
      "metadata": {
        "colab": {
          "base_uri": "https://localhost:8080/",
          "height": 366
        },
        "id": "EJzJfeang6N5",
        "outputId": "293cf831-de42-4153-fb99-28e512aa6a0b"
      },
      "source": [
        "sns.barplot(df['region'], df['charges'])\n",
        "plt.title('Average Charges per Region')"
      ],
      "execution_count": 46,
      "outputs": [
        {
          "output_type": "stream",
          "text": [
            "/usr/local/lib/python3.7/dist-packages/seaborn/_decorators.py:43: FutureWarning: Pass the following variables as keyword args: x, y. From version 0.12, the only valid positional argument will be `data`, and passing other arguments without an explicit keyword will result in an error or misinterpretation.\n",
            "  FutureWarning\n"
          ],
          "name": "stderr"
        },
        {
          "output_type": "execute_result",
          "data": {
            "text/plain": [
              "Text(0.5, 1.0, 'Average Charges per Region')"
            ]
          },
          "metadata": {},
          "execution_count": 46
        },
        {
          "output_type": "display_data",
          "data": {
            "image/png": "[encoded data removed]",
            "text/plain": [
              "<Figure size 432x288 with 1 Axes>"
            ]
          },
          "metadata": {
            "needs_background": "light"
          }
        }
      ]
    },
    {
      "cell_type": "code",
      "metadata": {
        "colab": {
          "base_uri": "https://localhost:8080/",
          "height": 366
        },
        "id": "Sv7ltqzvHSUc",
        "outputId": "1d14eaf6-9edd-4e57-859f-b10ed0adde43"
      },
      "source": [
        "sns.barplot(df['sex'], df['charges'])\n",
        "plt.title('Average Charges per Sex')"
      ],
      "execution_count": 47,
      "outputs": [
        {
          "output_type": "stream",
          "text": [
            "/usr/local/lib/python3.7/dist-packages/seaborn/_decorators.py:43: FutureWarning: Pass the following variables as keyword args: x, y. From version 0.12, the only valid positional argument will be `data`, and passing other arguments without an explicit keyword will result in an error or misinterpretation.\n",
            "  FutureWarning\n"
          ],
          "name": "stderr"
        },
        {
          "output_type": "execute_result",
          "data": {
            "text/plain": [
              "Text(0.5, 1.0, 'Average Charges per Sex')"
            ]
          },
          "metadata": {},
          "execution_count": 47
        },
        {
          "output_type": "display_data",
          "data": {
            "image/png": "[encoded data removed]",
            "text/plain": [
              "<Figure size 432x288 with 1 Axes>"
            ]
          },
          "metadata": {
            "needs_background": "light"
          }
        }
      ]
    },
    {
      "cell_type": "code",
      "metadata": {
        "id": "d4Ig0lYZGl17"
      },
      "source": [
        "southeast = df.loc[df['region']=='southeast',:]\n",
        "northeast = df.loc[df['region']=='northeast',:]"
      ],
      "execution_count": 48,
      "outputs": []
    },
    {
      "cell_type": "code",
      "metadata": {
        "colab": {
          "base_uri": "https://localhost:8080/",
          "height": 350
        },
        "id": "3wM4-U9DFqID",
        "outputId": "81d68993-d8eb-462e-ccf5-16cfbe6118f6"
      },
      "source": [
        "sns.scatterplot(southeast['bmi'], southeast['charges'])"
      ],
      "execution_count": 49,
      "outputs": [
        {
          "output_type": "stream",
          "text": [
            "/usr/local/lib/python3.7/dist-packages/seaborn/_decorators.py:43: FutureWarning: Pass the following variables as keyword args: x, y. From version 0.12, the only valid positional argument will be `data`, and passing other arguments without an explicit keyword will result in an error or misinterpretation.\n",
            "  FutureWarning\n"
          ],
          "name": "stderr"
        },
        {
          "output_type": "execute_result",
          "data": {
            "text/plain": [
              "<matplotlib.axes._subplots.AxesSubplot at 0x7f7c0d8ec350>"
            ]
          },
          "metadata": {},
          "execution_count": 49
        },
        {
          "output_type": "display_data",
          "data": {
            "image/png": "[encoded data removed]",
            "text/plain": [
              "<Figure size 432x288 with 1 Axes>"
            ]
          },
          "metadata": {
            "needs_background": "light"
          }
        }
      ]
    },
    {
      "cell_type": "code",
      "metadata": {
        "colab": {
          "base_uri": "https://localhost:8080/",
          "height": 350
        },
        "id": "2V2tKwAxHIdp",
        "outputId": "0973e2e4-fc7e-4a66-98f5-d320daa5ad56"
      },
      "source": [
        "sns.scatterplot(northeast['bmi'], northeast['charges'])"
      ],
      "execution_count": 50,
      "outputs": [
        {
          "output_type": "stream",
          "text": [
            "/usr/local/lib/python3.7/dist-packages/seaborn/_decorators.py:43: FutureWarning: Pass the following variables as keyword args: x, y. From version 0.12, the only valid positional argument will be `data`, and passing other arguments without an explicit keyword will result in an error or misinterpretation.\n",
            "  FutureWarning\n"
          ],
          "name": "stderr"
        },
        {
          "output_type": "execute_result",
          "data": {
            "text/plain": [
              "<matplotlib.axes._subplots.AxesSubplot at 0x7f7c0d8cb590>"
            ]
          },
          "metadata": {},
          "execution_count": 50
        },
        {
          "output_type": "display_data",
          "data": {
            "image/png": "[encoded data removed]",
            "text/plain": [
              "<Figure size 432x288 with 1 Axes>"
            ]
          },
          "metadata": {
            "needs_background": "light"
          }
        }
      ]
    },
    {
      "cell_type": "code",
      "metadata": {
        "id": "j3iIGuKrj76D"
      },
      "source": [
        "one_df = pd.get_dummies(df, columns=['region',\n",
        "                                     'sex',\n",
        "                                     'smoker'], drop_first = True)"
      ],
      "execution_count": 51,
      "outputs": []
    },
    {
      "cell_type": "code",
      "metadata": {
        "id": "IB6lDM4UPbGi"
      },
      "source": [
        "from sklearn.model_selection import train_test_split\n",
        "from sklearn.preprocessing import StandardScaler\n",
        "from sklearn.ensemble import GradientBoostingClassifier\n",
        "from sklearn.ensemble import RandomForestRegressor\n",
        "from sklearn.model_selection import GridSearchCV\n",
        "from sklearn.preprocessing import StandardScaler\n",
        "from sklearn.linear_model import LinearRegression"
      ],
      "execution_count": 74,
      "outputs": []
    },
    {
      "cell_type": "code",
      "metadata": {
        "id": "p1h01SykmAJo"
      },
      "source": [
        "X = one_df.drop(columns='charges')\n",
        "y = one_df['charges']"
      ],
      "execution_count": 53,
      "outputs": []
    },
    {
      "cell_type": "code",
      "metadata": {
        "id": "C1-9jWbkmYGD"
      },
      "source": [
        "X_train, X_test, y_train, y_test = train_test_split(X, y, random_state=42)"
      ],
      "execution_count": 75,
      "outputs": []
    },
    {
      "cell_type": "code",
      "metadata": {
        "id": "jK-Tr9GNmpxk"
      },
      "source": [
        "reg = LinearRegression()"
      ],
      "execution_count": 76,
      "outputs": []
    },
    {
      "cell_type": "code",
      "metadata": {
        "colab": {
          "base_uri": "https://localhost:8080/"
        },
        "id": "hBI1aI3xmw6A",
        "outputId": "1f410ebc-a1b6-44dc-be27-e998e2f84acc"
      },
      "source": [
        "reg.fit(X_train,y_train)"
      ],
      "execution_count": 80,
      "outputs": [
        {
          "output_type": "execute_result",
          "data": {
            "text/plain": [
              "LinearRegression(copy_X=True, fit_intercept=True, n_jobs=None, normalize=False)"
            ]
          },
          "metadata": {},
          "execution_count": 80
        }
      ]
    },
    {
      "cell_type": "code",
      "metadata": {
        "id": "lik5mYkEnANG"
      },
      "source": [
        "train_preds = reg.predict(X_train)\n",
        "test_preds = reg.predict(X_test)"
      ],
      "execution_count": 78,
      "outputs": []
    },
    {
      "cell_type": "code",
      "metadata": {
        "colab": {
          "base_uri": "https://localhost:8080/"
        },
        "id": "cUA_Ck6wnSuo",
        "outputId": "75380f86-b410-4c82-cf8c-654822204b93"
      },
      "source": [
        "print('Training Score:',reg.score(X_train, y_train))\n",
        "print('Testing Score:',reg.score(X_test, y_test))"
      ],
      "execution_count": 81,
      "outputs": [
        {
          "output_type": "stream",
          "text": [
            "Training Score: 0.12195698613873451\n",
            "Testing Score: 0.13770706182234194\n"
          ],
          "name": "stdout"
        }
      ]
    },
    {
      "cell_type": "code",
      "metadata": {
        "id": "---C4rYJnU3a"
      },
      "source": [
        "rf = RandomForestRegressor(n_estimators = 275, max_depth= 5, min_samples_leaf=3,min_samples_split= 2, random_state= 42)"
      ],
      "execution_count": 62,
      "outputs": []
    },
    {
      "cell_type": "code",
      "metadata": {
        "colab": {
          "base_uri": "https://localhost:8080/"
        },
        "id": "jcntzdmcr8rc",
        "outputId": "1da1c691-8921-462f-f94b-f7c92aa05e8f"
      },
      "source": [
        "rf.fit(X_train,y_train)"
      ],
      "execution_count": 63,
      "outputs": [
        {
          "output_type": "execute_result",
          "data": {
            "text/plain": [
              "RandomForestRegressor(bootstrap=True, ccp_alpha=0.0, criterion='mse',\n",
              "                      max_depth=5, max_features='auto', max_leaf_nodes=None,\n",
              "                      max_samples=None, min_impurity_decrease=0.0,\n",
              "                      min_impurity_split=None, min_samples_leaf=3,\n",
              "                      min_samples_split=2, min_weight_fraction_leaf=0.0,\n",
              "                      n_estimators=275, n_jobs=None, oob_score=False,\n",
              "                      random_state=42, verbose=0, warm_start=False)"
            ]
          },
          "metadata": {},
          "execution_count": 63
        }
      ]
    },
    {
      "cell_type": "code",
      "metadata": {
        "id": "6cg_perl0gSv"
      },
      "source": [
        "estimator_range = [1] + list(range(10, 300, 10))\n",
        "scores = []\n",
        "for estimator in estimator_range:\n",
        "    rf = RandomForestRegressor(n_estimators=estimator,\n",
        "                                 random_state=0)\n",
        "    rf.fit(X_train, y_train)\n",
        "    scores.append(rf.score(X_test, y_test))"
      ],
      "execution_count": 64,
      "outputs": []
    },
    {
      "cell_type": "code",
      "metadata": {
        "colab": {
          "base_uri": "https://localhost:8080/",
          "height": 296
        },
        "id": "-BQI26sV0iD2",
        "outputId": "0eea5a78-765b-46fa-96d4-998d09e2fcfc"
      },
      "source": [
        "plt.plot(estimator_range, scores);\n",
        "plt.xlabel('estimator')\n",
        "plt.ylabel('score')"
      ],
      "execution_count": 65,
      "outputs": [
        {
          "output_type": "execute_result",
          "data": {
            "text/plain": [
              "Text(0, 0.5, 'score')"
            ]
          },
          "metadata": {},
          "execution_count": 65
        },
        {
          "output_type": "display_data",
          "data": {
            "image/png": "[encoded data removed]",
            "text/plain": [
              "<Figure size 432x288 with 1 Axes>"
            ]
          },
          "metadata": {
            "needs_background": "light"
          }
        }
      ]
    },
    {
      "cell_type": "code",
      "metadata": {
        "colab": {
          "base_uri": "https://localhost:8080/"
        },
        "id": "5fKhOFOu0lJ_",
        "outputId": "01a3a9d0-c7e9-4e67-9f62-cd50844ea6a1"
      },
      "source": [
        "print('Training accuracy:', rf.score(X_train, y_train))\n",
        "print('Testing accuracy:', rf.score(X_test, y_test))"
      ],
      "execution_count": 89,
      "outputs": [
        {
          "output_type": "stream",
          "text": [
            "Training accuracy: 0.8531248451825562\n",
            "Testing accuracy: 0.03629542805878461\n"
          ],
          "name": "stdout"
        }
      ]
    },
    {
      "cell_type": "code",
      "metadata": {
        "id": "BmuaxoYbqYXr"
      },
      "source": [
        "params = {'n_jobs': [-1, 1],\n",
        "           'min_samples_split': [2, 4, 6],\n",
        "           'min_samples_leaf': [1, 3],\n",
        "          'max_depth': [None, 5]}"
      ],
      "execution_count": 67,
      "outputs": []
    },
    {
      "cell_type": "code",
      "metadata": {
        "id": "NjBiPGEIrp3L"
      },
      "source": [
        "gs = GridSearchCV(rf, params)"
      ],
      "execution_count": 68,
      "outputs": []
    },
    {
      "cell_type": "code",
      "metadata": {
        "colab": {
          "base_uri": "https://localhost:8080/"
        },
        "id": "XbLwSnOlrsKD",
        "outputId": "1d2da830-5908-4b8a-86d4-b2a8b06248c0"
      },
      "source": [
        "gs.fit(X_train, y_train)"
      ],
      "execution_count": 69,
      "outputs": [
        {
          "output_type": "execute_result",
          "data": {
            "text/plain": [
              "GridSearchCV(cv=None, error_score=nan,\n",
              "             estimator=RandomForestRegressor(bootstrap=True, ccp_alpha=0.0,\n",
              "                                             criterion='mse', max_depth=None,\n",
              "                                             max_features='auto',\n",
              "                                             max_leaf_nodes=None,\n",
              "                                             max_samples=None,\n",
              "                                             min_impurity_decrease=0.0,\n",
              "                                             min_impurity_split=None,\n",
              "                                             min_samples_leaf=1,\n",
              "                                             min_samples_split=2,\n",
              "                                             min_weight_fraction_leaf=0.0,\n",
              "                                             n_estimators=290, n_jobs=None,\n",
              "                                             oob_score=False, random_state=0,\n",
              "                                             verbose=0, warm_start=False),\n",
              "             iid='deprecated', n_jobs=None,\n",
              "             param_grid={'max_depth': [None, 5], 'min_samples_leaf': [1, 3],\n",
              "                         'min_samples_split': [2, 4, 6], 'n_jobs': [-1, 1]},\n",
              "             pre_dispatch='2*n_jobs', refit=True, return_train_score=False,\n",
              "             scoring=None, verbose=0)"
            ]
          },
          "metadata": {},
          "execution_count": 69
        }
      ]
    },
    {
      "cell_type": "code",
      "metadata": {
        "colab": {
          "base_uri": "https://localhost:8080/"
        },
        "id": "ACcLzA3tx4hJ",
        "outputId": "e1641816-ec4f-4ebf-f25a-e3bf64a2e2d5"
      },
      "source": [
        "gs.best_params_"
      ],
      "execution_count": 70,
      "outputs": [
        {
          "output_type": "execute_result",
          "data": {
            "text/plain": [
              "{'max_depth': 5, 'min_samples_leaf': 1, 'min_samples_split': 2, 'n_jobs': -1}"
            ]
          },
          "metadata": {},
          "execution_count": 70
        }
      ]
    },
    {
      "cell_type": "code",
      "metadata": {
        "colab": {
          "base_uri": "https://localhost:8080/"
        },
        "id": "gEdhaUjdx8wm",
        "outputId": "ab871a31-7e00-4f30-8870-85f860851ef1"
      },
      "source": [
        "gs.best_score_"
      ],
      "execution_count": 71,
      "outputs": [
        {
          "output_type": "execute_result",
          "data": {
            "text/plain": [
              "0.06483622245846501"
            ]
          },
          "metadata": {},
          "execution_count": 71
        }
      ]
    },
    {
      "cell_type": "code",
      "metadata": {
        "id": "5ZK5wshnS4dB"
      },
      "source": [
        "from sklearn.decomposition import PCA\n",
        "from sklearn.preprocessing import LabelEncoder"
      ],
      "execution_count": 94,
      "outputs": []
    },
    {
      "cell_type": "code",
      "metadata": {
        "id": "4QUGpP85S3ji"
      },
      "source": [
        "scaler = StandardScaler()\n",
        "scaled_df = scaler.fit_transform(X)"
      ],
      "execution_count": 95,
      "outputs": []
    },
    {
      "cell_type": "code",
      "metadata": {
        "id": "kOGl1mvgSyug"
      },
      "source": [
        "pca = PCA(n_components=2)\n",
        "pcs = pca.fit_transform(scaled_df)"
      ],
      "execution_count": 96,
      "outputs": []
    },
    {
      "cell_type": "code",
      "metadata": {
        "colab": {
          "base_uri": "https://localhost:8080/",
          "height": 295
        },
        "id": "LHTH_Rg3Incz",
        "outputId": "244be0f1-50cb-48d0-d974-2daf3853a6b3"
      },
      "source": [
        "plt.figure(figsize = (8, 4))\n",
        "plt.scatter(pcs[:,0], pcs[:,1], c = y)\n",
        "plt.title('Visualization of all of our data using the first two Principal Components')\n",
        "plt.xlabel('PC1')\n",
        "plt.ylabel('PC2');"
      ],
      "execution_count": 97,
      "outputs": [
        {
          "output_type": "display_data",
          "data": {
            "image/png": "[encoded data removed]",
            "text/plain": [
              "<Figure size 576x288 with 1 Axes>"
            ]
          },
          "metadata": {
            "needs_background": "light"
          }
        }
      ]
    },
    {
      "cell_type": "code",
      "metadata": {
        "id": "aiL27OzVNcwc"
      },
      "source": [
        "from keras.wrappers.scikit_learn import KerasRegressor\n",
        "from keras.models import Sequential\n",
        "from keras.layers import Dense, Dropout, Activation\n",
        "from sklearn.metrics import accuracy_score"
      ],
      "execution_count": 82,
      "outputs": []
    },
    {
      "cell_type": "code",
      "metadata": {
        "colab": {
          "base_uri": "https://localhost:8080/"
        },
        "id": "EhjSak-YlYCE",
        "outputId": "01b3330d-5203-48a2-ade0-3ba94ab71e29"
      },
      "source": [
        "input_shape = X_train.shape[1:6]\n",
        "input_shape"
      ],
      "execution_count": 83,
      "outputs": [
        {
          "output_type": "execute_result",
          "data": {
            "text/plain": [
              "(7,)"
            ]
          },
          "metadata": {},
          "execution_count": 83
        }
      ]
    },
    {
      "cell_type": "code",
      "metadata": {
        "id": "VL81jpN-In1S"
      },
      "source": [
        "model = Sequential()"
      ],
      "execution_count": 84,
      "outputs": []
    },
    {
      "cell_type": "code",
      "metadata": {
        "id": "YlsDmA8LMPbW"
      },
      "source": [
        "model.add(Dense(6, input_shape = input_shape))\n",
        "model.add(Dense(3 ))\n",
        "model.add(Dense(1))"
      ],
      "execution_count": 90,
      "outputs": []
    },
    {
      "cell_type": "code",
      "metadata": {
        "id": "aODa-LhUMvO6"
      },
      "source": [
        "model.compile(optimizer='adam', loss='mean_squared_error')"
      ],
      "execution_count": 91,
      "outputs": []
    },
    {
      "cell_type": "code",
      "metadata": {
        "colab": {
          "base_uri": "https://localhost:8080/"
        },
        "id": "jhy4CF0ZMzsS",
        "outputId": "abc9975f-0a19-476f-9b23-056b36ca2b8d"
      },
      "source": [
        "history = model.fit(X_train, y_train,\n",
        "                    validation_data = (X_test, y_test),\n",
        "                    epochs = 300)"
      ],
      "execution_count": 92,
      "outputs": [
        {
          "output_type": "stream",
          "text": [
            "Epoch 1/300\n",
            "32/32 [==============================] - 1s 6ms/step - loss: 320951104.0000 - val_loss: 326951680.0000\n",
            "Epoch 2/300\n",
            "32/32 [==============================] - 0s 3ms/step - loss: 320825600.0000 - val_loss: 326816800.0000\n",
            "Epoch 3/300\n",
            "32/32 [==============================] - 0s 2ms/step - loss: 320681760.0000 - val_loss: 326661568.0000\n",
            "Epoch 4/300\n",
            "32/32 [==============================] - 0s 2ms/step - loss: 320515200.0000 - val_loss: 326480832.0000\n",
            "Epoch 5/300\n",
            "32/32 [==============================] - 0s 3ms/step - loss: 320321184.0000 - val_loss: 326268960.0000\n",
            "Epoch 6/300\n",
            "32/32 [==============================] - 0s 3ms/step - loss: 320093984.0000 - val_loss: 326023520.0000\n",
            "Epoch 7/300\n",
            "32/32 [==============================] - 0s 3ms/step - loss: 319828800.0000 - val_loss: 325736480.0000\n",
            "Epoch 8/300\n",
            "32/32 [==============================] - 0s 3ms/step - loss: 319517728.0000 - val_loss: 325395968.0000\n",
            "Epoch 9/300\n",
            "32/32 [==============================] - 0s 3ms/step - loss: 319146528.0000 - val_loss: 325003584.0000\n",
            "Epoch 10/300\n",
            "32/32 [==============================] - 0s 3ms/step - loss: 318714656.0000 - val_loss: 324519808.0000\n",
            "Epoch 11/300\n",
            "32/32 [==============================] - 0s 2ms/step - loss: 318202432.0000 - val_loss: 323959232.0000\n",
            "Epoch 12/300\n",
            "32/32 [==============================] - 0s 3ms/step - loss: 317599776.0000 - val_loss: 323314272.0000\n",
            "Epoch 13/300\n",
            "32/32 [==============================] - 0s 2ms/step - loss: 316904416.0000 - val_loss: 322546336.0000\n",
            "Epoch 14/300\n",
            "32/32 [==============================] - 0s 3ms/step - loss: 316082240.0000 - val_loss: 321677408.0000\n",
            "Epoch 15/300\n",
            "32/32 [==============================] - 0s 3ms/step - loss: 315163648.0000 - val_loss: 320677952.0000\n",
            "Epoch 16/300\n",
            "32/32 [==============================] - 0s 2ms/step - loss: 314098208.0000 - val_loss: 319556608.0000\n",
            "Epoch 17/300\n",
            "32/32 [==============================] - 0s 3ms/step - loss: 312902528.0000 - val_loss: 318275904.0000\n",
            "Epoch 18/300\n",
            "32/32 [==============================] - 0s 2ms/step - loss: 311561280.0000 - val_loss: 316850048.0000\n",
            "Epoch 19/300\n",
            "32/32 [==============================] - 0s 3ms/step - loss: 310058304.0000 - val_loss: 315285376.0000\n",
            "Epoch 20/300\n",
            "32/32 [==============================] - 0s 2ms/step - loss: 308407840.0000 - val_loss: 313526240.0000\n",
            "Epoch 21/300\n",
            "32/32 [==============================] - 0s 2ms/step - loss: 306592064.0000 - val_loss: 311614976.0000\n",
            "Epoch 22/300\n",
            "32/32 [==============================] - 0s 3ms/step - loss: 304609760.0000 - val_loss: 309589728.0000\n",
            "Epoch 23/300\n",
            "32/32 [==============================] - 0s 3ms/step - loss: 302471200.0000 - val_loss: 307360064.0000\n",
            "Epoch 24/300\n",
            "32/32 [==============================] - 0s 2ms/step - loss: 300161344.0000 - val_loss: 304904736.0000\n",
            "Epoch 25/300\n",
            "32/32 [==============================] - 0s 2ms/step - loss: 297660448.0000 - val_loss: 302346560.0000\n",
            "Epoch 26/300\n",
            "32/32 [==============================] - 0s 2ms/step - loss: 295009888.0000 - val_loss: 299621824.0000\n",
            "Epoch 27/300\n",
            "32/32 [==============================] - 0s 2ms/step - loss: 292176704.0000 - val_loss: 296655072.0000\n",
            "Epoch 28/300\n",
            "32/32 [==============================] - 0s 2ms/step - loss: 289174016.0000 - val_loss: 293608672.0000\n",
            "Epoch 29/300\n",
            "32/32 [==============================] - 0s 3ms/step - loss: 286003840.0000 - val_loss: 290281088.0000\n",
            "Epoch 30/300\n",
            "32/32 [==============================] - 0s 2ms/step - loss: 282661696.0000 - val_loss: 286885280.0000\n",
            "Epoch 31/300\n",
            "32/32 [==============================] - 0s 2ms/step - loss: 279176736.0000 - val_loss: 283349024.0000\n",
            "Epoch 32/300\n",
            "32/32 [==============================] - 0s 2ms/step - loss: 275574432.0000 - val_loss: 279624128.0000\n",
            "Epoch 33/300\n",
            "32/32 [==============================] - 0s 2ms/step - loss: 271777536.0000 - val_loss: 275771744.0000\n",
            "Epoch 34/300\n",
            "32/32 [==============================] - 0s 3ms/step - loss: 267837296.0000 - val_loss: 271780480.0000\n",
            "Epoch 35/300\n",
            "32/32 [==============================] - 0s 3ms/step - loss: 263772080.0000 - val_loss: 267692496.0000\n",
            "Epoch 36/300\n",
            "32/32 [==============================] - 0s 2ms/step - loss: 259625952.0000 - val_loss: 263414912.0000\n",
            "Epoch 37/300\n",
            "32/32 [==============================] - 0s 2ms/step - loss: 255349632.0000 - val_loss: 259155392.0000\n",
            "Epoch 38/300\n",
            "32/32 [==============================] - 0s 2ms/step - loss: 251018464.0000 - val_loss: 254687520.0000\n",
            "Epoch 39/300\n",
            "32/32 [==============================] - 0s 3ms/step - loss: 246582320.0000 - val_loss: 250248752.0000\n",
            "Epoch 40/300\n",
            "32/32 [==============================] - 0s 2ms/step - loss: 242094688.0000 - val_loss: 245783376.0000\n",
            "Epoch 41/300\n",
            "32/32 [==============================] - 0s 2ms/step - loss: 237590416.0000 - val_loss: 241165216.0000\n",
            "Epoch 42/300\n",
            "32/32 [==============================] - 0s 2ms/step - loss: 233011392.0000 - val_loss: 236591712.0000\n",
            "Epoch 43/300\n",
            "32/32 [==============================] - 0s 3ms/step - loss: 228420592.0000 - val_loss: 232035248.0000\n",
            "Epoch 44/300\n",
            "32/32 [==============================] - 0s 2ms/step - loss: 223832000.0000 - val_loss: 227361968.0000\n",
            "Epoch 45/300\n",
            "32/32 [==============================] - 0s 2ms/step - loss: 219258384.0000 - val_loss: 222837488.0000\n",
            "Epoch 46/300\n",
            "32/32 [==============================] - 0s 3ms/step - loss: 214751024.0000 - val_loss: 218373696.0000\n",
            "Epoch 47/300\n",
            "32/32 [==============================] - 0s 3ms/step - loss: 210317024.0000 - val_loss: 214013728.0000\n",
            "Epoch 48/300\n",
            "32/32 [==============================] - 0s 2ms/step - loss: 206015776.0000 - val_loss: 209624704.0000\n",
            "Epoch 49/300\n",
            "32/32 [==============================] - 0s 3ms/step - loss: 201663184.0000 - val_loss: 205464656.0000\n",
            "Epoch 50/300\n",
            "32/32 [==============================] - 0s 3ms/step - loss: 197467344.0000 - val_loss: 201370320.0000\n",
            "Epoch 51/300\n",
            "32/32 [==============================] - 0s 3ms/step - loss: 193478016.0000 - val_loss: 197137792.0000\n",
            "Epoch 52/300\n",
            "32/32 [==============================] - 0s 2ms/step - loss: 189432448.0000 - val_loss: 193370032.0000\n",
            "Epoch 53/300\n",
            "32/32 [==============================] - 0s 3ms/step - loss: 185691024.0000 - val_loss: 189827744.0000\n",
            "Epoch 54/300\n",
            "32/32 [==============================] - 0s 3ms/step - loss: 182143344.0000 - val_loss: 186270960.0000\n",
            "Epoch 55/300\n",
            "32/32 [==============================] - 0s 2ms/step - loss: 178638976.0000 - val_loss: 182846752.0000\n",
            "Epoch 56/300\n",
            "32/32 [==============================] - 0s 2ms/step - loss: 175323536.0000 - val_loss: 179519264.0000\n",
            "Epoch 57/300\n",
            "32/32 [==============================] - 0s 2ms/step - loss: 172274208.0000 - val_loss: 176583552.0000\n",
            "Epoch 58/300\n",
            "32/32 [==============================] - 0s 2ms/step - loss: 169417104.0000 - val_loss: 173855744.0000\n",
            "Epoch 59/300\n",
            "32/32 [==============================] - 0s 2ms/step - loss: 166716000.0000 - val_loss: 171257360.0000\n",
            "Epoch 60/300\n",
            "32/32 [==============================] - 0s 2ms/step - loss: 164212224.0000 - val_loss: 168887472.0000\n",
            "Epoch 61/300\n",
            "32/32 [==============================] - 0s 2ms/step - loss: 161979840.0000 - val_loss: 166791968.0000\n",
            "Epoch 62/300\n",
            "32/32 [==============================] - 0s 2ms/step - loss: 159922560.0000 - val_loss: 164830864.0000\n",
            "Epoch 63/300\n",
            "32/32 [==============================] - 0s 2ms/step - loss: 158032960.0000 - val_loss: 163054416.0000\n",
            "Epoch 64/300\n",
            "32/32 [==============================] - 0s 2ms/step - loss: 156339264.0000 - val_loss: 161345088.0000\n",
            "Epoch 65/300\n",
            "32/32 [==============================] - 0s 2ms/step - loss: 154774320.0000 - val_loss: 159795888.0000\n",
            "Epoch 66/300\n",
            "32/32 [==============================] - 0s 3ms/step - loss: 153383904.0000 - val_loss: 158591440.0000\n",
            "Epoch 67/300\n",
            "32/32 [==============================] - 0s 2ms/step - loss: 152151360.0000 - val_loss: 157452384.0000\n",
            "Epoch 68/300\n",
            "32/32 [==============================] - 0s 3ms/step - loss: 151087888.0000 - val_loss: 156391584.0000\n",
            "Epoch 69/300\n",
            "32/32 [==============================] - 0s 3ms/step - loss: 150109472.0000 - val_loss: 155430992.0000\n",
            "Epoch 70/300\n",
            "32/32 [==============================] - 0s 2ms/step - loss: 149265568.0000 - val_loss: 154737264.0000\n",
            "Epoch 71/300\n",
            "32/32 [==============================] - 0s 3ms/step - loss: 148602528.0000 - val_loss: 154136288.0000\n",
            "Epoch 72/300\n",
            "32/32 [==============================] - 0s 3ms/step - loss: 148025440.0000 - val_loss: 153598752.0000\n",
            "Epoch 73/300\n",
            "32/32 [==============================] - 0s 2ms/step - loss: 147521840.0000 - val_loss: 153125040.0000\n",
            "Epoch 74/300\n",
            "32/32 [==============================] - 0s 2ms/step - loss: 147079536.0000 - val_loss: 152663936.0000\n",
            "Epoch 75/300\n",
            "32/32 [==============================] - 0s 2ms/step - loss: 146674336.0000 - val_loss: 152326704.0000\n",
            "Epoch 76/300\n",
            "32/32 [==============================] - 0s 3ms/step - loss: 146386624.0000 - val_loss: 152076128.0000\n",
            "Epoch 77/300\n",
            "32/32 [==============================] - 0s 3ms/step - loss: 146154272.0000 - val_loss: 151865600.0000\n",
            "Epoch 78/300\n",
            "32/32 [==============================] - 0s 3ms/step - loss: 145961008.0000 - val_loss: 151656224.0000\n",
            "Epoch 79/300\n",
            "32/32 [==============================] - 0s 2ms/step - loss: 145784304.0000 - val_loss: 151523120.0000\n",
            "Epoch 80/300\n",
            "32/32 [==============================] - 0s 2ms/step - loss: 145648352.0000 - val_loss: 151394048.0000\n",
            "Epoch 81/300\n",
            "32/32 [==============================] - 0s 2ms/step - loss: 145530720.0000 - val_loss: 151294032.0000\n",
            "Epoch 82/300\n",
            "32/32 [==============================] - 0s 3ms/step - loss: 145421488.0000 - val_loss: 151182496.0000\n",
            "Epoch 83/300\n",
            "32/32 [==============================] - 0s 3ms/step - loss: 145346896.0000 - val_loss: 151120752.0000\n",
            "Epoch 84/300\n",
            "32/32 [==============================] - 0s 2ms/step - loss: 145273376.0000 - val_loss: 151066736.0000\n",
            "Epoch 85/300\n",
            "32/32 [==============================] - 0s 2ms/step - loss: 145232896.0000 - val_loss: 151010848.0000\n",
            "Epoch 86/300\n",
            "32/32 [==============================] - 0s 3ms/step - loss: 145203184.0000 - val_loss: 150984720.0000\n",
            "Epoch 87/300\n",
            "32/32 [==============================] - 0s 2ms/step - loss: 145177392.0000 - val_loss: 150962784.0000\n",
            "Epoch 88/300\n",
            "32/32 [==============================] - 0s 2ms/step - loss: 145198736.0000 - val_loss: 150938400.0000\n",
            "Epoch 89/300\n",
            "32/32 [==============================] - 0s 3ms/step - loss: 145149888.0000 - val_loss: 150929520.0000\n",
            "Epoch 90/300\n",
            "32/32 [==============================] - 0s 3ms/step - loss: 145132816.0000 - val_loss: 150932720.0000\n",
            "Epoch 91/300\n",
            "32/32 [==============================] - 0s 3ms/step - loss: 145134384.0000 - val_loss: 150919616.0000\n",
            "Epoch 92/300\n",
            "32/32 [==============================] - 0s 2ms/step - loss: 145123200.0000 - val_loss: 150913744.0000\n",
            "Epoch 93/300\n",
            "32/32 [==============================] - 0s 2ms/step - loss: 145121584.0000 - val_loss: 150911520.0000\n",
            "Epoch 94/300\n",
            "32/32 [==============================] - 0s 2ms/step - loss: 145111536.0000 - val_loss: 150908544.0000\n",
            "Epoch 95/300\n",
            "32/32 [==============================] - 0s 2ms/step - loss: 145130880.0000 - val_loss: 150912320.0000\n",
            "Epoch 96/300\n",
            "32/32 [==============================] - 0s 2ms/step - loss: 145109136.0000 - val_loss: 150901136.0000\n",
            "Epoch 97/300\n",
            "32/32 [==============================] - 0s 2ms/step - loss: 145104800.0000 - val_loss: 150899248.0000\n",
            "Epoch 98/300\n",
            "32/32 [==============================] - 0s 2ms/step - loss: 145109600.0000 - val_loss: 150897344.0000\n",
            "Epoch 99/300\n",
            "32/32 [==============================] - 0s 2ms/step - loss: 145099248.0000 - val_loss: 150900448.0000\n",
            "Epoch 100/300\n",
            "32/32 [==============================] - 0s 2ms/step - loss: 145105840.0000 - val_loss: 150901744.0000\n",
            "Epoch 101/300\n",
            "32/32 [==============================] - 0s 3ms/step - loss: 145102864.0000 - val_loss: 150897088.0000\n",
            "Epoch 102/300\n",
            "32/32 [==============================] - 0s 2ms/step - loss: 145111424.0000 - val_loss: 150895856.0000\n",
            "Epoch 103/300\n",
            "32/32 [==============================] - 0s 3ms/step - loss: 145105040.0000 - val_loss: 150895856.0000\n",
            "Epoch 104/300\n",
            "32/32 [==============================] - 0s 3ms/step - loss: 145102304.0000 - val_loss: 150893744.0000\n",
            "Epoch 105/300\n",
            "32/32 [==============================] - 0s 2ms/step - loss: 145097376.0000 - val_loss: 150895376.0000\n",
            "Epoch 106/300\n",
            "32/32 [==============================] - 0s 3ms/step - loss: 145094512.0000 - val_loss: 150893888.0000\n",
            "Epoch 107/300\n",
            "32/32 [==============================] - 0s 2ms/step - loss: 145099456.0000 - val_loss: 150891440.0000\n",
            "Epoch 108/300\n",
            "32/32 [==============================] - 0s 2ms/step - loss: 145095552.0000 - val_loss: 150892096.0000\n",
            "Epoch 109/300\n",
            "32/32 [==============================] - 0s 3ms/step - loss: 145098560.0000 - val_loss: 150891744.0000\n",
            "Epoch 110/300\n",
            "32/32 [==============================] - 0s 2ms/step - loss: 145105152.0000 - val_loss: 150891168.0000\n",
            "Epoch 111/300\n",
            "32/32 [==============================] - 0s 2ms/step - loss: 145092208.0000 - val_loss: 150891600.0000\n",
            "Epoch 112/300\n",
            "32/32 [==============================] - 0s 2ms/step - loss: 145126160.0000 - val_loss: 150892464.0000\n",
            "Epoch 113/300\n",
            "32/32 [==============================] - 0s 2ms/step - loss: 145091952.0000 - val_loss: 150891680.0000\n",
            "Epoch 114/300\n",
            "32/32 [==============================] - 0s 2ms/step - loss: 145101680.0000 - val_loss: 150891152.0000\n",
            "Epoch 115/300\n",
            "32/32 [==============================] - 0s 2ms/step - loss: 145102400.0000 - val_loss: 150891328.0000\n",
            "Epoch 116/300\n",
            "32/32 [==============================] - 0s 2ms/step - loss: 145108224.0000 - val_loss: 150891168.0000\n",
            "Epoch 117/300\n",
            "32/32 [==============================] - 0s 3ms/step - loss: 145099200.0000 - val_loss: 150891136.0000\n",
            "Epoch 118/300\n",
            "32/32 [==============================] - 0s 3ms/step - loss: 145117984.0000 - val_loss: 150895472.0000\n",
            "Epoch 119/300\n",
            "32/32 [==============================] - 0s 2ms/step - loss: 145100256.0000 - val_loss: 150892848.0000\n",
            "Epoch 120/300\n",
            "32/32 [==============================] - 0s 2ms/step - loss: 145099824.0000 - val_loss: 150893152.0000\n",
            "Epoch 121/300\n",
            "32/32 [==============================] - 0s 2ms/step - loss: 145109616.0000 - val_loss: 150892832.0000\n",
            "Epoch 122/300\n",
            "32/32 [==============================] - 0s 3ms/step - loss: 145096912.0000 - val_loss: 150892784.0000\n",
            "Epoch 123/300\n",
            "32/32 [==============================] - 0s 2ms/step - loss: 145102784.0000 - val_loss: 150893296.0000\n",
            "Epoch 124/300\n",
            "32/32 [==============================] - 0s 3ms/step - loss: 145109264.0000 - val_loss: 150891520.0000\n",
            "Epoch 125/300\n",
            "32/32 [==============================] - 0s 3ms/step - loss: 145099728.0000 - val_loss: 150891696.0000\n",
            "Epoch 126/300\n",
            "32/32 [==============================] - 0s 3ms/step - loss: 145108688.0000 - val_loss: 150892112.0000\n",
            "Epoch 127/300\n",
            "32/32 [==============================] - 0s 2ms/step - loss: 145116288.0000 - val_loss: 150891184.0000\n",
            "Epoch 128/300\n",
            "32/32 [==============================] - 0s 3ms/step - loss: 145110016.0000 - val_loss: 150891168.0000\n",
            "Epoch 129/300\n",
            "32/32 [==============================] - 0s 2ms/step - loss: 145109424.0000 - val_loss: 150891328.0000\n",
            "Epoch 130/300\n",
            "32/32 [==============================] - 0s 3ms/step - loss: 145101328.0000 - val_loss: 150891200.0000\n",
            "Epoch 131/300\n",
            "32/32 [==============================] - 0s 3ms/step - loss: 145097984.0000 - val_loss: 150891728.0000\n",
            "Epoch 132/300\n",
            "32/32 [==============================] - 0s 2ms/step - loss: 145096768.0000 - val_loss: 150891840.0000\n",
            "Epoch 133/300\n",
            "32/32 [==============================] - 0s 3ms/step - loss: 145102624.0000 - val_loss: 150891264.0000\n",
            "Epoch 134/300\n",
            "32/32 [==============================] - 0s 2ms/step - loss: 145097984.0000 - val_loss: 150891168.0000\n",
            "Epoch 135/300\n",
            "32/32 [==============================] - 0s 2ms/step - loss: 145100976.0000 - val_loss: 150891264.0000\n",
            "Epoch 136/300\n",
            "32/32 [==============================] - 0s 2ms/step - loss: 145102656.0000 - val_loss: 150891168.0000\n",
            "Epoch 137/300\n",
            "32/32 [==============================] - 0s 3ms/step - loss: 145103616.0000 - val_loss: 150892624.0000\n",
            "Epoch 138/300\n",
            "32/32 [==============================] - 0s 2ms/step - loss: 145104352.0000 - val_loss: 150892736.0000\n",
            "Epoch 139/300\n",
            "32/32 [==============================] - 0s 2ms/step - loss: 145101824.0000 - val_loss: 150893408.0000\n",
            "Epoch 140/300\n",
            "32/32 [==============================] - 0s 3ms/step - loss: 145096464.0000 - val_loss: 150891536.0000\n",
            "Epoch 141/300\n",
            "32/32 [==============================] - 0s 3ms/step - loss: 145097440.0000 - val_loss: 150891600.0000\n",
            "Epoch 142/300\n",
            "32/32 [==============================] - 0s 2ms/step - loss: 145098816.0000 - val_loss: 150891152.0000\n",
            "Epoch 143/300\n",
            "32/32 [==============================] - 0s 2ms/step - loss: 145103104.0000 - val_loss: 150892160.0000\n",
            "Epoch 144/300\n",
            "32/32 [==============================] - 0s 3ms/step - loss: 145096816.0000 - val_loss: 150891136.0000\n",
            "Epoch 145/300\n",
            "32/32 [==============================] - 0s 3ms/step - loss: 145099376.0000 - val_loss: 150891120.0000\n",
            "Epoch 146/300\n",
            "32/32 [==============================] - 0s 3ms/step - loss: 145103264.0000 - val_loss: 150891312.0000\n",
            "Epoch 147/300\n",
            "32/32 [==============================] - 0s 2ms/step - loss: 145108896.0000 - val_loss: 150891488.0000\n",
            "Epoch 148/300\n",
            "32/32 [==============================] - 0s 2ms/step - loss: 145118224.0000 - val_loss: 150893136.0000\n",
            "Epoch 149/300\n",
            "32/32 [==============================] - 0s 2ms/step - loss: 145103136.0000 - val_loss: 150891328.0000\n",
            "Epoch 150/300\n",
            "32/32 [==============================] - 0s 2ms/step - loss: 145094896.0000 - val_loss: 150891328.0000\n",
            "Epoch 151/300\n",
            "32/32 [==============================] - 0s 3ms/step - loss: 145106448.0000 - val_loss: 150891376.0000\n",
            "Epoch 152/300\n",
            "32/32 [==============================] - 0s 2ms/step - loss: 145104304.0000 - val_loss: 150891328.0000\n",
            "Epoch 153/300\n",
            "32/32 [==============================] - 0s 3ms/step - loss: 145098080.0000 - val_loss: 150891680.0000\n",
            "Epoch 154/300\n",
            "32/32 [==============================] - 0s 2ms/step - loss: 145105920.0000 - val_loss: 150891360.0000\n",
            "Epoch 155/300\n",
            "32/32 [==============================] - 0s 2ms/step - loss: 145100768.0000 - val_loss: 150891696.0000\n",
            "Epoch 156/300\n",
            "32/32 [==============================] - 0s 3ms/step - loss: 145105856.0000 - val_loss: 150891968.0000\n",
            "Epoch 157/300\n",
            "32/32 [==============================] - 0s 2ms/step - loss: 145110672.0000 - val_loss: 150891488.0000\n",
            "Epoch 158/300\n",
            "32/32 [==============================] - 0s 2ms/step - loss: 145111824.0000 - val_loss: 150892144.0000\n",
            "Epoch 159/300\n",
            "32/32 [==============================] - 0s 3ms/step - loss: 145100624.0000 - val_loss: 150891328.0000\n",
            "Epoch 160/300\n",
            "32/32 [==============================] - 0s 2ms/step - loss: 145110256.0000 - val_loss: 150892400.0000\n",
            "Epoch 161/300\n",
            "32/32 [==============================] - 0s 3ms/step - loss: 145086208.0000 - val_loss: 150891200.0000\n",
            "Epoch 162/300\n",
            "32/32 [==============================] - 0s 3ms/step - loss: 145096128.0000 - val_loss: 150891840.0000\n",
            "Epoch 163/300\n",
            "32/32 [==============================] - 0s 3ms/step - loss: 145140688.0000 - val_loss: 150895472.0000\n",
            "Epoch 164/300\n",
            "32/32 [==============================] - 0s 2ms/step - loss: 145093696.0000 - val_loss: 150891504.0000\n",
            "Epoch 165/300\n",
            "32/32 [==============================] - 0s 2ms/step - loss: 145108128.0000 - val_loss: 150891152.0000\n",
            "Epoch 166/300\n",
            "32/32 [==============================] - 0s 3ms/step - loss: 145095296.0000 - val_loss: 150891344.0000\n",
            "Epoch 167/300\n",
            "32/32 [==============================] - 0s 3ms/step - loss: 145097344.0000 - val_loss: 150891424.0000\n",
            "Epoch 168/300\n",
            "32/32 [==============================] - 0s 3ms/step - loss: 145100688.0000 - val_loss: 150891200.0000\n",
            "Epoch 169/300\n",
            "32/32 [==============================] - 0s 2ms/step - loss: 145101648.0000 - val_loss: 150891824.0000\n",
            "Epoch 170/300\n",
            "32/32 [==============================] - 0s 2ms/step - loss: 145094000.0000 - val_loss: 150891328.0000\n",
            "Epoch 171/300\n",
            "32/32 [==============================] - 0s 3ms/step - loss: 145105872.0000 - val_loss: 150891168.0000\n",
            "Epoch 172/300\n",
            "32/32 [==============================] - 0s 3ms/step - loss: 145124240.0000 - val_loss: 150893712.0000\n",
            "Epoch 173/300\n",
            "32/32 [==============================] - 0s 2ms/step - loss: 145096624.0000 - val_loss: 150891488.0000\n",
            "Epoch 174/300\n",
            "32/32 [==============================] - 0s 4ms/step - loss: 145100368.0000 - val_loss: 150891120.0000\n",
            "Epoch 175/300\n",
            "32/32 [==============================] - 0s 3ms/step - loss: 145123296.0000 - val_loss: 150891632.0000\n",
            "Epoch 176/300\n",
            "32/32 [==============================] - 0s 2ms/step - loss: 145096880.0000 - val_loss: 150891152.0000\n",
            "Epoch 177/300\n",
            "32/32 [==============================] - 0s 2ms/step - loss: 145103872.0000 - val_loss: 150891504.0000\n",
            "Epoch 178/300\n",
            "32/32 [==============================] - 0s 2ms/step - loss: 145101536.0000 - val_loss: 150892000.0000\n",
            "Epoch 179/300\n",
            "32/32 [==============================] - 0s 2ms/step - loss: 145107152.0000 - val_loss: 150891712.0000\n",
            "Epoch 180/300\n",
            "32/32 [==============================] - 0s 2ms/step - loss: 145095568.0000 - val_loss: 150892784.0000\n",
            "Epoch 181/300\n",
            "32/32 [==============================] - 0s 2ms/step - loss: 145100736.0000 - val_loss: 150891328.0000\n",
            "Epoch 182/300\n",
            "32/32 [==============================] - 0s 2ms/step - loss: 145114304.0000 - val_loss: 150891440.0000\n",
            "Epoch 183/300\n",
            "32/32 [==============================] - 0s 2ms/step - loss: 145109968.0000 - val_loss: 150891424.0000\n",
            "Epoch 184/300\n",
            "32/32 [==============================] - 0s 2ms/step - loss: 145093264.0000 - val_loss: 150891152.0000\n",
            "Epoch 185/300\n",
            "32/32 [==============================] - 0s 3ms/step - loss: 145097472.0000 - val_loss: 150891168.0000\n",
            "Epoch 186/300\n",
            "32/32 [==============================] - 0s 2ms/step - loss: 145095696.0000 - val_loss: 150891136.0000\n",
            "Epoch 187/300\n",
            "32/32 [==============================] - 0s 2ms/step - loss: 145094032.0000 - val_loss: 150891152.0000\n",
            "Epoch 188/300\n",
            "32/32 [==============================] - 0s 3ms/step - loss: 145099456.0000 - val_loss: 150891584.0000\n",
            "Epoch 189/300\n",
            "32/32 [==============================] - 0s 2ms/step - loss: 145091664.0000 - val_loss: 150891152.0000\n",
            "Epoch 190/300\n",
            "32/32 [==============================] - 0s 3ms/step - loss: 145098400.0000 - val_loss: 150891136.0000\n",
            "Epoch 191/300\n",
            "32/32 [==============================] - 0s 3ms/step - loss: 145111456.0000 - val_loss: 150891408.0000\n",
            "Epoch 192/300\n",
            "32/32 [==============================] - 0s 2ms/step - loss: 145098592.0000 - val_loss: 150891488.0000\n",
            "Epoch 193/300\n",
            "32/32 [==============================] - 0s 2ms/step - loss: 145107744.0000 - val_loss: 150891184.0000\n",
            "Epoch 194/300\n",
            "32/32 [==============================] - 0s 3ms/step - loss: 145110368.0000 - val_loss: 150892608.0000\n",
            "Epoch 195/300\n",
            "32/32 [==============================] - 0s 3ms/step - loss: 145102064.0000 - val_loss: 150891200.0000\n",
            "Epoch 196/300\n",
            "32/32 [==============================] - 0s 2ms/step - loss: 145099088.0000 - val_loss: 150891152.0000\n",
            "Epoch 197/300\n",
            "32/32 [==============================] - 0s 3ms/step - loss: 145111520.0000 - val_loss: 150891456.0000\n",
            "Epoch 198/300\n",
            "32/32 [==============================] - 0s 3ms/step - loss: 145099376.0000 - val_loss: 150891312.0000\n",
            "Epoch 199/300\n",
            "32/32 [==============================] - 0s 3ms/step - loss: 145101824.0000 - val_loss: 150891632.0000\n",
            "Epoch 200/300\n",
            "32/32 [==============================] - 0s 3ms/step - loss: 145102528.0000 - val_loss: 150892032.0000\n",
            "Epoch 201/300\n",
            "32/32 [==============================] - 0s 2ms/step - loss: 145098112.0000 - val_loss: 150892000.0000\n",
            "Epoch 202/300\n",
            "32/32 [==============================] - 0s 3ms/step - loss: 145101184.0000 - val_loss: 150892000.0000\n",
            "Epoch 203/300\n",
            "32/32 [==============================] - 0s 2ms/step - loss: 145119696.0000 - val_loss: 150894992.0000\n",
            "Epoch 204/300\n",
            "32/32 [==============================] - 0s 2ms/step - loss: 145099600.0000 - val_loss: 150893200.0000\n",
            "Epoch 205/300\n",
            "32/32 [==============================] - 0s 3ms/step - loss: 145103248.0000 - val_loss: 150894336.0000\n",
            "Epoch 206/300\n",
            "32/32 [==============================] - 0s 3ms/step - loss: 145098304.0000 - val_loss: 150894528.0000\n",
            "Epoch 207/300\n",
            "32/32 [==============================] - 0s 3ms/step - loss: 145114848.0000 - val_loss: 150892256.0000\n",
            "Epoch 208/300\n",
            "32/32 [==============================] - 0s 3ms/step - loss: 145097920.0000 - val_loss: 150893904.0000\n",
            "Epoch 209/300\n",
            "32/32 [==============================] - 0s 3ms/step - loss: 145111648.0000 - val_loss: 150891280.0000\n",
            "Epoch 210/300\n",
            "32/32 [==============================] - 0s 3ms/step - loss: 145097504.0000 - val_loss: 150892096.0000\n",
            "Epoch 211/300\n",
            "32/32 [==============================] - 0s 2ms/step - loss: 145106528.0000 - val_loss: 150893552.0000\n",
            "Epoch 212/300\n",
            "32/32 [==============================] - 0s 2ms/step - loss: 145098304.0000 - val_loss: 150891280.0000\n",
            "Epoch 213/300\n",
            "32/32 [==============================] - 0s 3ms/step - loss: 145124704.0000 - val_loss: 150891136.0000\n",
            "Epoch 214/300\n",
            "32/32 [==============================] - 0s 2ms/step - loss: 145093616.0000 - val_loss: 150891216.0000\n",
            "Epoch 215/300\n",
            "32/32 [==============================] - 0s 3ms/step - loss: 145098464.0000 - val_loss: 150891216.0000\n",
            "Epoch 216/300\n",
            "32/32 [==============================] - 0s 3ms/step - loss: 145098048.0000 - val_loss: 150891184.0000\n",
            "Epoch 217/300\n",
            "32/32 [==============================] - 0s 3ms/step - loss: 145094992.0000 - val_loss: 150891184.0000\n",
            "Epoch 218/300\n",
            "32/32 [==============================] - 0s 3ms/step - loss: 145109424.0000 - val_loss: 150891168.0000\n",
            "Epoch 219/300\n",
            "32/32 [==============================] - 0s 3ms/step - loss: 145092800.0000 - val_loss: 150891376.0000\n",
            "Epoch 220/300\n",
            "32/32 [==============================] - 0s 3ms/step - loss: 145104880.0000 - val_loss: 150893296.0000\n",
            "Epoch 221/300\n",
            "32/32 [==============================] - 0s 3ms/step - loss: 145100240.0000 - val_loss: 150892576.0000\n",
            "Epoch 222/300\n",
            "32/32 [==============================] - 0s 2ms/step - loss: 145099568.0000 - val_loss: 150891472.0000\n",
            "Epoch 223/300\n",
            "32/32 [==============================] - 0s 2ms/step - loss: 145102128.0000 - val_loss: 150891552.0000\n",
            "Epoch 224/300\n",
            "32/32 [==============================] - 0s 3ms/step - loss: 145109472.0000 - val_loss: 150891264.0000\n",
            "Epoch 225/300\n",
            "32/32 [==============================] - 0s 3ms/step - loss: 145107152.0000 - val_loss: 150893776.0000\n",
            "Epoch 226/300\n",
            "32/32 [==============================] - 0s 3ms/step - loss: 145101152.0000 - val_loss: 150892848.0000\n",
            "Epoch 227/300\n",
            "32/32 [==============================] - 0s 2ms/step - loss: 145102576.0000 - val_loss: 150892336.0000\n",
            "Epoch 228/300\n",
            "32/32 [==============================] - 0s 3ms/step - loss: 145109792.0000 - val_loss: 150893856.0000\n",
            "Epoch 229/300\n",
            "32/32 [==============================] - 0s 2ms/step - loss: 145113056.0000 - val_loss: 150891520.0000\n",
            "Epoch 230/300\n",
            "32/32 [==============================] - 0s 3ms/step - loss: 145120416.0000 - val_loss: 150891280.0000\n",
            "Epoch 231/300\n",
            "32/32 [==============================] - 0s 2ms/step - loss: 145101376.0000 - val_loss: 150891232.0000\n",
            "Epoch 232/300\n",
            "32/32 [==============================] - 0s 3ms/step - loss: 145097952.0000 - val_loss: 150891376.0000\n",
            "Epoch 233/300\n",
            "32/32 [==============================] - 0s 3ms/step - loss: 145115392.0000 - val_loss: 150892416.0000\n",
            "Epoch 234/300\n",
            "32/32 [==============================] - 0s 3ms/step - loss: 145100512.0000 - val_loss: 150891744.0000\n",
            "Epoch 235/300\n",
            "32/32 [==============================] - 0s 2ms/step - loss: 145096512.0000 - val_loss: 150891296.0000\n",
            "Epoch 236/300\n",
            "32/32 [==============================] - 0s 2ms/step - loss: 145105568.0000 - val_loss: 150891920.0000\n",
            "Epoch 237/300\n",
            "32/32 [==============================] - 0s 2ms/step - loss: 145103184.0000 - val_loss: 150891152.0000\n",
            "Epoch 238/300\n",
            "32/32 [==============================] - 0s 3ms/step - loss: 145096720.0000 - val_loss: 150891232.0000\n",
            "Epoch 239/300\n",
            "32/32 [==============================] - 0s 2ms/step - loss: 145132016.0000 - val_loss: 150891744.0000\n",
            "Epoch 240/300\n",
            "32/32 [==============================] - 0s 2ms/step - loss: 145111072.0000 - val_loss: 150894128.0000\n",
            "Epoch 241/300\n",
            "32/32 [==============================] - 0s 3ms/step - loss: 145100352.0000 - val_loss: 150892416.0000\n",
            "Epoch 242/300\n",
            "32/32 [==============================] - 0s 2ms/step - loss: 145107456.0000 - val_loss: 150896256.0000\n",
            "Epoch 243/300\n",
            "32/32 [==============================] - 0s 2ms/step - loss: 145091744.0000 - val_loss: 150892464.0000\n",
            "Epoch 244/300\n",
            "32/32 [==============================] - 0s 2ms/step - loss: 145108928.0000 - val_loss: 150893296.0000\n",
            "Epoch 245/300\n",
            "32/32 [==============================] - 0s 3ms/step - loss: 145093648.0000 - val_loss: 150891440.0000\n",
            "Epoch 246/300\n",
            "32/32 [==============================] - 0s 3ms/step - loss: 145099872.0000 - val_loss: 150891856.0000\n",
            "Epoch 247/300\n",
            "32/32 [==============================] - 0s 3ms/step - loss: 145096848.0000 - val_loss: 150891696.0000\n",
            "Epoch 248/300\n",
            "32/32 [==============================] - 0s 3ms/step - loss: 145103152.0000 - val_loss: 150891888.0000\n",
            "Epoch 249/300\n",
            "32/32 [==============================] - 0s 3ms/step - loss: 145098944.0000 - val_loss: 150891776.0000\n",
            "Epoch 250/300\n",
            "32/32 [==============================] - 0s 2ms/step - loss: 145100800.0000 - val_loss: 150891344.0000\n",
            "Epoch 251/300\n",
            "32/32 [==============================] - 0s 2ms/step - loss: 145138352.0000 - val_loss: 150894800.0000\n",
            "Epoch 252/300\n",
            "32/32 [==============================] - 0s 2ms/step - loss: 145102320.0000 - val_loss: 150891136.0000\n",
            "Epoch 253/300\n",
            "32/32 [==============================] - 0s 3ms/step - loss: 145096720.0000 - val_loss: 150891168.0000\n",
            "Epoch 254/300\n",
            "32/32 [==============================] - 0s 4ms/step - loss: 145099328.0000 - val_loss: 150891648.0000\n",
            "Epoch 255/300\n",
            "32/32 [==============================] - 0s 3ms/step - loss: 145104016.0000 - val_loss: 150891296.0000\n",
            "Epoch 256/300\n",
            "32/32 [==============================] - 0s 3ms/step - loss: 145099328.0000 - val_loss: 150891168.0000\n",
            "Epoch 257/300\n",
            "32/32 [==============================] - 0s 3ms/step - loss: 145110288.0000 - val_loss: 150891296.0000\n",
            "Epoch 258/300\n",
            "32/32 [==============================] - 0s 3ms/step - loss: 145108400.0000 - val_loss: 150891184.0000\n",
            "Epoch 259/300\n",
            "32/32 [==============================] - 0s 2ms/step - loss: 145104064.0000 - val_loss: 150892208.0000\n",
            "Epoch 260/300\n",
            "32/32 [==============================] - 0s 2ms/step - loss: 145098816.0000 - val_loss: 150891152.0000\n",
            "Epoch 261/300\n",
            "32/32 [==============================] - 0s 3ms/step - loss: 145094144.0000 - val_loss: 150891152.0000\n",
            "Epoch 262/300\n",
            "32/32 [==============================] - 0s 2ms/step - loss: 145095152.0000 - val_loss: 150891152.0000\n",
            "Epoch 263/300\n",
            "32/32 [==============================] - 0s 3ms/step - loss: 145106432.0000 - val_loss: 150891888.0000\n",
            "Epoch 264/300\n",
            "32/32 [==============================] - 0s 2ms/step - loss: 145102416.0000 - val_loss: 150891216.0000\n",
            "Epoch 265/300\n",
            "32/32 [==============================] - 0s 3ms/step - loss: 145137776.0000 - val_loss: 150891360.0000\n",
            "Epoch 266/300\n",
            "32/32 [==============================] - 0s 2ms/step - loss: 145097888.0000 - val_loss: 150891584.0000\n",
            "Epoch 267/300\n",
            "32/32 [==============================] - 0s 3ms/step - loss: 145097328.0000 - val_loss: 150891216.0000\n",
            "Epoch 268/300\n",
            "32/32 [==============================] - 0s 2ms/step - loss: 145095888.0000 - val_loss: 150891568.0000\n",
            "Epoch 269/300\n",
            "32/32 [==============================] - 0s 3ms/step - loss: 145098736.0000 - val_loss: 150891168.0000\n",
            "Epoch 270/300\n",
            "32/32 [==============================] - 0s 3ms/step - loss: 145106896.0000 - val_loss: 150891152.0000\n",
            "Epoch 271/300\n",
            "32/32 [==============================] - 0s 2ms/step - loss: 145107040.0000 - val_loss: 150891296.0000\n",
            "Epoch 272/300\n",
            "32/32 [==============================] - 0s 3ms/step - loss: 145096832.0000 - val_loss: 150891280.0000\n",
            "Epoch 273/300\n",
            "32/32 [==============================] - 0s 2ms/step - loss: 145097376.0000 - val_loss: 150891744.0000\n",
            "Epoch 274/300\n",
            "32/32 [==============================] - 0s 2ms/step - loss: 145096352.0000 - val_loss: 150891248.0000\n",
            "Epoch 275/300\n",
            "32/32 [==============================] - 0s 2ms/step - loss: 145117696.0000 - val_loss: 150891824.0000\n",
            "Epoch 276/300\n",
            "32/32 [==============================] - 0s 3ms/step - loss: 145090432.0000 - val_loss: 150891344.0000\n",
            "Epoch 277/300\n",
            "32/32 [==============================] - 0s 2ms/step - loss: 145114304.0000 - val_loss: 150891872.0000\n",
            "Epoch 278/300\n",
            "32/32 [==============================] - 0s 2ms/step - loss: 145099280.0000 - val_loss: 150891184.0000\n",
            "Epoch 279/300\n",
            "32/32 [==============================] - 0s 2ms/step - loss: 145100688.0000 - val_loss: 150891200.0000\n",
            "Epoch 280/300\n",
            "32/32 [==============================] - 0s 3ms/step - loss: 145118512.0000 - val_loss: 150891168.0000\n",
            "Epoch 281/300\n",
            "32/32 [==============================] - 0s 3ms/step - loss: 145104368.0000 - val_loss: 150891744.0000\n",
            "Epoch 282/300\n",
            "32/32 [==============================] - 0s 3ms/step - loss: 145113904.0000 - val_loss: 150891216.0000\n",
            "Epoch 283/300\n",
            "32/32 [==============================] - 0s 3ms/step - loss: 145099072.0000 - val_loss: 150893152.0000\n",
            "Epoch 284/300\n",
            "32/32 [==============================] - 0s 3ms/step - loss: 145104208.0000 - val_loss: 150892432.0000\n",
            "Epoch 285/300\n",
            "32/32 [==============================] - 0s 2ms/step - loss: 145100256.0000 - val_loss: 150893632.0000\n",
            "Epoch 286/300\n",
            "32/32 [==============================] - 0s 3ms/step - loss: 145107120.0000 - val_loss: 150892976.0000\n",
            "Epoch 287/300\n",
            "32/32 [==============================] - 0s 3ms/step - loss: 145099088.0000 - val_loss: 150891680.0000\n",
            "Epoch 288/300\n",
            "32/32 [==============================] - 0s 2ms/step - loss: 145105200.0000 - val_loss: 150891536.0000\n",
            "Epoch 289/300\n",
            "32/32 [==============================] - 0s 3ms/step - loss: 145101008.0000 - val_loss: 150893120.0000\n",
            "Epoch 290/300\n",
            "32/32 [==============================] - 0s 3ms/step - loss: 145096176.0000 - val_loss: 150891456.0000\n",
            "Epoch 291/300\n",
            "32/32 [==============================] - 0s 2ms/step - loss: 145093040.0000 - val_loss: 150891136.0000\n",
            "Epoch 292/300\n",
            "32/32 [==============================] - 0s 3ms/step - loss: 145098320.0000 - val_loss: 150891856.0000\n",
            "Epoch 293/300\n",
            "32/32 [==============================] - 0s 2ms/step - loss: 145102896.0000 - val_loss: 150891424.0000\n",
            "Epoch 294/300\n",
            "32/32 [==============================] - 0s 3ms/step - loss: 145095024.0000 - val_loss: 150892112.0000\n",
            "Epoch 295/300\n",
            "32/32 [==============================] - 0s 2ms/step - loss: 145094352.0000 - val_loss: 150891632.0000\n",
            "Epoch 296/300\n",
            "32/32 [==============================] - 0s 3ms/step - loss: 145113024.0000 - val_loss: 150892672.0000\n",
            "Epoch 297/300\n",
            "32/32 [==============================] - 0s 3ms/step - loss: 145103712.0000 - val_loss: 150894848.0000\n",
            "Epoch 298/300\n",
            "32/32 [==============================] - 0s 2ms/step - loss: 145141824.0000 - val_loss: 150891120.0000\n",
            "Epoch 299/300\n",
            "32/32 [==============================] - 0s 2ms/step - loss: 145107136.0000 - val_loss: 150891952.0000\n",
            "Epoch 300/300\n",
            "32/32 [==============================] - 0s 3ms/step - loss: 145101280.0000 - val_loss: 150891616.0000\n"
          ],
          "name": "stdout"
        }
      ]
    },
    {
      "cell_type": "code",
      "metadata": {
        "colab": {
          "base_uri": "https://localhost:8080/",
          "height": 276
        },
        "id": "Ge9Yf60RM3el",
        "outputId": "07447080-0ddb-413c-87af-8467b832625e"
      },
      "source": [
        "plt.plot(history.history['loss'], label='Train loss')\n",
        "plt.plot(history.history['val_loss'], label='Test Loss')\n",
        "plt.legend();"
      ],
      "execution_count": 93,
      "outputs": [
        {
          "output_type": "display_data",
          "data": {
            "image/png": "[encoded data removed]",
            "text/plain": [
              "<Figure size 432x288 with 1 Axes>"
            ]
          },
          "metadata": {
            "needs_background": "light"
          }
        }
      ]
    }
  ]
}